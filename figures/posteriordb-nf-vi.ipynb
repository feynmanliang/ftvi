{
 "cells": [
  {
   "cell_type": "code",
   "execution_count": 2,
   "id": "fancy-match",
   "metadata": {},
   "outputs": [],
   "source": [
    "%load_ext autoreload\n",
    "%autoreload 2"
   ]
  },
  {
   "cell_type": "markdown",
   "id": "virtual-wheel",
   "metadata": {},
   "source": [
    "Load eight schools data from posteriordb"
   ]
  },
  {
   "cell_type": "code",
   "execution_count": 3,
   "id": "initial-portrait",
   "metadata": {},
   "outputs": [],
   "source": [
    "from posteriordb import PosteriorDatabase\n",
    "\n",
    "pdb_path = \"/workspaces/jupyter-data/posteriordb/posterior_database/\"\n",
    "my_pdb = PosteriorDatabase(pdb_path)"
   ]
  },
  {
   "cell_type": "code",
   "execution_count": 4,
   "id": "handled-newspaper",
   "metadata": {},
   "outputs": [
    {
     "data": {
      "text/plain": [
       "{'arK',\n",
       " 'diamonds',\n",
       " 'dogs',\n",
       " 'gp_pois_regr',\n",
       " 'hmm_example',\n",
       " 'irt_2pl',\n",
       " 'low_dim_gauss_mix',\n",
       " 'low_dim_gauss_mix_collapse',\n",
       " 'mesquite',\n",
       " 'one_comp_mm_elim_abs',\n",
       " 'pilots',\n",
       " 'sir'}"
      ]
     },
     "execution_count": 4,
     "metadata": {},
     "output_type": "execute_result"
    }
   ],
   "source": [
    "set(my_pdb.dataset_names()) & set(my_pdb.model_names())"
   ]
  },
  {
   "cell_type": "markdown",
   "id": "printable-emergency",
   "metadata": {
    "tags": []
   },
   "source": [
    "# Diamonds"
   ]
  },
  {
   "cell_type": "code",
   "execution_count": 4,
   "id": "intense-delhi",
   "metadata": {},
   "outputs": [],
   "source": [
    "model_name = \"diamonds\"\n",
    "model = my_pdb.model(model_name)\n",
    "data = my_pdb.data(model_name)"
   ]
  },
  {
   "cell_type": "code",
   "execution_count": 5,
   "id": "rental-alliance",
   "metadata": {},
   "outputs": [
    {
     "name": "stdout",
     "output_type": "stream",
     "text": [
      "// generated with brms 2.10.0\n",
      "\n",
      "functions {\n",
      "}\n",
      "data {\n",
      "  int<lower=1> N;  // number of observations\n",
      "  vector[N] Y;  // response variable\n",
      "  int<lower=1> K;  // number of population-level effects\n",
      "  matrix[N, K] X;  // population-level design matrix\n",
      "  int prior_only;  // should the likelihood be ignored?\n",
      "}\n",
      "transformed data {\n",
      "  int Kc = K - 1;\n",
      "  matrix[N, Kc] Xc;  // centered version of X without an intercept\n",
      "  vector[Kc] means_X;  // column means of X before centering\n",
      "  for (i in 2:K) {\n",
      "    means_X[i - 1] = mean(X[, i]);\n",
      "    Xc[, i - 1] = X[, i] - means_X[i - 1];\n",
      "  }\n",
      "}\n",
      "parameters {\n",
      "  vector[Kc] b;  // population-level effects\n",
      "  // temporary intercept for centered predictors\n",
      "  real Intercept;\n",
      "  real<lower=0> sigma;  // residual SD\n",
      "}\n",
      "transformed parameters {\n",
      "}\n",
      "model {\n",
      "  // priors including all constants\n",
      "  target += normal_lpdf(b | 0, 1);\n",
      "  target += student_t_lpdf(Intercept | 3, 8, 10);\n",
      "  target += student_t_lpdf(sigma | 3, 0, 10)\n",
      "    - 1 * student_t_lccdf(0 | 3, 0, 10);\n",
      "  // likelihood including all constants\n",
      "  if (!prior_only) {\n",
      "    target += normal_id_glm_lpdf(Y | Xc, Intercept, b, sigma);\n",
      "  }\n",
      "}\n",
      "generated quantities {\n",
      "  // actual population-level intercept\n",
      "  real b_Intercept = Intercept - dot_product(means_X, b);\n",
      "}\n",
      "\n"
     ]
    }
   ],
   "source": [
    "print(model.stan_code())"
   ]
  },
  {
   "cell_type": "code",
   "execution_count": 6,
   "id": "blessed-behavior",
   "metadata": {},
   "outputs": [],
   "source": [
    "import torch\n",
    "import torch.distributions as dist\n",
    "\n",
    "import beanmachine.ppl as bm\n",
    "import beanmachine.ppl.distribution.flat\n",
    "\n",
    "\n",
    "@bm.random_variable\n",
    "def N():\n",
    "    return beanmachine.ppl.distribution.flat.Flat([])\n",
    "\n",
    "\n",
    "@bm.random_variable\n",
    "def k():\n",
    "    return beanmachine.ppl.distribution.flat.Flat([])\n",
    "\n",
    "\n",
    "@bm.random_variable\n",
    "def x():\n",
    "    return beanmachine.ppl.distribution.flat.Flat((5000, 25))\n",
    "\n",
    "\n",
    "@bm.random_variable\n",
    "def beta():\n",
    "    return dist.Independent(\n",
    "        dist.Normal(\n",
    "            torch.zeros(k().int().item() - 1), torch.ones(k().int().item() - 1)\n",
    "        ),\n",
    "        1,\n",
    "    )\n",
    "\n",
    "\n",
    "@bm.random_variable\n",
    "def alpha():\n",
    "    return dist.StudentT(df=3, loc=8, scale=10)\n",
    "\n",
    "\n",
    "@bm.random_variable\n",
    "def sigma():\n",
    "    return dist.HalfCauchy(scale=10)\n",
    "\n",
    "\n",
    "@bm.random_variable\n",
    "def y():\n",
    "    return dist.Independent(dist.Normal(alpha() + x() @ beta().T, sigma()), 1)"
   ]
  },
  {
   "cell_type": "code",
   "execution_count": 7,
   "id": "filled-audience",
   "metadata": {
    "tags": []
   },
   "outputs": [
    {
     "name": "stdout",
     "output_type": "stream",
     "text": [
      "/workspaces/jupyter-data/logdir/May26_16-24-53_diamonds_MAF_lr=0.001\n"
     ]
    },
    {
     "data": {
      "application/vnd.jupyter.widget-view+json": {
       "model_id": "514aa98122054941bbecd7e19cad84aa",
       "version_major": 2,
       "version_minor": 0
      },
      "text/plain": [
       "HBox(children=(HTML(value=''), FloatProgress(value=0.0, max=10001.0), HTML(value='')))"
      ]
     },
     "metadata": {},
     "output_type": "display_data"
    },
    {
     "name": "stderr",
     "output_type": "stream",
     "text": [
      "/workspaces/jupyter-data/flowtorch/flowtorch/params/dense_autoregressive.py:160: UserWarning: DenseAutoregressive input_dim = 1. Consider using an affine transformation instead.\n",
      "  warnings.warn(\n"
     ]
    },
    {
     "name": "stdout",
     "output_type": "stream",
     "text": [
      "Loss: tensor([190.9803], grad_fn=<SubBackward0>)\n",
      "/workspaces/jupyter-data/logdir/May26_17-08-16_diamonds_MAF_HT_lr=0.001\n"
     ]
    },
    {
     "data": {
      "application/vnd.jupyter.widget-view+json": {
       "model_id": "82354008f5b34d82bea8aff99feb3411",
       "version_major": 2,
       "version_minor": 0
      },
      "text/plain": [
       "HBox(children=(HTML(value=''), FloatProgress(value=0.0, max=10001.0), HTML(value='')))"
      ]
     },
     "metadata": {},
     "output_type": "display_data"
    },
    {
     "name": "stdout",
     "output_type": "stream",
     "text": [
      "Loss: tensor([210.2149], grad_fn=<SubBackward0>))>)\n",
      "/workspaces/jupyter-data/logdir/May26_17-53-59_diamonds_MAF-2L_lr=0.001\n"
     ]
    },
    {
     "data": {
      "application/vnd.jupyter.widget-view+json": {
       "model_id": "f388622f48a44abfacf5b3de141a95ef",
       "version_major": 2,
       "version_minor": 0
      },
      "text/plain": [
       "HBox(children=(HTML(value=''), FloatProgress(value=0.0, max=10001.0), HTML(value='')))"
      ]
     },
     "metadata": {},
     "output_type": "display_data"
    },
    {
     "name": "stdout",
     "output_type": "stream",
     "text": [
      "Loss: tensor([198.0389], grad_fn=<SubBackward0>)>)\n",
      "/workspaces/jupyter-data/logdir/May26_18-49-32_diamonds_MAF-2L_HT_lr=0.001\n"
     ]
    },
    {
     "data": {
      "application/vnd.jupyter.widget-view+json": {
       "model_id": "93df34a565104af8963e4e33ea250dec",
       "version_major": 2,
       "version_minor": 0
      },
      "text/plain": [
       "HBox(children=(HTML(value=''), FloatProgress(value=0.0, max=10001.0), HTML(value='')))"
      ]
     },
     "metadata": {},
     "output_type": "display_data"
    },
    {
     "name": "stdout",
     "output_type": "stream",
     "text": [
      "Loss: tensor([221.0941], grad_fn=<SubBackward0>)d0>)\n",
      "/workspaces/jupyter-data/logdir/May26_19-46-23_diamonds_MAF-3L_lr=0.001\n"
     ]
    },
    {
     "data": {
      "application/vnd.jupyter.widget-view+json": {
       "model_id": "7ac851c407df4f17b17aabae66365c42",
       "version_major": 2,
       "version_minor": 0
      },
      "text/plain": [
       "HBox(children=(HTML(value=''), FloatProgress(value=0.0, max=10001.0), HTML(value='')))"
      ]
     },
     "metadata": {},
     "output_type": "display_data"
    },
    {
     "name": "stdout",
     "output_type": "stream",
     "text": [
      "Loss: tensor([207.1049], grad_fn=<SubBackward0>)d0>)\n",
      "/workspaces/jupyter-data/logdir/May26_20-51-08_diamonds_MAF-3L_HT_lr=0.001\n"
     ]
    },
    {
     "data": {
      "application/vnd.jupyter.widget-view+json": {
       "model_id": "0b2ce816af7147e6b1d9930c8ff05d96",
       "version_major": 2,
       "version_minor": 0
      },
      "text/plain": [
       "HBox(children=(HTML(value=''), FloatProgress(value=0.0, max=10001.0), HTML(value='')))"
      ]
     },
     "metadata": {},
     "output_type": "display_data"
    },
    {
     "name": "stdout",
     "output_type": "stream",
     "text": [
      "Loss: tensor([204.8841], grad_fn=<SubBackward0>)0>)\n",
      "/workspaces/jupyter-data/logdir/May26_21-57-16_diamonds_ADVI_lr=0.001\n"
     ]
    },
    {
     "data": {
      "application/vnd.jupyter.widget-view+json": {
       "model_id": "751f0806fb294b619e144c4511816fed",
       "version_major": 2,
       "version_minor": 0
      },
      "text/plain": [
       "HBox(children=(HTML(value=''), FloatProgress(value=0.0, max=10001.0), HTML(value='')))"
      ]
     },
     "metadata": {},
     "output_type": "display_data"
    },
    {
     "name": "stdout",
     "output_type": "stream",
     "text": [
      "Loss: tensor([396.3325], grad_fn=<SubBackward0>)))))\n",
      "/workspaces/jupyter-data/logdir/May26_22-36-07_diamonds_ADVI_HT_lr=0.001\n"
     ]
    },
    {
     "data": {
      "application/vnd.jupyter.widget-view+json": {
       "model_id": "0852325a600a4cfc82e314347d650a8c",
       "version_major": 2,
       "version_minor": 0
      },
      "text/plain": [
       "HBox(children=(HTML(value=''), FloatProgress(value=0.0, max=10001.0), HTML(value='')))"
      ]
     },
     "metadata": {},
     "output_type": "display_data"
    },
    {
     "name": "stdout",
     "output_type": "stream",
     "text": [
      "Loss: tensor([404.2834], grad_fn=<SubBackward0>)))))\n"
     ]
    }
   ],
   "source": [
    "import os\n",
    "from datetime import datetime, timedelta, timezone\n",
    "\n",
    "import numpy as np\n",
    "import torch.nn as nn\n",
    "from torch.utils.tensorboard import SummaryWriter\n",
    "from tqdm.auto import tqdm\n",
    "\n",
    "import flowtorch.bijectors\n",
    "from beanmachine.ppl.experimental.vi.variational_infer import (\n",
    "    MeanFieldVariationalInference,\n",
    ")\n",
    "from beanmachine.ppl.world import World\n",
    "\n",
    "queries = [alpha(), beta(), sigma()]\n",
    "obs = {\n",
    "    y(): torch.tensor(data.values()[\"Y\"]),\n",
    "    N(): torch.tensor(data.values()[\"N\"]).float(),\n",
    "    k(): torch.tensor(data.values()[\"K\"]).float(),\n",
    "    x(): (\n",
    "        torch.tensor(data.values()[\"X\"]) - torch.tensor(data.values()[\"X\"]).mean(dim=0)\n",
    "    )[:, 1:],\n",
    "}\n",
    "\n",
    "\n",
    "def y_marginal(vi_dicts, num_samples=100):\n",
    "    y_rvid = y()\n",
    "    probs = []\n",
    "    for _ in range(num_samples):\n",
    "        with World() as w:\n",
    "            w.vi_dicts = vi_dicts\n",
    "            w.observations_ = obs\n",
    "\n",
    "            for rvid in queries + list(obs.keys()):\n",
    "                w.call(rvid)\n",
    "            probs.append(w.get_node_in_world(y_rvid).log_prob.item())\n",
    "    return np.array(probs).mean()\n",
    "\n",
    "\n",
    "def on_iter(it, _, loss, vi_dicts):\n",
    "    if it % 10 == 0:\n",
    "        tqdm.write(f\"Loss: {loss}\", end='')\n",
    "        writer.add_scalar(\"ELBO\", -loss, global_step=it)\n",
    "        writer.add_scalar(\"y_marginal\", y_marginal(vi_dicts), global_step=it)\n",
    "        try:\n",
    "            writer.add_scalars(\n",
    "                \"beta() DoF\", \n",
    "                {\n",
    "                    f\"beta_{k}\":v\n",
    "                    for k, v in enumerate(vi_dicts(beta()).new_dist.base_dist.base_dist.df)\n",
    "                }, \n",
    "                global_step=it)\n",
    "        except AttributeError as e:\n",
    "            #raise e\n",
    "            pass\n",
    "\n",
    "for name, flow in [\n",
    "    (\"MAF\", lambda: flowtorch.bijectors.AffineAutoregressive()),\n",
    "    #(\"IAF\", lambda: flowtorch.bijectors.AffineAutoregressive().inv()),\n",
    "    (\"MAF-2L\", lambda: flowtorch.bijectors.Compose([\n",
    "        flowtorch.bijectors.AffineAutoregressive(),\n",
    "        flowtorch.bijectors.AffineAutoregressive(),\n",
    "    ])),\n",
    "    (\"MAF-3L\", lambda: flowtorch.bijectors.Compose([\n",
    "        flowtorch.bijectors.AffineAutoregressive(),\n",
    "        flowtorch.bijectors.AffineAutoregressive(),\n",
    "        flowtorch.bijectors.AffineAutoregressive(),\n",
    "    ])),\n",
    "    (\"ADVI\", lambda: flowtorch.bijectors.Compose([])),\n",
    "]:\n",
    "#     for ht in ['HT']:\n",
    "    for ht in ['', 'HT']:\n",
    "        if ht == 'HT':\n",
    "            name += '_HT'\n",
    "            \n",
    "        for trial in range(1):\n",
    "            lr = 1e-3\n",
    "            current_time = datetime.now(timezone(timedelta(hours=-8))).strftime(\"%b%d_%H-%M-%S\")\n",
    "            rundir = f\"{current_time}_{model_name}_{name}_lr={lr}\"\n",
    "            logdir = os.path.join(\"/workspaces/jupyter-data/logdir\", rundir)\n",
    "            writer = SummaryWriter(log_dir=logdir)\n",
    "            print(logdir)\n",
    "\n",
    "            batch_size = 10\n",
    "            vi_dicts = None\n",
    "            for epoch in tqdm(range(10001)):\n",
    "                idx = epoch * batch_size % len(data.values()[\"Y\"])\n",
    "                kwargs = {}\n",
    "                if ht == 'HT':\n",
    "                    kwargs = {\n",
    "                        'base_dist': dist.StudentT,\n",
    "                        'base_args': {\n",
    "                            'df': nn.Parameter(torch.tensor([50.0]).log()),\n",
    "                            'loc': nn.Parameter(torch.tensor([0.0])),\n",
    "                            'scale': nn.Parameter(torch.tensor([1.0])),\n",
    "                        }\n",
    "                    }\n",
    "                vi_dicts = MeanFieldVariationalInference().infer(\n",
    "                    queries=queries,\n",
    "                    observations={\n",
    "                        y(): torch.tensor(data.values()[\"Y\"][idx:idx+batch_size]),\n",
    "                        N(): torch.tensor(data.values()[\"N\"]).float(),\n",
    "                        k(): torch.tensor(data.values()[\"K\"]).float(),\n",
    "                        x(): (\n",
    "                            torch.tensor(data.values()[\"X\"][idx:idx+batch_size]) - torch.tensor(data.values()[\"X\"]).mean(dim=0)\n",
    "                        )[:, 1:],\n",
    "                    },\n",
    "                    num_iter=1,\n",
    "                    on_iter=lambda _, loss, vid: on_iter(epoch, _, loss, vid),\n",
    "                    lr=lr,\n",
    "                    num_elbo_mc_samples=1,\n",
    "                    flow=flow,\n",
    "                    vi_dicts = vi_dicts,\n",
    "                    **kwargs\n",
    "                )\n",
    "            writer.close()"
   ]
  },
  {
   "cell_type": "code",
   "execution_count": 9,
   "id": "regulated-testimony",
   "metadata": {},
   "outputs": [],
   "source": [
    "import glob\n",
    "\n",
    "import pandas as pd\n",
    "import tensorflow as tf\n",
    "from tensorflow.python.summary.summary_iterator import summary_iterator\n",
    "\n",
    "data = []\n",
    "for summary_path in glob.glob('./logdir/*/events.out.tfevents.*'):\n",
    "    if not \"diamonds\" in summary_path:\n",
    "        continue\n",
    "    name = '_'.join(summary_path.split('/')[2].split('_')[2:5])\n",
    "    if '_HT' not in name:\n",
    "        name = '_'.join(name.split('_')[:-1])\n",
    "    dataset, name = name.split('_')[0], '_'.join(name.split('_')[1:])\n",
    "    for event in summary_iterator(summary_path):\n",
    "        if event.step != 10000:\n",
    "            continue\n",
    "        data.append({\n",
    "            'name': name,\n",
    "            'dataset': dataset,\n",
    "            'step': 10000,\n",
    "            'tag': event.summary.value[0].tag,\n",
    "            'value': event.summary.value[0].simple_value,\n",
    "        })\n",
    "df = pd.DataFrame(data)"
   ]
  },
  {
   "cell_type": "code",
   "execution_count": 10,
   "id": "important-salvation",
   "metadata": {},
   "outputs": [
    {
     "data": {
      "text/html": [
       "<div>\n",
       "<style scoped>\n",
       "    .dataframe tbody tr th:only-of-type {\n",
       "        vertical-align: middle;\n",
       "    }\n",
       "\n",
       "    .dataframe tbody tr th {\n",
       "        vertical-align: top;\n",
       "    }\n",
       "\n",
       "    .dataframe thead th {\n",
       "        text-align: right;\n",
       "    }\n",
       "</style>\n",
       "<table border=\"1\" class=\"dataframe\">\n",
       "  <thead>\n",
       "    <tr style=\"text-align: right;\">\n",
       "      <th></th>\n",
       "      <th>name</th>\n",
       "      <th>dataset</th>\n",
       "      <th>step</th>\n",
       "      <th>tag</th>\n",
       "      <th>value</th>\n",
       "    </tr>\n",
       "  </thead>\n",
       "  <tbody>\n",
       "    <tr>\n",
       "      <th>0</th>\n",
       "      <td>MAF-3L_HT</td>\n",
       "      <td>diamonds</td>\n",
       "      <td>10000</td>\n",
       "      <td>ELBO</td>\n",
       "      <td>-209.794220</td>\n",
       "    </tr>\n",
       "    <tr>\n",
       "      <th>1</th>\n",
       "      <td>MAF-3L_HT</td>\n",
       "      <td>diamonds</td>\n",
       "      <td>10000</td>\n",
       "      <td>y_marginal</td>\n",
       "      <td>-7128.079102</td>\n",
       "    </tr>\n",
       "    <tr>\n",
       "      <th>2</th>\n",
       "      <td>MAF</td>\n",
       "      <td>diamonds</td>\n",
       "      <td>10000</td>\n",
       "      <td>ELBO</td>\n",
       "      <td>-190.980301</td>\n",
       "    </tr>\n",
       "    <tr>\n",
       "      <th>3</th>\n",
       "      <td>MAF</td>\n",
       "      <td>diamonds</td>\n",
       "      <td>10000</td>\n",
       "      <td>y_marginal</td>\n",
       "      <td>-6681.983398</td>\n",
       "    </tr>\n",
       "    <tr>\n",
       "      <th>4</th>\n",
       "      <td>MAF_HT</td>\n",
       "      <td>diamonds</td>\n",
       "      <td>10000</td>\n",
       "      <td>ELBO</td>\n",
       "      <td>-218.893188</td>\n",
       "    </tr>\n",
       "    <tr>\n",
       "      <th>5</th>\n",
       "      <td>MAF_HT</td>\n",
       "      <td>diamonds</td>\n",
       "      <td>10000</td>\n",
       "      <td>y_marginal</td>\n",
       "      <td>-8074.510254</td>\n",
       "    </tr>\n",
       "    <tr>\n",
       "      <th>6</th>\n",
       "      <td>ADVI_HT</td>\n",
       "      <td>diamonds</td>\n",
       "      <td>10000</td>\n",
       "      <td>ELBO</td>\n",
       "      <td>-199.876175</td>\n",
       "    </tr>\n",
       "    <tr>\n",
       "      <th>7</th>\n",
       "      <td>ADVI_HT</td>\n",
       "      <td>diamonds</td>\n",
       "      <td>10000</td>\n",
       "      <td>y_marginal</td>\n",
       "      <td>-6887.317871</td>\n",
       "    </tr>\n",
       "    <tr>\n",
       "      <th>8</th>\n",
       "      <td>ADVI</td>\n",
       "      <td>diamonds</td>\n",
       "      <td>10000</td>\n",
       "      <td>ELBO</td>\n",
       "      <td>-374.397400</td>\n",
       "    </tr>\n",
       "    <tr>\n",
       "      <th>9</th>\n",
       "      <td>ADVI</td>\n",
       "      <td>diamonds</td>\n",
       "      <td>10000</td>\n",
       "      <td>y_marginal</td>\n",
       "      <td>-16845.755859</td>\n",
       "    </tr>\n",
       "    <tr>\n",
       "      <th>10</th>\n",
       "      <td>MAF</td>\n",
       "      <td>diamonds</td>\n",
       "      <td>10000</td>\n",
       "      <td>ELBO</td>\n",
       "      <td>-211.052856</td>\n",
       "    </tr>\n",
       "    <tr>\n",
       "      <th>11</th>\n",
       "      <td>MAF</td>\n",
       "      <td>diamonds</td>\n",
       "      <td>10000</td>\n",
       "      <td>y_marginal</td>\n",
       "      <td>-6894.815918</td>\n",
       "    </tr>\n",
       "    <tr>\n",
       "      <th>12</th>\n",
       "      <td>ADVI_HT</td>\n",
       "      <td>diamonds</td>\n",
       "      <td>10000</td>\n",
       "      <td>ELBO</td>\n",
       "      <td>-210.998901</td>\n",
       "    </tr>\n",
       "    <tr>\n",
       "      <th>13</th>\n",
       "      <td>ADVI_HT</td>\n",
       "      <td>diamonds</td>\n",
       "      <td>10000</td>\n",
       "      <td>y_marginal</td>\n",
       "      <td>-6844.245605</td>\n",
       "    </tr>\n",
       "    <tr>\n",
       "      <th>14</th>\n",
       "      <td>ADVI_HT</td>\n",
       "      <td>diamonds</td>\n",
       "      <td>10000</td>\n",
       "      <td>ELBO</td>\n",
       "      <td>-382.052246</td>\n",
       "    </tr>\n",
       "    <tr>\n",
       "      <th>15</th>\n",
       "      <td>ADVI_HT</td>\n",
       "      <td>diamonds</td>\n",
       "      <td>10000</td>\n",
       "      <td>y_marginal</td>\n",
       "      <td>-16710.001953</td>\n",
       "    </tr>\n",
       "    <tr>\n",
       "      <th>16</th>\n",
       "      <td>MAF_HT</td>\n",
       "      <td>diamonds</td>\n",
       "      <td>10000</td>\n",
       "      <td>ELBO</td>\n",
       "      <td>-210.214859</td>\n",
       "    </tr>\n",
       "    <tr>\n",
       "      <th>17</th>\n",
       "      <td>MAF_HT</td>\n",
       "      <td>diamonds</td>\n",
       "      <td>10000</td>\n",
       "      <td>y_marginal</td>\n",
       "      <td>-7208.928223</td>\n",
       "    </tr>\n",
       "    <tr>\n",
       "      <th>18</th>\n",
       "      <td>ADVI_HT</td>\n",
       "      <td>diamonds</td>\n",
       "      <td>10000</td>\n",
       "      <td>ELBO</td>\n",
       "      <td>-404.283386</td>\n",
       "    </tr>\n",
       "    <tr>\n",
       "      <th>19</th>\n",
       "      <td>ADVI_HT</td>\n",
       "      <td>diamonds</td>\n",
       "      <td>10000</td>\n",
       "      <td>y_marginal</td>\n",
       "      <td>-16778.843750</td>\n",
       "    </tr>\n",
       "    <tr>\n",
       "      <th>20</th>\n",
       "      <td>MAF-2L</td>\n",
       "      <td>diamonds</td>\n",
       "      <td>10000</td>\n",
       "      <td>ELBO</td>\n",
       "      <td>-198.038910</td>\n",
       "    </tr>\n",
       "    <tr>\n",
       "      <th>21</th>\n",
       "      <td>MAF-2L</td>\n",
       "      <td>diamonds</td>\n",
       "      <td>10000</td>\n",
       "      <td>y_marginal</td>\n",
       "      <td>-6959.462402</td>\n",
       "    </tr>\n",
       "    <tr>\n",
       "      <th>22</th>\n",
       "      <td>ADVI</td>\n",
       "      <td>diamonds</td>\n",
       "      <td>10000</td>\n",
       "      <td>ELBO</td>\n",
       "      <td>-396.332458</td>\n",
       "    </tr>\n",
       "    <tr>\n",
       "      <th>23</th>\n",
       "      <td>ADVI</td>\n",
       "      <td>diamonds</td>\n",
       "      <td>10000</td>\n",
       "      <td>y_marginal</td>\n",
       "      <td>-16542.625000</td>\n",
       "    </tr>\n",
       "    <tr>\n",
       "      <th>24</th>\n",
       "      <td>MAF-3L_HT</td>\n",
       "      <td>diamonds</td>\n",
       "      <td>10000</td>\n",
       "      <td>ELBO</td>\n",
       "      <td>-204.884079</td>\n",
       "    </tr>\n",
       "    <tr>\n",
       "      <th>25</th>\n",
       "      <td>MAF-3L_HT</td>\n",
       "      <td>diamonds</td>\n",
       "      <td>10000</td>\n",
       "      <td>y_marginal</td>\n",
       "      <td>-7062.278320</td>\n",
       "    </tr>\n",
       "    <tr>\n",
       "      <th>26</th>\n",
       "      <td>ADVI_HT</td>\n",
       "      <td>diamonds</td>\n",
       "      <td>10000</td>\n",
       "      <td>ELBO</td>\n",
       "      <td>-214.828613</td>\n",
       "    </tr>\n",
       "    <tr>\n",
       "      <th>27</th>\n",
       "      <td>ADVI_HT</td>\n",
       "      <td>diamonds</td>\n",
       "      <td>10000</td>\n",
       "      <td>y_marginal</td>\n",
       "      <td>-7183.532715</td>\n",
       "    </tr>\n",
       "    <tr>\n",
       "      <th>28</th>\n",
       "      <td>MAF-3L</td>\n",
       "      <td>diamonds</td>\n",
       "      <td>10000</td>\n",
       "      <td>ELBO</td>\n",
       "      <td>-207.104858</td>\n",
       "    </tr>\n",
       "    <tr>\n",
       "      <th>29</th>\n",
       "      <td>MAF-3L</td>\n",
       "      <td>diamonds</td>\n",
       "      <td>10000</td>\n",
       "      <td>y_marginal</td>\n",
       "      <td>-7087.968750</td>\n",
       "    </tr>\n",
       "    <tr>\n",
       "      <th>30</th>\n",
       "      <td>ADVI_HT</td>\n",
       "      <td>diamonds</td>\n",
       "      <td>10000</td>\n",
       "      <td>ELBO</td>\n",
       "      <td>-223.800201</td>\n",
       "    </tr>\n",
       "    <tr>\n",
       "      <th>31</th>\n",
       "      <td>ADVI_HT</td>\n",
       "      <td>diamonds</td>\n",
       "      <td>10000</td>\n",
       "      <td>y_marginal</td>\n",
       "      <td>-6591.264160</td>\n",
       "    </tr>\n",
       "    <tr>\n",
       "      <th>32</th>\n",
       "      <td>MAF-2L</td>\n",
       "      <td>diamonds</td>\n",
       "      <td>10000</td>\n",
       "      <td>ELBO</td>\n",
       "      <td>-197.860077</td>\n",
       "    </tr>\n",
       "    <tr>\n",
       "      <th>33</th>\n",
       "      <td>MAF-2L</td>\n",
       "      <td>diamonds</td>\n",
       "      <td>10000</td>\n",
       "      <td>y_marginal</td>\n",
       "      <td>-6532.419434</td>\n",
       "    </tr>\n",
       "    <tr>\n",
       "      <th>34</th>\n",
       "      <td>MAF-2L_HT</td>\n",
       "      <td>diamonds</td>\n",
       "      <td>10000</td>\n",
       "      <td>ELBO</td>\n",
       "      <td>-221.094131</td>\n",
       "    </tr>\n",
       "    <tr>\n",
       "      <th>35</th>\n",
       "      <td>MAF-2L_HT</td>\n",
       "      <td>diamonds</td>\n",
       "      <td>10000</td>\n",
       "      <td>y_marginal</td>\n",
       "      <td>-7065.229980</td>\n",
       "    </tr>\n",
       "    <tr>\n",
       "      <th>36</th>\n",
       "      <td>MAF_HT</td>\n",
       "      <td>diamonds</td>\n",
       "      <td>10000</td>\n",
       "      <td>ELBO</td>\n",
       "      <td>-205.091614</td>\n",
       "    </tr>\n",
       "    <tr>\n",
       "      <th>37</th>\n",
       "      <td>MAF_HT</td>\n",
       "      <td>diamonds</td>\n",
       "      <td>10000</td>\n",
       "      <td>y_marginal</td>\n",
       "      <td>-6960.637207</td>\n",
       "    </tr>\n",
       "    <tr>\n",
       "      <th>38</th>\n",
       "      <td>MAF-3L</td>\n",
       "      <td>diamonds</td>\n",
       "      <td>10000</td>\n",
       "      <td>ELBO</td>\n",
       "      <td>-194.130692</td>\n",
       "    </tr>\n",
       "    <tr>\n",
       "      <th>39</th>\n",
       "      <td>MAF-3L</td>\n",
       "      <td>diamonds</td>\n",
       "      <td>10000</td>\n",
       "      <td>y_marginal</td>\n",
       "      <td>-7027.285156</td>\n",
       "    </tr>\n",
       "    <tr>\n",
       "      <th>40</th>\n",
       "      <td>MAF-2L_HT</td>\n",
       "      <td>diamonds</td>\n",
       "      <td>10000</td>\n",
       "      <td>ELBO</td>\n",
       "      <td>-191.914490</td>\n",
       "    </tr>\n",
       "    <tr>\n",
       "      <th>41</th>\n",
       "      <td>MAF-2L_HT</td>\n",
       "      <td>diamonds</td>\n",
       "      <td>10000</td>\n",
       "      <td>y_marginal</td>\n",
       "      <td>-6839.908691</td>\n",
       "    </tr>\n",
       "    <tr>\n",
       "      <th>42</th>\n",
       "      <td>MAF_HT</td>\n",
       "      <td>diamonds</td>\n",
       "      <td>10000</td>\n",
       "      <td>ELBO</td>\n",
       "      <td>-201.560257</td>\n",
       "    </tr>\n",
       "    <tr>\n",
       "      <th>43</th>\n",
       "      <td>MAF_HT</td>\n",
       "      <td>diamonds</td>\n",
       "      <td>10000</td>\n",
       "      <td>y_marginal</td>\n",
       "      <td>-7290.765625</td>\n",
       "    </tr>\n",
       "  </tbody>\n",
       "</table>\n",
       "</div>"
      ],
      "text/plain": [
       "         name   dataset   step         tag         value\n",
       "0   MAF-3L_HT  diamonds  10000        ELBO   -209.794220\n",
       "1   MAF-3L_HT  diamonds  10000  y_marginal  -7128.079102\n",
       "2         MAF  diamonds  10000        ELBO   -190.980301\n",
       "3         MAF  diamonds  10000  y_marginal  -6681.983398\n",
       "4      MAF_HT  diamonds  10000        ELBO   -218.893188\n",
       "5      MAF_HT  diamonds  10000  y_marginal  -8074.510254\n",
       "6     ADVI_HT  diamonds  10000        ELBO   -199.876175\n",
       "7     ADVI_HT  diamonds  10000  y_marginal  -6887.317871\n",
       "8        ADVI  diamonds  10000        ELBO   -374.397400\n",
       "9        ADVI  diamonds  10000  y_marginal -16845.755859\n",
       "10        MAF  diamonds  10000        ELBO   -211.052856\n",
       "11        MAF  diamonds  10000  y_marginal  -6894.815918\n",
       "12    ADVI_HT  diamonds  10000        ELBO   -210.998901\n",
       "13    ADVI_HT  diamonds  10000  y_marginal  -6844.245605\n",
       "14    ADVI_HT  diamonds  10000        ELBO   -382.052246\n",
       "15    ADVI_HT  diamonds  10000  y_marginal -16710.001953\n",
       "16     MAF_HT  diamonds  10000        ELBO   -210.214859\n",
       "17     MAF_HT  diamonds  10000  y_marginal  -7208.928223\n",
       "18    ADVI_HT  diamonds  10000        ELBO   -404.283386\n",
       "19    ADVI_HT  diamonds  10000  y_marginal -16778.843750\n",
       "20     MAF-2L  diamonds  10000        ELBO   -198.038910\n",
       "21     MAF-2L  diamonds  10000  y_marginal  -6959.462402\n",
       "22       ADVI  diamonds  10000        ELBO   -396.332458\n",
       "23       ADVI  diamonds  10000  y_marginal -16542.625000\n",
       "24  MAF-3L_HT  diamonds  10000        ELBO   -204.884079\n",
       "25  MAF-3L_HT  diamonds  10000  y_marginal  -7062.278320\n",
       "26    ADVI_HT  diamonds  10000        ELBO   -214.828613\n",
       "27    ADVI_HT  diamonds  10000  y_marginal  -7183.532715\n",
       "28     MAF-3L  diamonds  10000        ELBO   -207.104858\n",
       "29     MAF-3L  diamonds  10000  y_marginal  -7087.968750\n",
       "30    ADVI_HT  diamonds  10000        ELBO   -223.800201\n",
       "31    ADVI_HT  diamonds  10000  y_marginal  -6591.264160\n",
       "32     MAF-2L  diamonds  10000        ELBO   -197.860077\n",
       "33     MAF-2L  diamonds  10000  y_marginal  -6532.419434\n",
       "34  MAF-2L_HT  diamonds  10000        ELBO   -221.094131\n",
       "35  MAF-2L_HT  diamonds  10000  y_marginal  -7065.229980\n",
       "36     MAF_HT  diamonds  10000        ELBO   -205.091614\n",
       "37     MAF_HT  diamonds  10000  y_marginal  -6960.637207\n",
       "38     MAF-3L  diamonds  10000        ELBO   -194.130692\n",
       "39     MAF-3L  diamonds  10000  y_marginal  -7027.285156\n",
       "40  MAF-2L_HT  diamonds  10000        ELBO   -191.914490\n",
       "41  MAF-2L_HT  diamonds  10000  y_marginal  -6839.908691\n",
       "42     MAF_HT  diamonds  10000        ELBO   -201.560257\n",
       "43     MAF_HT  diamonds  10000  y_marginal  -7290.765625"
      ]
     },
     "execution_count": 10,
     "metadata": {},
     "output_type": "execute_result"
    }
   ],
   "source": [
    "df"
   ]
  },
  {
   "cell_type": "code",
   "execution_count": 11,
   "id": "connected-responsibility",
   "metadata": {},
   "outputs": [
    {
     "data": {
      "text/plain": [
       "<seaborn.axisgrid.FacetGrid at 0x7f7fd43c32b0>"
      ]
     },
     "execution_count": 11,
     "metadata": {},
     "output_type": "execute_result"
    },
    {
     "data": {
      "image/png": "[encoded data removed]",
      "text/plain": [
       "<Figure size 811.25x360 with 2 Axes>"
      ]
     },
     "metadata": {},
     "output_type": "display_data"
    }
   ],
   "source": [
    "import seaborn as sns\n",
    "\n",
    "sns.set_style('darkgrid')\n",
    "\n",
    "sns.displot(\n",
    "    data=df, x='value', hue='name', col='tag', kind='kde',\n",
    "    facet_kws={'sharex': False, 'sharey': False}\n",
    ")"
   ]
  },
  {
   "cell_type": "code",
   "execution_count": 12,
   "id": "adopted-toilet",
   "metadata": {},
   "outputs": [
    {
     "data": {
      "text/html": [
       "<div>\n",
       "<style scoped>\n",
       "    .dataframe tbody tr th:only-of-type {\n",
       "        vertical-align: middle;\n",
       "    }\n",
       "\n",
       "    .dataframe tbody tr th {\n",
       "        vertical-align: top;\n",
       "    }\n",
       "\n",
       "    .dataframe thead th {\n",
       "        text-align: right;\n",
       "    }\n",
       "</style>\n",
       "<table border=\"1\" class=\"dataframe\">\n",
       "  <thead>\n",
       "    <tr style=\"text-align: right;\">\n",
       "      <th></th>\n",
       "      <th></th>\n",
       "      <th>step</th>\n",
       "      <th>value</th>\n",
       "    </tr>\n",
       "    <tr>\n",
       "      <th>name</th>\n",
       "      <th>tag</th>\n",
       "      <th></th>\n",
       "      <th></th>\n",
       "    </tr>\n",
       "  </thead>\n",
       "  <tbody>\n",
       "    <tr>\n",
       "      <th rowspan=\"2\" valign=\"top\">ADVI</th>\n",
       "      <th>ELBO</th>\n",
       "      <td>10000</td>\n",
       "      <td>-385.364929</td>\n",
       "    </tr>\n",
       "    <tr>\n",
       "      <th>y_marginal</th>\n",
       "      <td>10000</td>\n",
       "      <td>-16694.190430</td>\n",
       "    </tr>\n",
       "    <tr>\n",
       "      <th rowspan=\"2\" valign=\"top\">ADVI_HT</th>\n",
       "      <th>ELBO</th>\n",
       "      <td>10000</td>\n",
       "      <td>-272.639921</td>\n",
       "    </tr>\n",
       "    <tr>\n",
       "      <th>y_marginal</th>\n",
       "      <td>10000</td>\n",
       "      <td>-10165.867676</td>\n",
       "    </tr>\n",
       "    <tr>\n",
       "      <th rowspan=\"2\" valign=\"top\">MAF</th>\n",
       "      <th>ELBO</th>\n",
       "      <td>10000</td>\n",
       "      <td>-201.016579</td>\n",
       "    </tr>\n",
       "    <tr>\n",
       "      <th>y_marginal</th>\n",
       "      <td>10000</td>\n",
       "      <td>-6788.399658</td>\n",
       "    </tr>\n",
       "    <tr>\n",
       "      <th rowspan=\"2\" valign=\"top\">MAF-2L</th>\n",
       "      <th>ELBO</th>\n",
       "      <td>10000</td>\n",
       "      <td>-197.949493</td>\n",
       "    </tr>\n",
       "    <tr>\n",
       "      <th>y_marginal</th>\n",
       "      <td>10000</td>\n",
       "      <td>-6745.940918</td>\n",
       "    </tr>\n",
       "    <tr>\n",
       "      <th rowspan=\"2\" valign=\"top\">MAF-2L_HT</th>\n",
       "      <th>ELBO</th>\n",
       "      <td>10000</td>\n",
       "      <td>-206.504311</td>\n",
       "    </tr>\n",
       "    <tr>\n",
       "      <th>y_marginal</th>\n",
       "      <td>10000</td>\n",
       "      <td>-6952.569336</td>\n",
       "    </tr>\n",
       "    <tr>\n",
       "      <th rowspan=\"2\" valign=\"top\">MAF-3L</th>\n",
       "      <th>ELBO</th>\n",
       "      <td>10000</td>\n",
       "      <td>-200.617775</td>\n",
       "    </tr>\n",
       "    <tr>\n",
       "      <th>y_marginal</th>\n",
       "      <td>10000</td>\n",
       "      <td>-7057.626953</td>\n",
       "    </tr>\n",
       "    <tr>\n",
       "      <th rowspan=\"2\" valign=\"top\">MAF-3L_HT</th>\n",
       "      <th>ELBO</th>\n",
       "      <td>10000</td>\n",
       "      <td>-207.339149</td>\n",
       "    </tr>\n",
       "    <tr>\n",
       "      <th>y_marginal</th>\n",
       "      <td>10000</td>\n",
       "      <td>-7095.178711</td>\n",
       "    </tr>\n",
       "    <tr>\n",
       "      <th rowspan=\"2\" valign=\"top\">MAF_HT</th>\n",
       "      <th>ELBO</th>\n",
       "      <td>10000</td>\n",
       "      <td>-208.939980</td>\n",
       "    </tr>\n",
       "    <tr>\n",
       "      <th>y_marginal</th>\n",
       "      <td>10000</td>\n",
       "      <td>-7383.710327</td>\n",
       "    </tr>\n",
       "  </tbody>\n",
       "</table>\n",
       "</div>"
      ],
      "text/plain": [
       "                       step         value\n",
       "name      tag                            \n",
       "ADVI      ELBO        10000   -385.364929\n",
       "          y_marginal  10000 -16694.190430\n",
       "ADVI_HT   ELBO        10000   -272.639921\n",
       "          y_marginal  10000 -10165.867676\n",
       "MAF       ELBO        10000   -201.016579\n",
       "          y_marginal  10000  -6788.399658\n",
       "MAF-2L    ELBO        10000   -197.949493\n",
       "          y_marginal  10000  -6745.940918\n",
       "MAF-2L_HT ELBO        10000   -206.504311\n",
       "          y_marginal  10000  -6952.569336\n",
       "MAF-3L    ELBO        10000   -200.617775\n",
       "          y_marginal  10000  -7057.626953\n",
       "MAF-3L_HT ELBO        10000   -207.339149\n",
       "          y_marginal  10000  -7095.178711\n",
       "MAF_HT    ELBO        10000   -208.939980\n",
       "          y_marginal  10000  -7383.710327"
      ]
     },
     "execution_count": 12,
     "metadata": {},
     "output_type": "execute_result"
    }
   ],
   "source": [
    "df.groupby(['name', 'tag']).mean()"
   ]
  },
  {
   "cell_type": "code",
   "execution_count": 13,
   "id": "educated-melissa",
   "metadata": {},
   "outputs": [
    {
     "data": {
      "text/html": [
       "<div>\n",
       "<style scoped>\n",
       "    .dataframe tbody tr th:only-of-type {\n",
       "        vertical-align: middle;\n",
       "    }\n",
       "\n",
       "    .dataframe tbody tr th {\n",
       "        vertical-align: top;\n",
       "    }\n",
       "\n",
       "    .dataframe thead th {\n",
       "        text-align: right;\n",
       "    }\n",
       "</style>\n",
       "<table border=\"1\" class=\"dataframe\">\n",
       "  <thead>\n",
       "    <tr style=\"text-align: right;\">\n",
       "      <th></th>\n",
       "      <th></th>\n",
       "      <th>step</th>\n",
       "      <th>value</th>\n",
       "    </tr>\n",
       "    <tr>\n",
       "      <th>name</th>\n",
       "      <th>tag</th>\n",
       "      <th></th>\n",
       "      <th></th>\n",
       "    </tr>\n",
       "  </thead>\n",
       "  <tbody>\n",
       "    <tr>\n",
       "      <th>ADVI</th>\n",
       "      <th>ELBO</th>\n",
       "      <td>0.0</td>\n",
       "      <td>15.510429</td>\n",
       "    </tr>\n",
       "    <tr>\n",
       "      <th rowspan=\"2\" valign=\"top\">ADVI_HT</th>\n",
       "      <th>ELBO</th>\n",
       "      <td>0.0</td>\n",
       "      <td>93.939025</td>\n",
       "    </tr>\n",
       "    <tr>\n",
       "      <th>y_marginal</th>\n",
       "      <td>0.0</td>\n",
       "      <td>242.752214</td>\n",
       "    </tr>\n",
       "    <tr>\n",
       "      <th rowspan=\"2\" valign=\"top\">MAF</th>\n",
       "      <th>ELBO</th>\n",
       "      <td>0.0</td>\n",
       "      <td>14.193440</td>\n",
       "    </tr>\n",
       "    <tr>\n",
       "      <th>y_marginal</th>\n",
       "      <td>0.0</td>\n",
       "      <td>150.495318</td>\n",
       "    </tr>\n",
       "    <tr>\n",
       "      <th rowspan=\"2\" valign=\"top\">MAF-2L</th>\n",
       "      <th>ELBO</th>\n",
       "      <td>0.0</td>\n",
       "      <td>0.126454</td>\n",
       "    </tr>\n",
       "    <tr>\n",
       "      <th>y_marginal</th>\n",
       "      <td>0.0</td>\n",
       "      <td>301.964979</td>\n",
       "    </tr>\n",
       "    <tr>\n",
       "      <th rowspan=\"2\" valign=\"top\">MAF-2L_HT</th>\n",
       "      <th>ELBO</th>\n",
       "      <td>0.0</td>\n",
       "      <td>20.633123</td>\n",
       "    </tr>\n",
       "    <tr>\n",
       "      <th>y_marginal</th>\n",
       "      <td>0.0</td>\n",
       "      <td>159.326211</td>\n",
       "    </tr>\n",
       "    <tr>\n",
       "      <th rowspan=\"2\" valign=\"top\">MAF-3L</th>\n",
       "      <th>ELBO</th>\n",
       "      <td>0.0</td>\n",
       "      <td>9.174121</td>\n",
       "    </tr>\n",
       "    <tr>\n",
       "      <th>y_marginal</th>\n",
       "      <td>0.0</td>\n",
       "      <td>42.909781</td>\n",
       "    </tr>\n",
       "    <tr>\n",
       "      <th rowspan=\"2\" valign=\"top\">MAF-3L_HT</th>\n",
       "      <th>ELBO</th>\n",
       "      <td>0.0</td>\n",
       "      <td>3.471994</td>\n",
       "    </tr>\n",
       "    <tr>\n",
       "      <th>y_marginal</th>\n",
       "      <td>0.0</td>\n",
       "      <td>46.528179</td>\n",
       "    </tr>\n",
       "    <tr>\n",
       "      <th rowspan=\"2\" valign=\"top\">MAF_HT</th>\n",
       "      <th>ELBO</th>\n",
       "      <td>0.0</td>\n",
       "      <td>7.526883</td>\n",
       "    </tr>\n",
       "    <tr>\n",
       "      <th>y_marginal</th>\n",
       "      <td>0.0</td>\n",
       "      <td>481.450207</td>\n",
       "    </tr>\n",
       "  </tbody>\n",
       "</table>\n",
       "</div>"
      ],
      "text/plain": [
       "                      step       value\n",
       "name      tag                         \n",
       "ADVI      ELBO         0.0   15.510429\n",
       "ADVI_HT   ELBO         0.0   93.939025\n",
       "          y_marginal   0.0  242.752214\n",
       "MAF       ELBO         0.0   14.193440\n",
       "          y_marginal   0.0  150.495318\n",
       "MAF-2L    ELBO         0.0    0.126454\n",
       "          y_marginal   0.0  301.964979\n",
       "MAF-2L_HT ELBO         0.0   20.633123\n",
       "          y_marginal   0.0  159.326211\n",
       "MAF-3L    ELBO         0.0    9.174121\n",
       "          y_marginal   0.0   42.909781\n",
       "MAF-3L_HT ELBO         0.0    3.471994\n",
       "          y_marginal   0.0   46.528179\n",
       "MAF_HT    ELBO         0.0    7.526883\n",
       "          y_marginal   0.0  481.450207"
      ]
     },
     "execution_count": 13,
     "metadata": {},
     "output_type": "execute_result"
    }
   ],
   "source": [
    "df[df['value'].abs() < 10000].groupby(['name', 'tag']).std()"
   ]
  },
  {
   "cell_type": "code",
   "execution_count": 75,
   "id": "united-conflict",
   "metadata": {},
   "outputs": [
    {
     "data": {
      "text/html": [
       "<div>\n",
       "<style scoped>\n",
       "    .dataframe tbody tr th:only-of-type {\n",
       "        vertical-align: middle;\n",
       "    }\n",
       "\n",
       "    .dataframe tbody tr th {\n",
       "        vertical-align: top;\n",
       "    }\n",
       "\n",
       "    .dataframe thead th {\n",
       "        text-align: right;\n",
       "    }\n",
       "</style>\n",
       "<table border=\"1\" class=\"dataframe\">\n",
       "  <thead>\n",
       "    <tr style=\"text-align: right;\">\n",
       "      <th></th>\n",
       "      <th>name</th>\n",
       "      <th>step</th>\n",
       "      <th>tag</th>\n",
       "      <th>value</th>\n",
       "    </tr>\n",
       "  </thead>\n",
       "  <tbody>\n",
       "    <tr>\n",
       "      <th>32</th>\n",
       "      <td>MAF_HT</td>\n",
       "      <td>5000</td>\n",
       "      <td>ELBO</td>\n",
       "      <td>-65.371246</td>\n",
       "    </tr>\n",
       "    <tr>\n",
       "      <th>33</th>\n",
       "      <td>MAF_HT</td>\n",
       "      <td>5000</td>\n",
       "      <td>y_marginal</td>\n",
       "      <td>-55.972523</td>\n",
       "    </tr>\n",
       "  </tbody>\n",
       "</table>\n",
       "</div>"
      ],
      "text/plain": [
       "      name  step         tag      value\n",
       "32  MAF_HT  5000        ELBO -65.371246\n",
       "33  MAF_HT  5000  y_marginal -55.972523"
      ]
     },
     "execution_count": 75,
     "metadata": {},
     "output_type": "execute_result"
    }
   ],
   "source": [
    "df[df['name'] == 'MAF_HT']"
   ]
  },
  {
   "cell_type": "markdown",
   "id": "nutritional-transmission",
   "metadata": {
    "heading_collapsed": "true",
    "tags": []
   },
   "source": [
    "# Low Dim Gauss Mix"
   ]
  },
  {
   "cell_type": "code",
   "execution_count": 68,
   "id": "median-estimate",
   "metadata": {},
   "outputs": [],
   "source": [
    "model_name = \"low_dim_gauss_mix\"\n",
    "model = my_pdb.model(model_name)\n",
    "data = my_pdb.data(model_name)"
   ]
  },
  {
   "cell_type": "code",
   "execution_count": 75,
   "id": "interior-cliff",
   "metadata": {},
   "outputs": [],
   "source": [
    "import torch\n",
    "import torch.distributions as dist\n",
    "\n",
    "import beanmachine.ppl as bm\n",
    "import beanmachine.ppl.distribution.flat\n",
    "\n",
    "\n",
    "@bm.random_variable\n",
    "def N():\n",
    "    return beanmachine.ppl.distribution.flat.Flat([])\n",
    "\n",
    "\n",
    "@bm.random_variable\n",
    "def mu():\n",
    "    return dist.Independent(dist.Normal(torch.zeros(2), 2 * torch.ones(2)), 1)\n",
    "\n",
    "\n",
    "@bm.random_variable\n",
    "def sigma():\n",
    "    return dist.Independent(dist.HalfNormal(2 * torch.ones(2)), 1)\n",
    "\n",
    "\n",
    "@bm.random_variable\n",
    "def theta():\n",
    "    return dist.Beta(5, 5)\n",
    "\n",
    "\n",
    "@bm.random_variable\n",
    "def y():\n",
    "    return dist.MixtureSameFamily(\n",
    "        dist.Categorical(\n",
    "            torch.tensor([theta().item(), torch.ones(1) - theta().item()])\n",
    "        ),\n",
    "        dist.Normal(mu(), sigma()),\n",
    "    )"
   ]
  },
  {
   "cell_type": "code",
   "execution_count": 213,
   "id": "structural-small",
   "metadata": {
    "tags": []
   },
   "outputs": [
    {
     "data": {
      "application/vnd.jupyter.widget-view+json": {
       "model_id": "40b1ef1c29c649c7b43e30a8eb0bbab5",
       "version_major": 2,
       "version_minor": 0
      },
      "text/plain": [
       "HBox(children=(HTML(value=''), FloatProgress(value=0.0, max=5001.0), HTML(value='')))"
      ]
     },
     "metadata": {},
     "output_type": "display_data"
    },
    {
     "name": "stdout",
     "output_type": "stream",
     "text": [
      "Loss: tensor([47.9788], grad_fn=<SubBackward0>))\n"
     ]
    },
    {
     "data": {
      "application/vnd.jupyter.widget-view+json": {
       "model_id": "a8df82df3cae4feea8b6608b8243df9f",
       "version_major": 2,
       "version_minor": 0
      },
      "text/plain": [
       "HBox(children=(HTML(value=''), FloatProgress(value=0.0, max=5001.0), HTML(value='')))"
      ]
     },
     "metadata": {},
     "output_type": "display_data"
    },
    {
     "name": "stdout",
     "output_type": "stream",
     "text": [
      "Loss: tensor([12.6373], grad_fn=<SubBackward0>))\n"
     ]
    }
   ],
   "source": [
    "import os\n",
    "from datetime import datetime, timedelta, timezone\n",
    "\n",
    "import numpy as np\n",
    "import torch.nn as nn\n",
    "from tensorboardX import SummaryWriter\n",
    "\n",
    "import flowtorch.bijectors\n",
    "from beanmachine.ppl.experimental.vi.variational_infer import (\n",
    "    MeanFieldVariationalInference,\n",
    ")\n",
    "from beanmachine.ppl.world import World\n",
    "\n",
    "queries = [mu(), sigma(), theta()]\n",
    "obs = {\n",
    "    y(): torch.tensor(data.values()[\"y\"]).float(),\n",
    "}\n",
    "\n",
    "\n",
    "def y_marginal(vi_dicts, num_samples=100):\n",
    "    y_rvid = y()\n",
    "    probs = []\n",
    "    for _ in range(num_samples):\n",
    "        with World() as w:\n",
    "            w.vi_dicts = vi_dicts\n",
    "            w.observations_ = obs\n",
    "\n",
    "            for rvid in queries + list(obs.keys()):\n",
    "                w.call(rvid)\n",
    "            probs.append(w.get_node_in_world(y_rvid).log_prob.item())\n",
    "    return np.array(probs).mean()\n",
    "\n",
    "for name, flow in [\n",
    "#      (\"MAF\", lambda: flowtorch.bijectors.AffineAutoregressive(\n",
    "#          flowtorch.params.DenseAutoregressive(hidden_dims=(16,)),\n",
    "#      )),\n",
    "    (\"IAF\", lambda: flowtorch.bijectors.AffineAutoregressive(\n",
    "        flowtorch.params.DenseAutoregressive(hidden_dims=(16,)),\n",
    "    ).inv()),\n",
    "    (\"ADVI\", lambda: flowtorch.bijectors.Compose([])),\n",
    "]:\n",
    "    current_time = datetime.now(timezone(timedelta(hours=-8))).strftime(\"%b%d_%H-%M-%S\")\n",
    "    rundir = f\"{current_time}_{model_name}_{name}\"\n",
    "    logdir = os.path.join(\"/workspaces/jupyter-data/logdir\", rundir)\n",
    "    writer = SummaryWriter(logdir=logdir)\n",
    "    \n",
    "    \n",
    "    def on_iter(it, _, loss, vi_dicts):\n",
    "        if it % 100 == 0:\n",
    "            tqdm.write(f\"Loss: {loss}\", end='')\n",
    "            writer.add_scalar(\"ELBO\", -loss, global_step=it)\n",
    "            writer.add_scalar(\"y_marginal\", y_marginal(vi_dicts), global_step=it)\n",
    "\n",
    "    vi_dicts = None\n",
    "    vi_dicts = MeanFieldVariationalInference().infer(\n",
    "        queries=queries,\n",
    "        observations={\n",
    "            y(): torch.tensor(data.values()[\"y\"]).float(),\n",
    "        },\n",
    "        num_iter=1001,\n",
    "        on_iter=None,\n",
    "        lr=5e-2,\n",
    "        num_elbo_mc_samples=100,\n",
    "        flow=flow,\n",
    "        vi_dicts=vi_dicts,\n",
    "        pretrain=True,\n",
    "    )\n",
    "    for epoch in tqdm(range(5001)):\n",
    "        batch_size = 1\n",
    "        idx = epoch * batch_size % len(data.values()[\"y\"])\n",
    "        vi_dicts = MeanFieldVariationalInference().infer(\n",
    "            queries=queries,\n",
    "            observations={\n",
    "                y(): torch.tensor(data.values()[\"y\"][idx:idx+batch_size]).float(),\n",
    "            },\n",
    "            #num_iter=5001,\n",
    "            num_iter=1,\n",
    "            on_iter=lambda _, loss, vid: on_iter(epoch, _, loss, vid),\n",
    "            lr=1e-3,\n",
    "            num_elbo_mc_samples=1,\n",
    "            flow=flow,\n",
    "            vi_dicts=vi_dicts,\n",
    "            pretrain=False,\n",
    "        )"
   ]
  },
  {
   "cell_type": "code",
   "execution_count": 200,
   "id": "israeli-baseball",
   "metadata": {},
   "outputs": [
    {
     "data": {
      "text/plain": [
       "<seaborn.axisgrid.FacetGrid at 0x7fb25b813670>"
      ]
     },
     "execution_count": 200,
     "metadata": {},
     "output_type": "execute_result"
    },
    {
     "data": {
      "image/png": "[encoded data removed]",
      "text/plain": [
       "<Figure size 360x360 with 1 Axes>"
      ]
     },
     "metadata": {
      "needs_background": "light"
     },
     "output_type": "display_data"
    }
   ],
   "source": [
    "import seaborn as sns\n",
    "import pandas as pd\n",
    "\n",
    "\n",
    "df = pd.DataFrame(vi_dicts(sigma()).rsample((1000,)).detach().numpy())\n",
    "sns.displot(\n",
    "    data=df,\n",
    "    kind='kde',\n",
    "    x=0,\n",
    "    y=1,\n",
    ")"
   ]
  },
  {
   "cell_type": "code",
   "execution_count": 131,
   "id": "several-thing",
   "metadata": {},
   "outputs": [
    {
     "data": {
      "text/plain": [
       "0    0.000326\n",
       "1    0.000060\n",
       "dtype: float32"
      ]
     },
     "execution_count": 131,
     "metadata": {},
     "output_type": "execute_result"
    }
   ],
   "source": [
    "df.min()"
   ]
  },
  {
   "cell_type": "code",
   "execution_count": 132,
   "id": "ignored-surveillance",
   "metadata": {},
   "outputs": [
    {
     "data": {
      "text/plain": [
       "0    14097.623047\n",
       "1     2172.437744\n",
       "dtype: float32"
      ]
     },
     "execution_count": 132,
     "metadata": {},
     "output_type": "execute_result"
    }
   ],
   "source": [
    "df.max()"
   ]
  },
  {
   "cell_type": "markdown",
   "id": "academic-switzerland",
   "metadata": {
    "tags": []
   },
   "source": [
    "# Eight Schools"
   ]
  },
  {
   "cell_type": "code",
   "execution_count": 5,
   "id": "modern-complement",
   "metadata": {},
   "outputs": [],
   "source": [
    "model_name = \"eight_schools\"\n",
    "model = my_pdb.model(f\"{model_name}_centered\")\n",
    "data = my_pdb.data(model_name)"
   ]
  },
  {
   "cell_type": "code",
   "execution_count": 9,
   "id": "fabulous-marketing",
   "metadata": {},
   "outputs": [
    {
     "name": "stdout",
     "output_type": "stream",
     "text": [
      "data {\n",
      "  int <lower=0> J; // number of schools\n",
      "  real y[J]; // estimated treatment\n",
      "  real<lower=0> sigma[J]; // std of estimated effect\n",
      "}\n",
      "parameters {\n",
      "  real theta[J]; // treatment effect in school j\n",
      "  real mu; // hyper-parameter of mean\n",
      "  real<lower=0> tau; // hyper-parameter of sdv\n",
      "}\n",
      "model {\n",
      "  tau ~ cauchy(0, 5); // a non-informative prior\n",
      "  theta ~ normal(mu, tau);\n",
      "  y ~ normal(theta, sigma);\n",
      "  mu ~ normal(0, 5);\n",
      "}\n",
      "\n"
     ]
    }
   ],
   "source": [
    "print(model.code('stan'))"
   ]
  },
  {
   "cell_type": "code",
   "execution_count": 12,
   "id": "composite-irrigation",
   "metadata": {},
   "outputs": [
    {
     "data": {
      "text/plain": [
       "{'J': 8,\n",
       " 'y': [28, 8, -3, 7, -1, 1, 18, 12],\n",
       " 'sigma': [15, 10, 16, 11, 9, 11, 10, 18]}"
      ]
     },
     "execution_count": 12,
     "metadata": {},
     "output_type": "execute_result"
    }
   ],
   "source": [
    "data.values()"
   ]
  },
  {
   "cell_type": "code",
   "execution_count": 10,
   "id": "moral-andrews",
   "metadata": {},
   "outputs": [],
   "source": [
    "import torch\n",
    "import torch.distributions as dist\n",
    "\n",
    "import beanmachine.ppl as bm\n",
    "import beanmachine.ppl.distribution.flat\n",
    "\n",
    "\n",
    "@bm.random_variable\n",
    "def J():\n",
    "    return beanmachine.ppl.distribution.flat.Flat([])\n",
    "\n",
    "\n",
    "@bm.random_variable\n",
    "def sigma():\n",
    "    return beanmachine.ppl.distribution.flat.Flat((J().int().item(),))\n",
    "\n",
    "\n",
    "@bm.random_variable\n",
    "def mu():\n",
    "    return dist.Normal(0, 5)\n",
    "\n",
    "\n",
    "@bm.random_variable\n",
    "def tau():\n",
    "    return dist.HalfCauchy(5.0)\n",
    "\n",
    "\n",
    "@bm.random_variable\n",
    "def theta():\n",
    "    J_int = J().int().item()\n",
    "    if tau().dim() > 0:\n",
    "        cov = (\n",
    "            tau()\n",
    "            .kron(torch.eye(J().int().item()))\n",
    "            .reshape(tau().shape[0], J_int, J_int)\n",
    "        )\n",
    "    else:\n",
    "        cov = tau() * torch.eye(J().int().item())\n",
    "    try:\n",
    "        d = dist.MultivariateNormal(mu() * torch.ones(J().int().item()), cov)\n",
    "    except Exception as e:\n",
    "        print(e)\n",
    "        print(tau())\n",
    "        print(cov)\n",
    "    return d\n",
    "\n",
    "\n",
    "@bm.random_variable\n",
    "def y():\n",
    "    return dist.MultivariateNormal(theta(), torch.diag(sigma()))"
   ]
  },
  {
   "cell_type": "code",
   "execution_count": 86,
   "id": "clinical-daily",
   "metadata": {
    "tags": []
   },
   "outputs": [],
   "source": [
    "import numpy as np\n",
    "\n",
    "from beanmachine.ppl.world import World\n",
    "\n",
    "\n",
    "def y_marginal(vi_dicts, num_samples=100):\n",
    "    queries = [mu(), theta(), tau()]\n",
    "    obs = {\n",
    "        sigma(): torch.tensor(data.values()[\"sigma\"]).float(),\n",
    "        y(): torch.tensor(data.values()[\"y\"]).float(),\n",
    "        J(): torch.tensor(data.values()[\"J\"]).float(),\n",
    "    }\n",
    "    y_rvid = y()\n",
    "\n",
    "    probs = []\n",
    "    for _ in range(num_samples):\n",
    "        with World() as w:\n",
    "            w.vi_dicts = vi_dicts\n",
    "            w.observations_ = obs\n",
    "\n",
    "            for rvid in queries + list(obs.keys()):\n",
    "                w.call(rvid)\n",
    "            probs.append(w.get_node_in_world(y_rvid).log_prob.item())\n",
    "    return np.array(probs).mean()"
   ]
  },
  {
   "cell_type": "code",
   "execution_count": 87,
   "id": "surface-interim",
   "metadata": {
    "tags": []
   },
   "outputs": [
    {
     "data": {
      "application/vnd.jupyter.widget-view+json": {
       "model_id": "aec3ae720b014784b5cec416e966f91b",
       "version_major": 2,
       "version_minor": 0
      },
      "text/plain": [
       "HBox(children=(HTML(value=''), FloatProgress(value=0.0, max=5001.0), HTML(value='')))"
      ]
     },
     "metadata": {},
     "output_type": "display_data"
    },
    {
     "name": "stdout",
     "output_type": "stream",
     "text": [
      "Loss: tensor([121.0766], grad_fn=<SubBackward0>)))\n"
     ]
    },
    {
     "data": {
      "application/vnd.jupyter.widget-view+json": {
       "model_id": "97f4670075ce4620b27ca78d43cea7b9",
       "version_major": 2,
       "version_minor": 0
      },
      "text/plain": [
       "HBox(children=(HTML(value=''), FloatProgress(value=0.0, max=5001.0), HTML(value='')))"
      ]
     },
     "metadata": {},
     "output_type": "display_data"
    },
    {
     "name": "stdout",
     "output_type": "stream",
     "text": [
      "Loss: tensor([423.3439], grad_fn=<SubBackward0>)))\n"
     ]
    },
    {
     "data": {
      "application/vnd.jupyter.widget-view+json": {
       "model_id": "ecaba3dd974445618964965816dc73d5",
       "version_major": 2,
       "version_minor": 0
      },
      "text/plain": [
       "HBox(children=(HTML(value=''), FloatProgress(value=0.0, max=5001.0), HTML(value='')))"
      ]
     },
     "metadata": {},
     "output_type": "display_data"
    },
    {
     "name": "stdout",
     "output_type": "stream",
     "text": [
      "Loss: tensor([110.9093], grad_fn=<SubBackward0>)))\n"
     ]
    },
    {
     "data": {
      "application/vnd.jupyter.widget-view+json": {
       "model_id": "463e79e0cbbe4c019ab4991a1fce244f",
       "version_major": 2,
       "version_minor": 0
      },
      "text/plain": [
       "HBox(children=(HTML(value=''), FloatProgress(value=0.0, max=5001.0), HTML(value='')))"
      ]
     },
     "metadata": {},
     "output_type": "display_data"
    },
    {
     "name": "stdout",
     "output_type": "stream",
     "text": [
      "Loss: tensor([119.2081], grad_fn=<SubBackward0>))\n"
     ]
    },
    {
     "data": {
      "application/vnd.jupyter.widget-view+json": {
       "model_id": "e834bff382bc4adbb86eb112049744cc",
       "version_major": 2,
       "version_minor": 0
      },
      "text/plain": [
       "HBox(children=(HTML(value=''), FloatProgress(value=0.0, max=5001.0), HTML(value='')))"
      ]
     },
     "metadata": {},
     "output_type": "display_data"
    },
    {
     "name": "stdout",
     "output_type": "stream",
     "text": [
      "Loss: tensor([117.7901], grad_fn=<SubBackward0>)))\n"
     ]
    },
    {
     "data": {
      "application/vnd.jupyter.widget-view+json": {
       "model_id": "71f5a9276ace442ea62fc55d7c4ba837",
       "version_major": 2,
       "version_minor": 0
      },
      "text/plain": [
       "HBox(children=(HTML(value=''), FloatProgress(value=0.0, max=5001.0), HTML(value='')))"
      ]
     },
     "metadata": {},
     "output_type": "display_data"
    },
    {
     "name": "stdout",
     "output_type": "stream",
     "text": [
      "Loss: tensor([160.1169], grad_fn=<SubBackward0>))\n"
     ]
    },
    {
     "data": {
      "application/vnd.jupyter.widget-view+json": {
       "model_id": "4cde1170a9df4cfe9675f02c76536b4b",
       "version_major": 2,
       "version_minor": 0
      },
      "text/plain": [
       "HBox(children=(HTML(value=''), FloatProgress(value=0.0, max=5001.0), HTML(value='')))"
      ]
     },
     "metadata": {},
     "output_type": "display_data"
    },
    {
     "name": "stdout",
     "output_type": "stream",
     "text": [
      "Loss: tensor([236.1416], grad_fn=<SubBackward0>))\n"
     ]
    },
    {
     "data": {
      "application/vnd.jupyter.widget-view+json": {
       "model_id": "08b1d588bdb04ccaa12a6bc0b07c9171",
       "version_major": 2,
       "version_minor": 0
      },
      "text/plain": [
       "HBox(children=(HTML(value=''), FloatProgress(value=0.0, max=5001.0), HTML(value='')))"
      ]
     },
     "metadata": {},
     "output_type": "display_data"
    },
    {
     "name": "stdout",
     "output_type": "stream",
     "text": [
      "Loss: tensor([199.8533], grad_fn=<SubBackward0>))\n"
     ]
    },
    {
     "data": {
      "application/vnd.jupyter.widget-view+json": {
       "model_id": "7e1d4c961d7a4870b109e67c4f2c611e",
       "version_major": 2,
       "version_minor": 0
      },
      "text/plain": [
       "HBox(children=(HTML(value=''), FloatProgress(value=0.0, max=5001.0), HTML(value='')))"
      ]
     },
     "metadata": {},
     "output_type": "display_data"
    },
    {
     "name": "stdout",
     "output_type": "stream",
     "text": [
      "Loss: tensor([110.9402], grad_fn=<SubBackward0>))\n"
     ]
    },
    {
     "data": {
      "application/vnd.jupyter.widget-view+json": {
       "model_id": "9b4464a9a2c44f9cb54278b019a8a45c",
       "version_major": 2,
       "version_minor": 0
      },
      "text/plain": [
       "HBox(children=(HTML(value=''), FloatProgress(value=0.0, max=5001.0), HTML(value='')))"
      ]
     },
     "metadata": {},
     "output_type": "display_data"
    },
    {
     "name": "stdout",
     "output_type": "stream",
     "text": [
      "Loss: tensor([339.1783], grad_fn=<SubBackward0>))\n"
     ]
    },
    {
     "data": {
      "application/vnd.jupyter.widget-view+json": {
       "model_id": "6198029e2c7244ad9ec8ba5297722886",
       "version_major": 2,
       "version_minor": 0
      },
      "text/plain": [
       "HBox(children=(HTML(value=''), FloatProgress(value=0.0, max=5001.0), HTML(value='')))"
      ]
     },
     "metadata": {},
     "output_type": "display_data"
    },
    {
     "name": "stdout",
     "output_type": "stream",
     "text": [
      "Loss: tensor([106.0344], grad_fn=<SubBackward0>)))\n"
     ]
    },
    {
     "data": {
      "application/vnd.jupyter.widget-view+json": {
       "model_id": "35f74fa86d504b8a81ca6315f02d507f",
       "version_major": 2,
       "version_minor": 0
      },
      "text/plain": [
       "HBox(children=(HTML(value=''), FloatProgress(value=0.0, max=5001.0), HTML(value='')))"
      ]
     },
     "metadata": {},
     "output_type": "display_data"
    },
    {
     "name": "stdout",
     "output_type": "stream",
     "text": [
      "Loss: tensor([7850.2808], grad_fn=<SubBackward0>))\n"
     ]
    },
    {
     "data": {
      "application/vnd.jupyter.widget-view+json": {
       "model_id": "8c4ff184142a494cbf080d0b9711c462",
       "version_major": 2,
       "version_minor": 0
      },
      "text/plain": [
       "HBox(children=(HTML(value=''), FloatProgress(value=0.0, max=5001.0), HTML(value='')))"
      ]
     },
     "metadata": {},
     "output_type": "display_data"
    },
    {
     "name": "stdout",
     "output_type": "stream",
     "text": [
      "Loss: tensor([113.2857], grad_fn=<SubBackward0>)))\n"
     ]
    },
    {
     "data": {
      "application/vnd.jupyter.widget-view+json": {
       "model_id": "06455aeb59d14b70861bfd532001e46e",
       "version_major": 2,
       "version_minor": 0
      },
      "text/plain": [
       "HBox(children=(HTML(value=''), FloatProgress(value=0.0, max=5001.0), HTML(value='')))"
      ]
     },
     "metadata": {},
     "output_type": "display_data"
    },
    {
     "name": "stdout",
     "output_type": "stream",
     "text": [
      "Loss: tensor([110.5633], grad_fn=<SubBackward0>))\n"
     ]
    },
    {
     "data": {
      "application/vnd.jupyter.widget-view+json": {
       "model_id": "5aa5b3b3312f4f4eac8032539bc63f9f",
       "version_major": 2,
       "version_minor": 0
      },
      "text/plain": [
       "HBox(children=(HTML(value=''), FloatProgress(value=0.0, max=5001.0), HTML(value='')))"
      ]
     },
     "metadata": {},
     "output_type": "display_data"
    },
    {
     "name": "stdout",
     "output_type": "stream",
     "text": [
      "Loss: tensor([126.1821], grad_fn=<SubBackward0>)))\n"
     ]
    },
    {
     "data": {
      "application/vnd.jupyter.widget-view+json": {
       "model_id": "12b11bfc85ec4844aae0c55c49e5c36d",
       "version_major": 2,
       "version_minor": 0
      },
      "text/plain": [
       "HBox(children=(HTML(value=''), FloatProgress(value=0.0, max=5001.0), HTML(value='')))"
      ]
     },
     "metadata": {},
     "output_type": "display_data"
    },
    {
     "name": "stdout",
     "output_type": "stream",
     "text": [
      "Loss: tensor([114.6889], grad_fn=<SubBackward0>)>)\n"
     ]
    },
    {
     "data": {
      "application/vnd.jupyter.widget-view+json": {
       "model_id": "58bee95f2538448aa0ea2bfe8857baac",
       "version_major": 2,
       "version_minor": 0
      },
      "text/plain": [
       "HBox(children=(HTML(value=''), FloatProgress(value=0.0, max=5001.0), HTML(value='')))"
      ]
     },
     "metadata": {},
     "output_type": "display_data"
    },
    {
     "name": "stdout",
     "output_type": "stream",
     "text": [
      "Loss: tensor([627.3849], grad_fn=<SubBackward0>)))\n"
     ]
    },
    {
     "data": {
      "application/vnd.jupyter.widget-view+json": {
       "model_id": "dff0a105f0be49238045cda0a7b308b5",
       "version_major": 2,
       "version_minor": 0
      },
      "text/plain": [
       "HBox(children=(HTML(value=''), FloatProgress(value=0.0, max=5001.0), HTML(value='')))"
      ]
     },
     "metadata": {},
     "output_type": "display_data"
    },
    {
     "name": "stdout",
     "output_type": "stream",
     "text": [
      "Loss: tensor([167.8289], grad_fn=<SubBackward0>)))\n"
     ]
    },
    {
     "data": {
      "application/vnd.jupyter.widget-view+json": {
       "model_id": "d4dac3a80b08453aa5e46a1da6c4caa6",
       "version_major": 2,
       "version_minor": 0
      },
      "text/plain": [
       "HBox(children=(HTML(value=''), FloatProgress(value=0.0, max=5001.0), HTML(value='')))"
      ]
     },
     "metadata": {},
     "output_type": "display_data"
    },
    {
     "name": "stdout",
     "output_type": "stream",
     "text": [
      "Loss: tensor([117.8010], grad_fn=<SubBackward0>)))\n"
     ]
    },
    {
     "data": {
      "application/vnd.jupyter.widget-view+json": {
       "model_id": "64c00052dcbb4cbfa7e6d46e7a676045",
       "version_major": 2,
       "version_minor": 0
      },
      "text/plain": [
       "HBox(children=(HTML(value=''), FloatProgress(value=0.0, max=5001.0), HTML(value='')))"
      ]
     },
     "metadata": {},
     "output_type": "display_data"
    },
    {
     "name": "stdout",
     "output_type": "stream",
     "text": [
      "Loss: tensor([115.9389], grad_fn=<SubBackward0>)))\n"
     ]
    }
   ],
   "source": [
    "import os\n",
    "from datetime import datetime, timedelta, timezone\n",
    "\n",
    "\n",
    "from torch.utils.tensorboard import SummaryWriter\n",
    "import torch.nn as nn\n",
    "from tqdm.auto import tqdm\n",
    "\n",
    "import flowtorch.bijectors\n",
    "from beanmachine.ppl.experimental.vi.variational_infer import (\n",
    "    MeanFieldVariationalInference,\n",
    ")\n",
    "\n",
    "\n",
    "def on_iter(it, _, loss, vi_dicts):\n",
    "    if it % 100 == 0:\n",
    "        tqdm.write(f\"Loss: {loss}\", end='')\n",
    "        writer.add_scalar(\"ELBO\", -loss, global_step=it)\n",
    "        writer.add_scalar(\"y_marginal\", y_marginal(vi_dicts), global_step=it)\n",
    "\n",
    "results = []\n",
    "\n",
    "for name, flow in [\n",
    "#     (\"MAF\", lambda: flowtorch.bijectors.AffineAutoregressive()),\n",
    "#     (\"IAF\", lambda: flowtorch.bijectors.AffineAutoregressive().inv()),\n",
    "#     (\"MAF-2L\", lambda: flowtorch.bijectors.Compose([\n",
    "#         flowtorch.bijectors.AffineAutoregressive(),\n",
    "#         flowtorch.bijectors.AffineAutoregressive(),\n",
    "#     ])),\n",
    "#     (\"IAF-2L\", lambda: flowtorch.bijectors.Compose([\n",
    "#         flowtorch.bijectors.AffineAutoregressive()\n",
    "#         for _ in range(2)\n",
    "#     ]).inv()),\n",
    "#     (\"MAF-3L\", lambda: flowtorch.bijectors.Compose([\n",
    "#         flowtorch.bijectors.AffineAutoregressive()\n",
    "#         for _ in range(3)\n",
    "#     ])),\n",
    "#     (\"IAF-3L\", lambda: flowtorch.bijectors.Compose([\n",
    "#         flowtorch.bijectors.AffineAutoregressive()\n",
    "#         for _ in range(3)\n",
    "#     ]).inv()),\n",
    "    (\"ADVI\", lambda: flowtorch.bijectors.Compose([])),\n",
    "]:\n",
    "    for ht in ['', 'HT']:\n",
    "        if ht == 'HT':\n",
    "            name += '_HT'\n",
    "            \n",
    "        for trial in range(10):\n",
    "            current_time = datetime.now(timezone(timedelta(hours=-8))).strftime(\"%b%d_%H-%M-%S\")\n",
    "            rundir = f\"{current_time}_{model_name}_{name}\"\n",
    "            logdir = os.path.join(\"/workspaces/jupyter-data/logdir\", rundir)\n",
    "            writer = SummaryWriter(logdir)\n",
    "\n",
    "            vi_dicts = None\n",
    "            for epoch in tqdm(range(5001)):\n",
    "                kwargs = {}\n",
    "                if ht == 'HT':\n",
    "                    kwargs = {\n",
    "                        'base_dist': dist.StudentT,\n",
    "                        'base_args': {\n",
    "                            'df': nn.Parameter(torch.tensor([5.0])),\n",
    "                            'loc': nn.Parameter(torch.tensor([0.0])),\n",
    "                            'scale': nn.Parameter(torch.tensor([1.0])),\n",
    "                        }\n",
    "                    }\n",
    "                vi_dicts = MeanFieldVariationalInference().infer(\n",
    "                    queries=[theta(), mu(), tau()],\n",
    "                    observations={\n",
    "                        sigma(): torch.tensor(data.values()[\"sigma\"]).float(),\n",
    "                        y(): torch.tensor(data.values()[\"y\"]).float(),\n",
    "                        J(): torch.tensor(data.values()[\"J\"]).float(),\n",
    "                    },\n",
    "                    #num_iter=5001,\n",
    "                    #on_iter=on_iter,\n",
    "                    num_iter=1,\n",
    "                    on_iter=lambda _, loss, vid: on_iter(epoch, _, loss, vid),\n",
    "                    lr=1e-3,\n",
    "                    flow=flow,\n",
    "                    num_elbo_mc_samples=1,\n",
    "                    vi_dicts=vi_dicts,\n",
    "                    **kwargs\n",
    "                )\n",
    "            writer.close()\n",
    "            results.append({\n",
    "                'name': name,\n",
    "                'trial': trial,\n",
    "                'marg_lik': y_marginal(vi_dicts),\n",
    "            })"
   ]
  },
  {
   "cell_type": "code",
   "execution_count": 88,
   "id": "outstanding-lyric",
   "metadata": {},
   "outputs": [],
   "source": [
    "import glob\n",
    "\n",
    "import pandas as pd\n",
    "import tensorflow as tf\n",
    "from tensorflow.python.summary.summary_iterator import summary_iterator\n",
    "\n",
    "data = []\n",
    "for summary_path in glob.glob('./logdir/*/events.out.tfevents.*'):\n",
    "    name = '_'.join(summary_path.split('/')[2].split('_')[4:6])\n",
    "    for event in summary_iterator(summary_path):\n",
    "        if event.step != 5000:\n",
    "            continue\n",
    "        data.append({\n",
    "            'name': name,\n",
    "            'step': 5000,\n",
    "            'tag': event.summary.value[0].tag,\n",
    "            'value': event.summary.value[0].simple_value,\n",
    "        })\n",
    "df = pd.DataFrame(data)"
   ]
  },
  {
   "cell_type": "code",
   "execution_count": 96,
   "id": "searching-kennedy",
   "metadata": {},
   "outputs": [
    {
     "data": {
      "text/plain": [
       "<seaborn.axisgrid.FacetGrid at 0x7f1a9f8d4550>"
      ]
     },
     "execution_count": 96,
     "metadata": {},
     "output_type": "execute_result"
    },
    {
     "data": {
      "image/png": "[encoded data removed]",
      "text/plain": [
       "<Figure size 811.25x360 with 2 Axes>"
      ]
     },
     "metadata": {},
     "output_type": "display_data"
    }
   ],
   "source": [
    "import seaborn as sns\n",
    "\n",
    "sns.set_style('darkgrid')\n",
    "\n",
    "sns.displot(\n",
    "    data=df[df['value'].abs() < 200], x='value', hue='name', col='tag', kind='kde',\n",
    "    facet_kws={'sharex': False, 'sharey': False}\n",
    ")"
   ]
  },
  {
   "cell_type": "code",
   "execution_count": 101,
   "id": "demographic-virus",
   "metadata": {},
   "outputs": [
    {
     "data": {
      "text/html": [
       "<div>\n",
       "<style scoped>\n",
       "    .dataframe tbody tr th:only-of-type {\n",
       "        vertical-align: middle;\n",
       "    }\n",
       "\n",
       "    .dataframe tbody tr th {\n",
       "        vertical-align: top;\n",
       "    }\n",
       "\n",
       "    .dataframe thead th {\n",
       "        text-align: right;\n",
       "    }\n",
       "</style>\n",
       "<table border=\"1\" class=\"dataframe\">\n",
       "  <thead>\n",
       "    <tr style=\"text-align: right;\">\n",
       "      <th></th>\n",
       "      <th></th>\n",
       "      <th>step</th>\n",
       "      <th>value</th>\n",
       "    </tr>\n",
       "    <tr>\n",
       "      <th>name</th>\n",
       "      <th>tag</th>\n",
       "      <th></th>\n",
       "      <th></th>\n",
       "    </tr>\n",
       "  </thead>\n",
       "  <tbody>\n",
       "    <tr>\n",
       "      <th rowspan=\"2\" valign=\"top\">ADVI</th>\n",
       "      <th>ELBO</th>\n",
       "      <td>5000</td>\n",
       "      <td>-134.270648</td>\n",
       "    </tr>\n",
       "    <tr>\n",
       "      <th>y_marginal</th>\n",
       "      <td>5000</td>\n",
       "      <td>-70.112595</td>\n",
       "    </tr>\n",
       "    <tr>\n",
       "      <th rowspan=\"2\" valign=\"top\">ADVI_HT</th>\n",
       "      <th>ELBO</th>\n",
       "      <td>5000</td>\n",
       "      <td>-121.540408</td>\n",
       "    </tr>\n",
       "    <tr>\n",
       "      <th>y_marginal</th>\n",
       "      <td>5000</td>\n",
       "      <td>-70.288544</td>\n",
       "    </tr>\n",
       "    <tr>\n",
       "      <th rowspan=\"2\" valign=\"top\">IAF</th>\n",
       "      <th>ELBO</th>\n",
       "      <td>5000</td>\n",
       "      <td>-77.672712</td>\n",
       "    </tr>\n",
       "    <tr>\n",
       "      <th>y_marginal</th>\n",
       "      <td>5000</td>\n",
       "      <td>-64.794121</td>\n",
       "    </tr>\n",
       "    <tr>\n",
       "      <th rowspan=\"2\" valign=\"top\">IAF_HT</th>\n",
       "      <th>ELBO</th>\n",
       "      <td>5000</td>\n",
       "      <td>-76.665797</td>\n",
       "    </tr>\n",
       "    <tr>\n",
       "      <th>y_marginal</th>\n",
       "      <td>5000</td>\n",
       "      <td>-64.912134</td>\n",
       "    </tr>\n",
       "    <tr>\n",
       "      <th rowspan=\"2\" valign=\"top\">MAF</th>\n",
       "      <th>ELBO</th>\n",
       "      <td>5000</td>\n",
       "      <td>-55.063180</td>\n",
       "    </tr>\n",
       "    <tr>\n",
       "      <th>y_marginal</th>\n",
       "      <td>5000</td>\n",
       "      <td>-59.168514</td>\n",
       "    </tr>\n",
       "    <tr>\n",
       "      <th rowspan=\"2\" valign=\"top\">MAF-2L</th>\n",
       "      <th>ELBO</th>\n",
       "      <td>5000</td>\n",
       "      <td>-45.015249</td>\n",
       "    </tr>\n",
       "    <tr>\n",
       "      <th>y_marginal</th>\n",
       "      <td>5000</td>\n",
       "      <td>-52.193479</td>\n",
       "    </tr>\n",
       "    <tr>\n",
       "      <th rowspan=\"2\" valign=\"top\">MAF-2L_HT</th>\n",
       "      <th>ELBO</th>\n",
       "      <td>5000</td>\n",
       "      <td>-51.675030</td>\n",
       "    </tr>\n",
       "    <tr>\n",
       "      <th>y_marginal</th>\n",
       "      <td>5000</td>\n",
       "      <td>-51.531240</td>\n",
       "    </tr>\n",
       "    <tr>\n",
       "      <th rowspan=\"2\" valign=\"top\">MAF_HT</th>\n",
       "      <th>ELBO</th>\n",
       "      <td>5000</td>\n",
       "      <td>-59.631966</td>\n",
       "    </tr>\n",
       "    <tr>\n",
       "      <th>y_marginal</th>\n",
       "      <td>5000</td>\n",
       "      <td>-57.845649</td>\n",
       "    </tr>\n",
       "  </tbody>\n",
       "</table>\n",
       "</div>"
      ],
      "text/plain": [
       "                      step       value\n",
       "name      tag                         \n",
       "ADVI      ELBO        5000 -134.270648\n",
       "          y_marginal  5000  -70.112595\n",
       "ADVI_HT   ELBO        5000 -121.540408\n",
       "          y_marginal  5000  -70.288544\n",
       "IAF       ELBO        5000  -77.672712\n",
       "          y_marginal  5000  -64.794121\n",
       "IAF_HT    ELBO        5000  -76.665797\n",
       "          y_marginal  5000  -64.912134\n",
       "MAF       ELBO        5000  -55.063180\n",
       "          y_marginal  5000  -59.168514\n",
       "MAF-2L    ELBO        5000  -45.015249\n",
       "          y_marginal  5000  -52.193479\n",
       "MAF-2L_HT ELBO        5000  -51.675030\n",
       "          y_marginal  5000  -51.531240\n",
       "MAF_HT    ELBO        5000  -59.631966\n",
       "          y_marginal  5000  -57.845649"
      ]
     },
     "execution_count": 101,
     "metadata": {},
     "output_type": "execute_result"
    }
   ],
   "source": [
    "df[df['value'].abs() < 200].groupby(['name', 'tag']).mean()"
   ]
  },
  {
   "cell_type": "code",
   "execution_count": 100,
   "id": "fluid-superior",
   "metadata": {},
   "outputs": [
    {
     "data": {
      "text/html": [
       "<div>\n",
       "<style scoped>\n",
       "    .dataframe tbody tr th:only-of-type {\n",
       "        vertical-align: middle;\n",
       "    }\n",
       "\n",
       "    .dataframe tbody tr th {\n",
       "        vertical-align: top;\n",
       "    }\n",
       "\n",
       "    .dataframe thead th {\n",
       "        text-align: right;\n",
       "    }\n",
       "</style>\n",
       "<table border=\"1\" class=\"dataframe\">\n",
       "  <thead>\n",
       "    <tr style=\"text-align: right;\">\n",
       "      <th></th>\n",
       "      <th></th>\n",
       "      <th>step</th>\n",
       "      <th>value</th>\n",
       "    </tr>\n",
       "    <tr>\n",
       "      <th>name</th>\n",
       "      <th>tag</th>\n",
       "      <th></th>\n",
       "      <th></th>\n",
       "    </tr>\n",
       "  </thead>\n",
       "  <tbody>\n",
       "    <tr>\n",
       "      <th rowspan=\"2\" valign=\"top\">ADVI</th>\n",
       "      <th>ELBO</th>\n",
       "      <td>0.0</td>\n",
       "      <td>33.495622</td>\n",
       "    </tr>\n",
       "    <tr>\n",
       "      <th>y_marginal</th>\n",
       "      <td>0.0</td>\n",
       "      <td>0.517765</td>\n",
       "    </tr>\n",
       "    <tr>\n",
       "      <th rowspan=\"2\" valign=\"top\">ADVI_HT</th>\n",
       "      <th>ELBO</th>\n",
       "      <td>0.0</td>\n",
       "      <td>19.586988</td>\n",
       "    </tr>\n",
       "    <tr>\n",
       "      <th>y_marginal</th>\n",
       "      <td>0.0</td>\n",
       "      <td>0.541315</td>\n",
       "    </tr>\n",
       "    <tr>\n",
       "      <th rowspan=\"2\" valign=\"top\">IAF</th>\n",
       "      <th>ELBO</th>\n",
       "      <td>0.0</td>\n",
       "      <td>6.473867</td>\n",
       "    </tr>\n",
       "    <tr>\n",
       "      <th>y_marginal</th>\n",
       "      <td>0.0</td>\n",
       "      <td>0.795502</td>\n",
       "    </tr>\n",
       "    <tr>\n",
       "      <th rowspan=\"2\" valign=\"top\">IAF_HT</th>\n",
       "      <th>ELBO</th>\n",
       "      <td>0.0</td>\n",
       "      <td>3.705401</td>\n",
       "    </tr>\n",
       "    <tr>\n",
       "      <th>y_marginal</th>\n",
       "      <td>0.0</td>\n",
       "      <td>0.761531</td>\n",
       "    </tr>\n",
       "    <tr>\n",
       "      <th rowspan=\"2\" valign=\"top\">MAF</th>\n",
       "      <th>ELBO</th>\n",
       "      <td>0.0</td>\n",
       "      <td>5.455337</td>\n",
       "    </tr>\n",
       "    <tr>\n",
       "      <th>y_marginal</th>\n",
       "      <td>0.0</td>\n",
       "      <td>1.993199</td>\n",
       "    </tr>\n",
       "    <tr>\n",
       "      <th rowspan=\"2\" valign=\"top\">MAF-2L</th>\n",
       "      <th>ELBO</th>\n",
       "      <td>0.0</td>\n",
       "      <td>11.021414</td>\n",
       "    </tr>\n",
       "    <tr>\n",
       "      <th>y_marginal</th>\n",
       "      <td>0.0</td>\n",
       "      <td>2.057984</td>\n",
       "    </tr>\n",
       "    <tr>\n",
       "      <th rowspan=\"2\" valign=\"top\">MAF-2L_HT</th>\n",
       "      <th>ELBO</th>\n",
       "      <td>0.0</td>\n",
       "      <td>8.724683</td>\n",
       "    </tr>\n",
       "    <tr>\n",
       "      <th>y_marginal</th>\n",
       "      <td>0.0</td>\n",
       "      <td>4.225512</td>\n",
       "    </tr>\n",
       "    <tr>\n",
       "      <th rowspan=\"2\" valign=\"top\">MAF_HT</th>\n",
       "      <th>ELBO</th>\n",
       "      <td>0.0</td>\n",
       "      <td>11.544552</td>\n",
       "    </tr>\n",
       "    <tr>\n",
       "      <th>y_marginal</th>\n",
       "      <td>0.0</td>\n",
       "      <td>4.970379</td>\n",
       "    </tr>\n",
       "  </tbody>\n",
       "</table>\n",
       "</div>"
      ],
      "text/plain": [
       "                      step      value\n",
       "name      tag                        \n",
       "ADVI      ELBO         0.0  33.495622\n",
       "          y_marginal   0.0   0.517765\n",
       "ADVI_HT   ELBO         0.0  19.586988\n",
       "          y_marginal   0.0   0.541315\n",
       "IAF       ELBO         0.0   6.473867\n",
       "          y_marginal   0.0   0.795502\n",
       "IAF_HT    ELBO         0.0   3.705401\n",
       "          y_marginal   0.0   0.761531\n",
       "MAF       ELBO         0.0   5.455337\n",
       "          y_marginal   0.0   1.993199\n",
       "MAF-2L    ELBO         0.0  11.021414\n",
       "          y_marginal   0.0   2.057984\n",
       "MAF-2L_HT ELBO         0.0   8.724683\n",
       "          y_marginal   0.0   4.225512\n",
       "MAF_HT    ELBO         0.0  11.544552\n",
       "          y_marginal   0.0   4.970379"
      ]
     },
     "execution_count": 100,
     "metadata": {},
     "output_type": "execute_result"
    }
   ],
   "source": [
    "df[df['value'].abs() < 200].groupby(['name', 'tag']).std()"
   ]
  },
  {
   "cell_type": "code",
   "execution_count": 75,
   "id": "strong-government",
   "metadata": {},
   "outputs": [
    {
     "data": {
      "text/html": [
       "<div>\n",
       "<style scoped>\n",
       "    .dataframe tbody tr th:only-of-type {\n",
       "        vertical-align: middle;\n",
       "    }\n",
       "\n",
       "    .dataframe tbody tr th {\n",
       "        vertical-align: top;\n",
       "    }\n",
       "\n",
       "    .dataframe thead th {\n",
       "        text-align: right;\n",
       "    }\n",
       "</style>\n",
       "<table border=\"1\" class=\"dataframe\">\n",
       "  <thead>\n",
       "    <tr style=\"text-align: right;\">\n",
       "      <th></th>\n",
       "      <th>name</th>\n",
       "      <th>step</th>\n",
       "      <th>tag</th>\n",
       "      <th>value</th>\n",
       "    </tr>\n",
       "  </thead>\n",
       "  <tbody>\n",
       "    <tr>\n",
       "      <th>32</th>\n",
       "      <td>MAF_HT</td>\n",
       "      <td>5000</td>\n",
       "      <td>ELBO</td>\n",
       "      <td>-65.371246</td>\n",
       "    </tr>\n",
       "    <tr>\n",
       "      <th>33</th>\n",
       "      <td>MAF_HT</td>\n",
       "      <td>5000</td>\n",
       "      <td>y_marginal</td>\n",
       "      <td>-55.972523</td>\n",
       "    </tr>\n",
       "  </tbody>\n",
       "</table>\n",
       "</div>"
      ],
      "text/plain": [
       "      name  step         tag      value\n",
       "32  MAF_HT  5000        ELBO -65.371246\n",
       "33  MAF_HT  5000  y_marginal -55.972523"
      ]
     },
     "execution_count": 75,
     "metadata": {},
     "output_type": "execute_result"
    }
   ],
   "source": [
    "df[df['name'] == 'MAF_HT']"
   ]
  },
  {
   "cell_type": "markdown",
   "id": "other-parameter",
   "metadata": {
    "heading_collapsed": "true",
    "tags": []
   },
   "source": [
    "## ADVI using Stan "
   ]
  },
  {
   "cell_type": "code",
   "execution_count": 13,
   "id": "loved-limitation",
   "metadata": {},
   "outputs": [
    {
     "ename": "ValueError",
     "evalue": "no such CmdStan directory /root/.cmdstan/cmdstan-2.26.1/",
     "output_type": "error",
     "traceback": [
      "\u001b[0;31m---------------------------------------------------------------------------\u001b[0m",
      "\u001b[0;31mValueError\u001b[0m                                Traceback (most recent call last)",
      "\u001b[0;32m<ipython-input-13-6ba7d6ea2355>\u001b[0m in \u001b[0;36m<module>\u001b[0;34m\u001b[0m\n\u001b[1;32m      2\u001b[0m \u001b[0;32mfrom\u001b[0m \u001b[0mcmdstanpy\u001b[0m \u001b[0;32mimport\u001b[0m \u001b[0mcmdstan_path\u001b[0m\u001b[0;34m,\u001b[0m \u001b[0mCmdStanModel\u001b[0m\u001b[0;34m,\u001b[0m \u001b[0mset_cmdstan_path\u001b[0m\u001b[0;34m\u001b[0m\u001b[0;34m\u001b[0m\u001b[0m\n\u001b[1;32m      3\u001b[0m \u001b[0;34m\u001b[0m\u001b[0m\n\u001b[0;32m----> 4\u001b[0;31m \u001b[0mset_cmdstan_path\u001b[0m\u001b[0;34m(\u001b[0m\u001b[0;34m'/root/.cmdstan/cmdstan-2.26.1/'\u001b[0m\u001b[0;34m)\u001b[0m\u001b[0;34m\u001b[0m\u001b[0;34m\u001b[0m\u001b[0m\n\u001b[0m\u001b[1;32m      5\u001b[0m \u001b[0mos\u001b[0m\u001b[0;34m.\u001b[0m\u001b[0menviron\u001b[0m\u001b[0;34m[\u001b[0m\u001b[0;34m'TBB_CXX_TYPE'\u001b[0m\u001b[0;34m]\u001b[0m \u001b[0;34m=\u001b[0m \u001b[0;34m'gcc'\u001b[0m\u001b[0;34m\u001b[0m\u001b[0;34m\u001b[0m\u001b[0m\n\u001b[1;32m      6\u001b[0m \u001b[0;31m#stan_model = CmdStanModel(stan_file=model.stan_code_file_path())\u001b[0m\u001b[0;34m\u001b[0m\u001b[0;34m\u001b[0m\u001b[0;34m\u001b[0m\u001b[0m\n",
      "\u001b[0;32m~/miniconda/lib/python3.8/site-packages/cmdstanpy/utils.py\u001b[0m in \u001b[0;36mset_cmdstan_path\u001b[0;34m(path)\u001b[0m\n\u001b[1;32m    120\u001b[0m     \u001b[0mValidate\u001b[0m\u001b[0;34m,\u001b[0m \u001b[0mthen\u001b[0m \u001b[0mset\u001b[0m \u001b[0mCmdStan\u001b[0m \u001b[0mdirectory\u001b[0m \u001b[0mpath\u001b[0m\u001b[0;34m.\u001b[0m\u001b[0;34m\u001b[0m\u001b[0;34m\u001b[0m\u001b[0m\n\u001b[1;32m    121\u001b[0m     \"\"\"\n\u001b[0;32m--> 122\u001b[0;31m     \u001b[0mvalidate_cmdstan_path\u001b[0m\u001b[0;34m(\u001b[0m\u001b[0mpath\u001b[0m\u001b[0;34m)\u001b[0m\u001b[0;34m\u001b[0m\u001b[0;34m\u001b[0m\u001b[0m\n\u001b[0m\u001b[1;32m    123\u001b[0m     \u001b[0mos\u001b[0m\u001b[0;34m.\u001b[0m\u001b[0menviron\u001b[0m\u001b[0;34m[\u001b[0m\u001b[0;34m'CMDSTAN'\u001b[0m\u001b[0;34m]\u001b[0m \u001b[0;34m=\u001b[0m \u001b[0mpath\u001b[0m\u001b[0;34m\u001b[0m\u001b[0;34m\u001b[0m\u001b[0m\n\u001b[1;32m    124\u001b[0m \u001b[0;34m\u001b[0m\u001b[0m\n",
      "\u001b[0;32m~/miniconda/lib/python3.8/site-packages/cmdstanpy/utils.py\u001b[0m in \u001b[0;36mvalidate_cmdstan_path\u001b[0;34m(path)\u001b[0m\n\u001b[1;32m    108\u001b[0m     \"\"\"\n\u001b[1;32m    109\u001b[0m     \u001b[0;32mif\u001b[0m \u001b[0;32mnot\u001b[0m \u001b[0mos\u001b[0m\u001b[0;34m.\u001b[0m\u001b[0mpath\u001b[0m\u001b[0;34m.\u001b[0m\u001b[0misdir\u001b[0m\u001b[0;34m(\u001b[0m\u001b[0mpath\u001b[0m\u001b[0;34m)\u001b[0m\u001b[0;34m:\u001b[0m\u001b[0;34m\u001b[0m\u001b[0;34m\u001b[0m\u001b[0m\n\u001b[0;32m--> 110\u001b[0;31m         \u001b[0;32mraise\u001b[0m \u001b[0mValueError\u001b[0m\u001b[0;34m(\u001b[0m\u001b[0;34m'no such CmdStan directory {}'\u001b[0m\u001b[0;34m.\u001b[0m\u001b[0mformat\u001b[0m\u001b[0;34m(\u001b[0m\u001b[0mpath\u001b[0m\u001b[0;34m)\u001b[0m\u001b[0;34m)\u001b[0m\u001b[0;34m\u001b[0m\u001b[0;34m\u001b[0m\u001b[0m\n\u001b[0m\u001b[1;32m    111\u001b[0m     \u001b[0;32mif\u001b[0m \u001b[0;32mnot\u001b[0m \u001b[0mos\u001b[0m\u001b[0;34m.\u001b[0m\u001b[0mpath\u001b[0m\u001b[0;34m.\u001b[0m\u001b[0mexists\u001b[0m\u001b[0;34m(\u001b[0m\u001b[0mos\u001b[0m\u001b[0;34m.\u001b[0m\u001b[0mpath\u001b[0m\u001b[0;34m.\u001b[0m\u001b[0mjoin\u001b[0m\u001b[0;34m(\u001b[0m\u001b[0mpath\u001b[0m\u001b[0;34m,\u001b[0m \u001b[0;34m'bin'\u001b[0m\u001b[0;34m,\u001b[0m \u001b[0;34m'stanc'\u001b[0m \u001b[0;34m+\u001b[0m \u001b[0mEXTENSION\u001b[0m\u001b[0;34m)\u001b[0m\u001b[0;34m)\u001b[0m\u001b[0;34m:\u001b[0m\u001b[0;34m\u001b[0m\u001b[0;34m\u001b[0m\u001b[0m\n\u001b[1;32m    112\u001b[0m         raise ValueError(\n",
      "\u001b[0;31mValueError\u001b[0m: no such CmdStan directory /root/.cmdstan/cmdstan-2.26.1/"
     ]
    }
   ],
   "source": [
    "import os\n",
    "\n",
    "from cmdstanpy import CmdStanModel, cmdstan_path, set_cmdstan_path\n",
    "\n",
    "set_cmdstan_path(\"/root/.cmdstan/cmdstan-2.26.1/\")\n",
    "os.environ[\"TBB_CXX_TYPE\"] = \"gcc\"\n",
    "# stan_model = CmdStanModel(stan_file=model.stan_code_file_path())"
   ]
  },
  {
   "cell_type": "code",
   "execution_count": 153,
   "id": "according-voice",
   "metadata": {},
   "outputs": [
    {
     "name": "stderr",
     "output_type": "stream",
     "text": [
      "INFO:cmdstanpy:found newer exe file, not recompiling\n",
      "INFO:cmdstanpy:compiled model file: /workspaces/jupyter-data/posteriordb/posterior_database/models/stan/eight_schools_centered\n",
      "INFO:cmdstanpy:start chain 1\n",
      "INFO:cmdstanpy:finish chain 1\n"
     ]
    }
   ],
   "source": [
    "stan_model = CmdStanModel(stan_file=model.stan_code_file_path())\n",
    "vb = stan_model.variational(data=data.values())"
   ]
  },
  {
   "cell_type": "code",
   "execution_count": 154,
   "id": "intimate-reward",
   "metadata": {},
   "outputs": [],
   "source": [
    "df = vb.variational_sample\n",
    "df.columns = vb.column_names"
   ]
  },
  {
   "cell_type": "code",
   "execution_count": 155,
   "id": "angry-nickel",
   "metadata": {},
   "outputs": [
    {
     "name": "stderr",
     "output_type": "stream",
     "text": [
      "<ipython-input-155-a924bd3e1f4c>:4: FutureWarning: Support for multi-dimensional indexing (e.g. `obj[:, None]`) is deprecated and will be removed in a future version.  Convert to a numpy array before indexing instead.\n",
      "  'mu': df.loc[:,'mu'][np.newaxis,:],\n",
      "<ipython-input-155-a924bd3e1f4c>:5: FutureWarning: Support for multi-dimensional indexing (e.g. `obj[:, None]`) is deprecated and will be removed in a future version.  Convert to a numpy array before indexing instead.\n",
      "  'tau': df.loc[:,'tau'][np.newaxis,:],\n"
     ]
    },
    {
     "data": {
      "text/plain": [
       "array([[<AxesSubplot:title={'center':'theta\\n0'}>,\n",
       "        <AxesSubplot:title={'center':'theta\\n1'}>,\n",
       "        <AxesSubplot:title={'center':'theta\\n2'}>],\n",
       "       [<AxesSubplot:title={'center':'theta\\n3'}>,\n",
       "        <AxesSubplot:title={'center':'theta\\n4'}>,\n",
       "        <AxesSubplot:title={'center':'theta\\n5'}>],\n",
       "       [<AxesSubplot:title={'center':'theta\\n6'}>,\n",
       "        <AxesSubplot:title={'center':'theta\\n7'}>,\n",
       "        <AxesSubplot:title={'center':'mu'}>],\n",
       "       [<AxesSubplot:title={'center':'tau'}>, <AxesSubplot:>,\n",
       "        <AxesSubplot:>]], dtype=object)"
      ]
     },
     "execution_count": 155,
     "metadata": {},
     "output_type": "execute_result"
    },
    {
     "data": {
      "image/png": "[encoded data removed]",
      "text/plain": [
       "<Figure size 1490.4x1324.8 with 12 Axes>"
      ]
     },
     "metadata": {
      "needs_background": "light"
     },
     "output_type": "display_data"
    }
   ],
   "source": [
    "az.plot_posterior(\n",
    "    az.convert_to_inference_data(\n",
    "        {\n",
    "            \"theta\": df.loc[:, map(lambda x: x.startswith(\"theta\"), df.columns)].values[\n",
    "                np.newaxis, :, :\n",
    "            ],\n",
    "            \"mu\": df.loc[:, \"mu\"][np.newaxis, :],\n",
    "            \"tau\": df.loc[:, \"tau\"][np.newaxis, :],\n",
    "        },\n",
    "        coords={\"school\": np.arange(data.values()[\"J\"])},\n",
    "        dims={\n",
    "            \"theta\": [\"school\"],\n",
    "        },\n",
    "    )\n",
    ")  # , backend=\"bokeh\")"
   ]
  },
  {
   "cell_type": "markdown",
   "id": "manufactured-visiting",
   "metadata": {
    "heading_collapsed": "true",
    "tags": []
   },
   "source": [
    "## Reference samples (from Stan NUTS)"
   ]
  },
  {
   "cell_type": "code",
   "execution_count": 156,
   "id": "moving-excitement",
   "metadata": {},
   "outputs": [],
   "source": [
    "import arviz as az\n",
    "import numpy as np\n",
    "\n",
    "gs = my_pdb.posterior(\"eight_schools-eight_schools_centered\").reference_draws()\n",
    "gs_dict = {}\n",
    "num_chains = len(gs)\n",
    "num_samples = len(gs[0][next(iter(gs[0]))])\n",
    "\n",
    "for i, chain in enumerate(gs):\n",
    "    for var in chain:\n",
    "        if \"[\" not in var:\n",
    "            if var not in gs_dict:\n",
    "                gs_dict[var] = np.zeros((num_chains, num_samples))\n",
    "            gs_dict[var][i, :] = np.array(chain[var])\n",
    "        else:\n",
    "            name = var.split(\"[\")[0]\n",
    "            idx = int(var.split(\"[\")[1].split(\"]\")[0]) - 1\n",
    "            if name not in gs_dict:\n",
    "                var_size = len(list(filter(lambda x: x.startswith(name), chain)))\n",
    "                gs_dict[name] = np.zeros((num_chains, num_samples, var_size))\n",
    "            gs_dict[name][i, :, idx] = np.array(chain[var])\n",
    "\n",
    "gs_idata = az.convert_to_inference_data(\n",
    "    gs_dict,\n",
    "    coords={\"school\": np.arange(data.values()[\"J\"])},\n",
    "    dims={\n",
    "        \"theta\": [\"school\"],\n",
    "    },\n",
    ")"
   ]
  },
  {
   "cell_type": "code",
   "execution_count": 157,
   "id": "integrated-humidity",
   "metadata": {},
   "outputs": [
    {
     "data": {
      "text/plain": [
       "array([[<AxesSubplot:title={'center':'theta\\n0'}>,\n",
       "        <AxesSubplot:title={'center':'theta\\n1'}>,\n",
       "        <AxesSubplot:title={'center':'theta\\n2'}>],\n",
       "       [<AxesSubplot:title={'center':'theta\\n3'}>,\n",
       "        <AxesSubplot:title={'center':'theta\\n4'}>,\n",
       "        <AxesSubplot:title={'center':'theta\\n5'}>],\n",
       "       [<AxesSubplot:title={'center':'theta\\n6'}>,\n",
       "        <AxesSubplot:title={'center':'theta\\n7'}>,\n",
       "        <AxesSubplot:title={'center':'mu'}>],\n",
       "       [<AxesSubplot:title={'center':'tau'}>, <AxesSubplot:>,\n",
       "        <AxesSubplot:>]], dtype=object)"
      ]
     },
     "execution_count": 157,
     "metadata": {},
     "output_type": "execute_result"
    },
    {
     "data": {
      "image/png": "[encoded data removed]",
      "text/plain": [
       "<Figure size 1490.4x1324.8 with 12 Axes>"
      ]
     },
     "metadata": {
      "needs_background": "light"
     },
     "output_type": "display_data"
    }
   ],
   "source": [
    "az.plot_posterior(gs_idata)  # , backend=\"bokeh\")"
   ]
  }
 ],
 "metadata": {
  "kernelspec": {
   "display_name": "Python 3 (ipykernel)",
   "language": "python",
   "name": "python3"
  },
  "language_info": {
   "codemirror_mode": {
    "name": "ipython",
    "version": 3
   },
   "file_extension": ".py",
   "mimetype": "text/x-python",
   "name": "python",
   "nbconvert_exporter": "python",
   "pygments_lexer": "ipython3",
   "version": "3.7.3"
  }
 },
 "nbformat": 4,
 "nbformat_minor": 5
}
