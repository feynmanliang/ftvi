{
 "cells": [
  {
   "cell_type": "code",
   "execution_count": 1,
   "id": "incorporate-adobe",
   "metadata": {},
   "outputs": [],
   "source": [
    "import matplotlib.pyplot as plt"
   ]
  },
  {
   "cell_type": "code",
   "execution_count": 2,
   "id": "distinct-february",
   "metadata": {},
   "outputs": [],
   "source": [
    "from posteriordb import PosteriorDatabase\n",
    "\n",
    "pdb_path = \"/workspaces/jupyter-data/posteriordb/posterior_database/\"\n",
    "my_pdb = PosteriorDatabase(pdb_path)\n",
    "model_name = \"diamonds\"\n",
    "model = my_pdb.model(model_name)\n",
    "data = my_pdb.data(model_name)"
   ]
  },
  {
   "cell_type": "code",
   "execution_count": 4,
   "id": "willing-musical",
   "metadata": {
    "collapsed": true,
    "jupyter": {
     "outputs_hidden": true
    },
    "tags": []
   },
   "outputs": [
    {
     "name": "stdout",
     "output_type": "stream",
     "text": [
      "// generated with brms 2.10.0\n",
      "\n",
      "functions {\n",
      "}\n",
      "data {\n",
      "  int<lower=1> N;  // number of observations\n",
      "  vector[N] Y;  // response variable\n",
      "  int<lower=1> K;  // number of population-level effects\n",
      "  matrix[N, K] X;  // population-level design matrix\n",
      "  int prior_only;  // should the likelihood be ignored?\n",
      "}\n",
      "transformed data {\n",
      "  int Kc = K - 1;\n",
      "  matrix[N, Kc] Xc;  // centered version of X without an intercept\n",
      "  vector[Kc] means_X;  // column means of X before centering\n",
      "  for (i in 2:K) {\n",
      "    means_X[i - 1] = mean(X[, i]);\n",
      "    Xc[, i - 1] = X[, i] - means_X[i - 1];\n",
      "  }\n",
      "}\n",
      "parameters {\n",
      "  vector[Kc] b;  // population-level effects\n",
      "  // temporary intercept for centered predictors\n",
      "  real Intercept;\n",
      "  real<lower=0> sigma;  // residual SD\n",
      "}\n",
      "transformed parameters {\n",
      "}\n",
      "model {\n",
      "  // priors including all constants\n",
      "  target += normal_lpdf(b | 0, 1);\n",
      "  target += student_t_lpdf(Intercept | 3, 8, 10);\n",
      "  target += student_t_lpdf(sigma | 3, 0, 10)\n",
      "    - 1 * student_t_lccdf(0 | 3, 0, 10);\n",
      "  // likelihood including all constants\n",
      "  if (!prior_only) {\n",
      "    target += normal_id_glm_lpdf(Y | Xc, Intercept, b, sigma);\n",
      "  }\n",
      "}\n",
      "generated quantities {\n",
      "  // actual population-level intercept\n",
      "  real b_Intercept = Intercept - dot_product(means_X, b);\n",
      "}\n",
      "\n"
     ]
    }
   ],
   "source": [
    "print(model.stan_code())"
   ]
  },
  {
   "cell_type": "code",
   "execution_count": 3,
   "id": "natural-sandwich",
   "metadata": {},
   "outputs": [],
   "source": [
    "import torch\n",
    "\n",
    "N = torch.tensor(data.values()[\"N\"])\n",
    "k = torch.tensor(data.values()[\"K\"])\n",
    "y = torch.tensor(data.values()[\"Y\"])\n",
    "x = (\n",
    "    torch.tensor(data.values()[\"X\"]) - torch.tensor(data.values()[\"X\"]).mean(dim=0)\n",
    ")[:, 1:]"
   ]
  },
  {
   "cell_type": "code",
   "execution_count": 4,
   "id": "experienced-fashion",
   "metadata": {},
   "outputs": [],
   "source": [
    "def p(alpha, beta, sigma):\n",
    "    return (\n",
    "        dist.Independent(dist.Normal(torch.zeros(k-1), torch.ones(k-1)), 1).log_prob(beta) +\n",
    "        dist.StudentT(3, 8, 10).log_prob(alpha) +\n",
    "        dist.StudentT(3, 0, 10).log_prob(sigma) - torch.log(torch.tensor(0.5)) +\n",
    "        dist.Independent(dist.Normal((alpha + x @ beta.T).T, sigma.unsqueeze(1)), 1).log_prob(y)\n",
    "    )"
   ]
  },
  {
   "cell_type": "code",
   "execution_count": 7,
   "id": "psychological-caution",
   "metadata": {},
   "outputs": [],
   "source": [
    "import torch\n",
    "import torch.distributions as dist\n",
    "import flowtorch.bijectors\n",
    "import flowtorch.params\n",
    "\n",
    "flow = flowtorch.bijectors.AffineAutoregressive(\n",
    "    flowtorch.params.DenseAutoregressive(\n",
    "        hidden_dims=(32,32,32)\n",
    "    )\n",
    ")\n",
    "base_dist = dist.Normal(torch.zeros(k+2), torch.ones(k+2))\n",
    "new_dist, params = flow(base_dist)"
   ]
  },
  {
   "cell_type": "code",
   "execution_count": 8,
   "id": "moved-diving",
   "metadata": {},
   "outputs": [
    {
     "data": {
      "application/vnd.jupyter.widget-view+json": {
       "model_id": "",
       "version_major": 2,
       "version_minor": 0
      },
      "text/plain": [
       "HBox(children=(HTML(value=''), FloatProgress(value=0.0, max=1000.0), HTML(value='')))"
      ]
     },
     "metadata": {},
     "output_type": "display_data"
    },
    {
     "name": "stdout",
     "output_type": "stream",
     "text": [
      "ELBO: 2744.085205078125, log p(y): 2855.183349609375555\n"
     ]
    }
   ],
   "source": [
    "import torch.optim as optim\n",
    "import torch.nn as nn\n",
    "from tqdm.auto import tqdm\n",
    "\n",
    "optimizer = optim.Adam(params.parameters(), lr=1e-2)\n",
    "\n",
    "n = 1000\n",
    "for _ in tqdm(range(int(1e3))):\n",
    "    optimizer.zero_grad()\n",
    "    samples = new_dist.rsample((n,))\n",
    "    log_q = new_dist.log_prob(samples)\n",
    "\n",
    "    alpha = samples[:,0]\n",
    "    beta = samples[:,1:k]\n",
    "    sigma = samples[:,k].exp()\n",
    "    log_p = p(alpha, beta, sigma) #+ samples[:,k] * sigma\n",
    "    loss = (log_q - log_p).mean()\n",
    "    loss.backward(retain_graph=True)\n",
    "    optimizer.step()\n",
    "\n",
    "    marginal_lik = torch.logsumexp(log_p - log_q - torch.log(torch.tensor([n])), dim=0)\n",
    "    tqdm.write(f\"ELBO: {-loss}, log p(y): {marginal_lik}\", end='')"
   ]
  },
  {
   "cell_type": "code",
   "execution_count": 6,
   "id": "homeless-bread",
   "metadata": {
    "tags": []
   },
   "outputs": [
    {
     "data": {
      "application/vnd.jupyter.widget-view+json": {
       "model_id": "f3f606c6041e4e9aa27f4f20d88f3948",
       "version_major": 2,
       "version_minor": 0
      },
      "text/plain": [
       "HBox(children=(HTML(value=''), FloatProgress(value=0.0, max=1000.0), HTML(value='')))"
      ]
     },
     "metadata": {},
     "output_type": "display_data"
    },
    {
     "name": "stdout",
     "output_type": "stream",
     "text": [
      "ELBO: 856.3377685546875, log p(y): 2562.155517578125575\n"
     ]
    },
    {
     "data": {
      "application/vnd.jupyter.widget-view+json": {
       "model_id": "41407db0bd0b4dddbc563dbbbd3cb0fe",
       "version_major": 2,
       "version_minor": 0
      },
      "text/plain": [
       "HBox(children=(HTML(value=''), FloatProgress(value=0.0), HTML(value='')))"
      ]
     },
     "metadata": {},
     "output_type": "display_data"
    },
    {
     "name": "stdout",
     "output_type": "stream",
     "text": [
      "ELBO: 1004.0053100585938, log p(y): 2740.8449707031255\n"
     ]
    },
    {
     "data": {
      "application/vnd.jupyter.widget-view+json": {
       "model_id": "c26dd7d161ab40999e1fcb976823df70",
       "version_major": 2,
       "version_minor": 0
      },
      "text/plain": [
       "HBox(children=(HTML(value=''), FloatProgress(value=0.0), HTML(value='')))"
      ]
     },
     "metadata": {},
     "output_type": "display_data"
    },
    {
     "name": "stdout",
     "output_type": "stream",
     "text": [
      "ELBO: 535.5269775390625, log p(y): 2807.1596679687555\n"
     ]
    },
    {
     "data": {
      "application/vnd.jupyter.widget-view+json": {
       "model_id": "b5a42d2fa770495790a243c0140de8a2",
       "version_major": 2,
       "version_minor": 0
      },
      "text/plain": [
       "HBox(children=(HTML(value=''), FloatProgress(value=0.0, max=1000.0), HTML(value='')))"
      ]
     },
     "metadata": {},
     "output_type": "display_data"
    },
    {
     "name": "stdout",
     "output_type": "stream",
     "text": [
      "ELBO: 2923.075927734375, log p(y): 2981.962158203125552\n"
     ]
    },
    {
     "data": {
      "application/vnd.jupyter.widget-view+json": {
       "model_id": "a6bf49fce7f649ddaabf2c66cdfa22f1",
       "version_major": 2,
       "version_minor": 0
      },
      "text/plain": [
       "HBox(children=(HTML(value=''), FloatProgress(value=0.0), HTML(value='')))"
      ]
     },
     "metadata": {},
     "output_type": "display_data"
    },
    {
     "name": "stdout",
     "output_type": "stream",
     "text": [
      "ELBO: 2904.009033203125, log p(y): 2979.973388671875\n"
     ]
    },
    {
     "data": {
      "application/vnd.jupyter.widget-view+json": {
       "model_id": "e42200e231bf4d8485ad8f9ba01c802d",
       "version_major": 2,
       "version_minor": 0
      },
      "text/plain": [
       "HBox(children=(HTML(value=''), FloatProgress(value=0.0), HTML(value='')))"
      ]
     },
     "metadata": {},
     "output_type": "display_data"
    },
    {
     "name": "stdout",
     "output_type": "stream",
     "text": [
      "ELBO: 2905.238525390625, log p(y): 2981.435302734375\n"
     ]
    },
    {
     "data": {
      "application/vnd.jupyter.widget-view+json": {
       "model_id": "44bdabefcfab46448cf28a366b9ca3b6",
       "version_major": 2,
       "version_minor": 0
      },
      "text/plain": [
       "HBox(children=(HTML(value=''), FloatProgress(value=0.0, max=1000.0), HTML(value='')))"
      ]
     },
     "metadata": {},
     "output_type": "display_data"
    },
    {
     "name": "stdout",
     "output_type": "stream",
     "text": [
      "ELBO: -4923.806640625, log p(y): 2667.7080078125755555\n"
     ]
    },
    {
     "data": {
      "application/vnd.jupyter.widget-view+json": {
       "model_id": "1963dbf2e9754552a74f201f534269c1",
       "version_major": 2,
       "version_minor": 0
      },
      "text/plain": [
       "HBox(children=(HTML(value=''), FloatProgress(value=0.0), HTML(value='')))"
      ]
     },
     "metadata": {},
     "output_type": "display_data"
    },
    {
     "name": "stdout",
     "output_type": "stream",
     "text": [
      "ELBO: -5033.8056640625, log p(y): 2731.0578613281255\n"
     ]
    },
    {
     "data": {
      "application/vnd.jupyter.widget-view+json": {
       "model_id": "11cf2a4716594cb89e6960e763969ff3",
       "version_major": 2,
       "version_minor": 0
      },
      "text/plain": [
       "HBox(children=(HTML(value=''), FloatProgress(value=0.0), HTML(value='')))"
      ]
     },
     "metadata": {},
     "output_type": "display_data"
    },
    {
     "name": "stdout",
     "output_type": "stream",
     "text": [
      "ELBO: -4963.328125, log p(y): 2645.75927734375203125\n"
     ]
    },
    {
     "data": {
      "application/vnd.jupyter.widget-view+json": {
       "model_id": "d90d7567be474d8e8314cc135c081f6f",
       "version_major": 2,
       "version_minor": 0
      },
      "text/plain": [
       "HBox(children=(HTML(value=''), FloatProgress(value=0.0, max=1000.0), HTML(value='')))"
      ]
     },
     "metadata": {},
     "output_type": "display_data"
    },
    {
     "name": "stdout",
     "output_type": "stream",
     "text": [
      "ELBO: -4381.68359375, log p(y): 2513.9897460937587555\n"
     ]
    },
    {
     "data": {
      "application/vnd.jupyter.widget-view+json": {
       "model_id": "58ff9f4b07174549b7fc071d3ec20857",
       "version_major": 2,
       "version_minor": 0
      },
      "text/plain": [
       "HBox(children=(HTML(value=''), FloatProgress(value=0.0), HTML(value='')))"
      ]
     },
     "metadata": {},
     "output_type": "display_data"
    },
    {
     "name": "stdout",
     "output_type": "stream",
     "text": [
      "ELBO: -4744.85498046875, log p(y): 2732.173583984375\n"
     ]
    },
    {
     "data": {
      "application/vnd.jupyter.widget-view+json": {
       "model_id": "da15cc60310b4f10b776cd42ad02a219",
       "version_major": 2,
       "version_minor": 0
      },
      "text/plain": [
       "HBox(children=(HTML(value=''), FloatProgress(value=0.0), HTML(value='')))"
      ]
     },
     "metadata": {},
     "output_type": "display_data"
    },
    {
     "name": "stdout",
     "output_type": "stream",
     "text": [
      "ELBO: -4553.74853515625, log p(y): 2667.333984375755\n"
     ]
    },
    {
     "data": {
      "application/vnd.jupyter.widget-view+json": {
       "model_id": "30bca6cf06904780bf105733c6e47b51",
       "version_major": 2,
       "version_minor": 0
      },
      "text/plain": [
       "HBox(children=(HTML(value=''), FloatProgress(value=0.0, max=1000.0), HTML(value='')))"
      ]
     },
     "metadata": {},
     "output_type": "display_data"
    },
    {
     "name": "stdout",
     "output_type": "stream",
     "text": [
      "ELBO: 2639.10205078125, log p(y): 2900.3315429687575555\n"
     ]
    },
    {
     "data": {
      "application/vnd.jupyter.widget-view+json": {
       "model_id": "416ca4b8a7e446c8a9317846c72c8015",
       "version_major": 2,
       "version_minor": 0
      },
      "text/plain": [
       "HBox(children=(HTML(value=''), FloatProgress(value=0.0), HTML(value='')))"
      ]
     },
     "metadata": {},
     "output_type": "display_data"
    },
    {
     "name": "stdout",
     "output_type": "stream",
     "text": [
      "ELBO: 2580.299072265625, log p(y): 2893.175048828125\n"
     ]
    },
    {
     "data": {
      "application/vnd.jupyter.widget-view+json": {
       "model_id": "34500a0a0368451f927da313e3b8acb2",
       "version_major": 2,
       "version_minor": 0
      },
      "text/plain": [
       "HBox(children=(HTML(value=''), FloatProgress(value=0.0), HTML(value='')))"
      ]
     },
     "metadata": {},
     "output_type": "display_data"
    },
    {
     "name": "stdout",
     "output_type": "stream",
     "text": [
      "ELBO: 2557.64111328125, log p(y): 2891.2597656253125\n"
     ]
    },
    {
     "data": {
      "application/vnd.jupyter.widget-view+json": {
       "model_id": "1143454e9f1149d683efbcfc08facea4",
       "version_major": 2,
       "version_minor": 0
      },
      "text/plain": [
       "HBox(children=(HTML(value=''), FloatProgress(value=0.0, max=1000.0), HTML(value='')))"
      ]
     },
     "metadata": {},
     "output_type": "display_data"
    },
    {
     "name": "stdout",
     "output_type": "stream",
     "text": [
      "ELBO: 1131.0946044921875, log p(y): 1798.27490234375555\n"
     ]
    },
    {
     "data": {
      "application/vnd.jupyter.widget-view+json": {
       "model_id": "3f953d549cd74b93b55fa3c8a289e6c1",
       "version_major": 2,
       "version_minor": 0
      },
      "text/plain": [
       "HBox(children=(HTML(value=''), FloatProgress(value=0.0, max=1000.0), HTML(value='')))"
      ]
     },
     "metadata": {},
     "output_type": "display_data"
    },
    {
     "name": "stdout",
     "output_type": "stream",
     "text": [
      "ELBO: 2303.601318359375, log p(y): 2611.1179199218755552\n"
     ]
    },
    {
     "data": {
      "application/vnd.jupyter.widget-view+json": {
       "model_id": "deb877a3ec394cf3bf0034d399aea0c0",
       "version_major": 2,
       "version_minor": 0
      },
      "text/plain": [
       "HBox(children=(HTML(value=''), FloatProgress(value=0.0), HTML(value='')))"
      ]
     },
     "metadata": {},
     "output_type": "display_data"
    },
    {
     "name": "stdout",
     "output_type": "stream",
     "text": [
      "ELBO: 2309.259033203125, log p(y): 2672.373291015625\n"
     ]
    },
    {
     "data": {
      "application/vnd.jupyter.widget-view+json": {
       "model_id": "21efd62c3cea4ac5a469f06728c3fe2d",
       "version_major": 2,
       "version_minor": 0
      },
      "text/plain": [
       "HBox(children=(HTML(value=''), FloatProgress(value=0.0), HTML(value='')))"
      ]
     },
     "metadata": {},
     "output_type": "display_data"
    },
    {
     "name": "stdout",
     "output_type": "stream",
     "text": [
      "ELBO: 2306.002685546875, log p(y): 2668.589355468755\n"
     ]
    },
    {
     "data": {
      "application/vnd.jupyter.widget-view+json": {
       "model_id": "55f407e21d3e4fd99786396c1a0b2d4e",
       "version_major": 2,
       "version_minor": 0
      },
      "text/plain": [
       "HBox(children=(HTML(value=''), FloatProgress(value=0.0, max=1000.0), HTML(value='')))"
      ]
     },
     "metadata": {},
     "output_type": "display_data"
    },
    {
     "name": "stdout",
     "output_type": "stream",
     "text": [
      "ELBO: 2414.762939453125, log p(y): 2757.3920898437555844\n"
     ]
    },
    {
     "data": {
      "application/vnd.jupyter.widget-view+json": {
       "model_id": "24745e378a1a4122a5b800ff197f9fb7",
       "version_major": 2,
       "version_minor": 0
      },
      "text/plain": [
       "HBox(children=(HTML(value=''), FloatProgress(value=0.0), HTML(value='')))"
      ]
     },
     "metadata": {},
     "output_type": "display_data"
    },
    {
     "name": "stdout",
     "output_type": "stream",
     "text": [
      "ELBO: 2513.810546875, log p(y): 2820.873779296875525\n"
     ]
    },
    {
     "data": {
      "application/vnd.jupyter.widget-view+json": {
       "model_id": "f9bc1f935c434ce79744f1ea4001a8e4",
       "version_major": 2,
       "version_minor": 0
      },
      "text/plain": [
       "HBox(children=(HTML(value=''), FloatProgress(value=0.0), HTML(value='')))"
      ]
     },
     "metadata": {},
     "output_type": "display_data"
    },
    {
     "name": "stdout",
     "output_type": "stream",
     "text": [
      "ELBO: 2518.125244140625, log p(y): 2839.578125256255\n"
     ]
    },
    {
     "data": {
      "application/vnd.jupyter.widget-view+json": {
       "model_id": "4c6c9f15d8ff4ca5ab2d9cd459d5ecf2",
       "version_major": 2,
       "version_minor": 0
      },
      "text/plain": [
       "HBox(children=(HTML(value=''), FloatProgress(value=0.0, max=1000.0), HTML(value='')))"
      ]
     },
     "metadata": {},
     "output_type": "display_data"
    },
    {
     "name": "stdout",
     "output_type": "stream",
     "text": [
      "ELBO: -7053.357421875, log p(y): 46.109443664550788868\n"
     ]
    },
    {
     "data": {
      "application/vnd.jupyter.widget-view+json": {
       "model_id": "7ce010f43d0847cd84489c06bfb42bb5",
       "version_major": 2,
       "version_minor": 0
      },
      "text/plain": [
       "HBox(children=(HTML(value=''), FloatProgress(value=0.0, max=1000.0), HTML(value='')))"
      ]
     },
     "metadata": {},
     "output_type": "display_data"
    },
    {
     "name": "stdout",
     "output_type": "stream",
     "text": [
      "ELBO: 2824.724609375, log p(y): 2957.505859375093755555\n"
     ]
    },
    {
     "data": {
      "application/vnd.jupyter.widget-view+json": {
       "model_id": "16c143bfc0fa48c68157069f78f1c17a",
       "version_major": 2,
       "version_minor": 0
      },
      "text/plain": [
       "HBox(children=(HTML(value=''), FloatProgress(value=0.0), HTML(value='')))"
      ]
     },
     "metadata": {},
     "output_type": "display_data"
    },
    {
     "name": "stdout",
     "output_type": "stream",
     "text": [
      "ELBO: 2775.265380859375, log p(y): 2967.718505859375\n"
     ]
    },
    {
     "data": {
      "application/vnd.jupyter.widget-view+json": {
       "model_id": "f42b026f8e4f4343ba1e859918507f42",
       "version_major": 2,
       "version_minor": 0
      },
      "text/plain": [
       "HBox(children=(HTML(value=''), FloatProgress(value=0.0), HTML(value='')))"
      ]
     },
     "metadata": {},
     "output_type": "display_data"
    },
    {
     "name": "stdout",
     "output_type": "stream",
     "text": [
      "ELBO: 2780.264892578125, log p(y): 2972.066894531255\n"
     ]
    },
    {
     "data": {
      "application/vnd.jupyter.widget-view+json": {
       "model_id": "b68bcbe4c9cd4ad1a04d79dddc261a72",
       "version_major": 2,
       "version_minor": 0
      },
      "text/plain": [
       "HBox(children=(HTML(value=''), FloatProgress(value=0.0, max=1000.0), HTML(value='')))"
      ]
     },
     "metadata": {},
     "output_type": "display_data"
    },
    {
     "name": "stdout",
     "output_type": "stream",
     "text": [
      "ELBO: 2524.40478515625, log p(y): 2812.5173339843755555\n"
     ]
    },
    {
     "data": {
      "application/vnd.jupyter.widget-view+json": {
       "model_id": "3366067df7ff4284a1a6f8117668892c",
       "version_major": 2,
       "version_minor": 0
      },
      "text/plain": [
       "HBox(children=(HTML(value=''), FloatProgress(value=0.0), HTML(value='')))"
      ]
     },
     "metadata": {},
     "output_type": "display_data"
    },
    {
     "name": "stdout",
     "output_type": "stream",
     "text": [
      "ELBO: 2626.662841796875, log p(y): 2872.464599609375\n"
     ]
    },
    {
     "data": {
      "application/vnd.jupyter.widget-view+json": {
       "model_id": "6301f74d7a7f495e8818b2eb9aae2cac",
       "version_major": 2,
       "version_minor": 0
      },
      "text/plain": [
       "HBox(children=(HTML(value=''), FloatProgress(value=0.0), HTML(value='')))"
      ]
     },
     "metadata": {},
     "output_type": "display_data"
    },
    {
     "name": "stdout",
     "output_type": "stream",
     "text": [
      "ELBO: 2616.268798828125, log p(y): 2862.489013671875\n"
     ]
    },
    {
     "data": {
      "application/vnd.jupyter.widget-view+json": {
       "model_id": "c87b673b0d8543b891821b19cd8fb721",
       "version_major": 2,
       "version_minor": 0
      },
      "text/plain": [
       "HBox(children=(HTML(value=''), FloatProgress(value=0.0, max=1000.0), HTML(value='')))"
      ]
     },
     "metadata": {},
     "output_type": "display_data"
    },
    {
     "name": "stdout",
     "output_type": "stream",
     "text": [
      "ELBO: 1761.2716064453125, log p(y): 2606.811767578125526\n"
     ]
    },
    {
     "data": {
      "application/vnd.jupyter.widget-view+json": {
       "model_id": "a9769af3c51042faaa7eeaa8ba98189a",
       "version_major": 2,
       "version_minor": 0
      },
      "text/plain": [
       "HBox(children=(HTML(value=''), FloatProgress(value=0.0), HTML(value='')))"
      ]
     },
     "metadata": {},
     "output_type": "display_data"
    },
    {
     "name": "stdout",
     "output_type": "stream",
     "text": [
      "ELBO: 1883.1842041015625, log p(y): 2655.429199218755\n"
     ]
    },
    {
     "data": {
      "application/vnd.jupyter.widget-view+json": {
       "model_id": "f3e4f93c445e4444b833de8272d43d09",
       "version_major": 2,
       "version_minor": 0
      },
      "text/plain": [
       "HBox(children=(HTML(value=''), FloatProgress(value=0.0), HTML(value='')))"
      ]
     },
     "metadata": {},
     "output_type": "display_data"
    },
    {
     "name": "stdout",
     "output_type": "stream",
     "text": [
      "ELBO: 1843.176025390625, log p(y): 2635.2065429687525\n"
     ]
    },
    {
     "data": {
      "application/vnd.jupyter.widget-view+json": {
       "model_id": "7f0e922be07f4492b15ee350bb9b79f4",
       "version_major": 2,
       "version_minor": 0
      },
      "text/plain": [
       "HBox(children=(HTML(value=''), FloatProgress(value=0.0, max=1000.0), HTML(value='')))"
      ]
     },
     "metadata": {},
     "output_type": "display_data"
    },
    {
     "name": "stdout",
     "output_type": "stream",
     "text": [
      "ELBO: 2590.58935546875, log p(y): 2816.9677734375875555\n"
     ]
    },
    {
     "data": {
      "application/vnd.jupyter.widget-view+json": {
       "model_id": "907fad1e5aa84a40b38e20285023bc87",
       "version_major": 2,
       "version_minor": 0
      },
      "text/plain": [
       "HBox(children=(HTML(value=''), FloatProgress(value=0.0), HTML(value='')))"
      ]
     },
     "metadata": {},
     "output_type": "display_data"
    },
    {
     "name": "stdout",
     "output_type": "stream",
     "text": [
      "ELBO: 2498.173095703125, log p(y): 2834.150878906255\n"
     ]
    },
    {
     "data": {
      "application/vnd.jupyter.widget-view+json": {
       "model_id": "659c2299a3a9462a9cb42b2d07d51af4",
       "version_major": 2,
       "version_minor": 0
      },
      "text/plain": [
       "HBox(children=(HTML(value=''), FloatProgress(value=0.0), HTML(value='')))"
      ]
     },
     "metadata": {},
     "output_type": "display_data"
    },
    {
     "name": "stdout",
     "output_type": "stream",
     "text": [
      "ELBO: 2487.996337890625, log p(y): 2899.777099609375\n"
     ]
    },
    {
     "data": {
      "application/vnd.jupyter.widget-view+json": {
       "model_id": "5d8d568d0ec742568aa5bbd9eddfd2ca",
       "version_major": 2,
       "version_minor": 0
      },
      "text/plain": [
       "HBox(children=(HTML(value=''), FloatProgress(value=0.0, max=1000.0), HTML(value='')))"
      ]
     },
     "metadata": {},
     "output_type": "display_data"
    },
    {
     "name": "stdout",
     "output_type": "stream",
     "text": [
      "ELBO: 2627.158935546875, log p(y): 2817.402832031255555\n"
     ]
    },
    {
     "ename": "KeyboardInterrupt",
     "evalue": "",
     "output_type": "error",
     "traceback": [
      "\u001b[0;31m-----------------------------------------------------------------------\u001b[0m",
      "\u001b[0;31mKeyboardInterrupt\u001b[0m                     Traceback (most recent call last)",
      "\u001b[0;32m<ipython-input-6-3c8770036dbc>\u001b[0m in \u001b[0;36m<module>\u001b[0;34m\u001b[0m\n\u001b[1;32m     33\u001b[0m             \u001b[0mlog_p\u001b[0m \u001b[0;34m=\u001b[0m \u001b[0mp\u001b[0m\u001b[0;34m(\u001b[0m\u001b[0malpha\u001b[0m\u001b[0;34m,\u001b[0m \u001b[0mbeta\u001b[0m\u001b[0;34m,\u001b[0m \u001b[0msigma\u001b[0m\u001b[0;34m)\u001b[0m \u001b[0;31m#+ samples[:,k] * sigma\u001b[0m\u001b[0;34m\u001b[0m\u001b[0;34m\u001b[0m\u001b[0m\n\u001b[1;32m     34\u001b[0m             \u001b[0mloss\u001b[0m \u001b[0;34m=\u001b[0m \u001b[0;34m(\u001b[0m\u001b[0mlog_q\u001b[0m \u001b[0;34m-\u001b[0m \u001b[0mlog_p\u001b[0m\u001b[0;34m)\u001b[0m\u001b[0;34m.\u001b[0m\u001b[0mmean\u001b[0m\u001b[0;34m(\u001b[0m\u001b[0;34m)\u001b[0m\u001b[0;34m\u001b[0m\u001b[0;34m\u001b[0m\u001b[0m\n\u001b[0;32m---> 35\u001b[0;31m             \u001b[0mloss\u001b[0m\u001b[0;34m.\u001b[0m\u001b[0mbackward\u001b[0m\u001b[0;34m(\u001b[0m\u001b[0mretain_graph\u001b[0m\u001b[0;34m=\u001b[0m\u001b[0;32mTrue\u001b[0m\u001b[0;34m)\u001b[0m\u001b[0;34m\u001b[0m\u001b[0;34m\u001b[0m\u001b[0m\n\u001b[0m\u001b[1;32m     36\u001b[0m             \u001b[0moptimizer\u001b[0m\u001b[0;34m.\u001b[0m\u001b[0mstep\u001b[0m\u001b[0;34m(\u001b[0m\u001b[0;34m)\u001b[0m\u001b[0;34m\u001b[0m\u001b[0;34m\u001b[0m\u001b[0m\n\u001b[1;32m     37\u001b[0m \u001b[0;34m\u001b[0m\u001b[0m\n",
      "\u001b[0;32m~/miniconda/lib/python3.8/site-packages/torch/tensor.py\u001b[0m in \u001b[0;36mbackward\u001b[0;34m(self, gradient, retain_graph, create_graph, inputs)\u001b[0m\n\u001b[1;32m    243\u001b[0m                 \u001b[0mcreate_graph\u001b[0m\u001b[0;34m=\u001b[0m\u001b[0mcreate_graph\u001b[0m\u001b[0;34m,\u001b[0m\u001b[0;34m\u001b[0m\u001b[0;34m\u001b[0m\u001b[0m\n\u001b[1;32m    244\u001b[0m                 inputs=inputs)\n\u001b[0;32m--> 245\u001b[0;31m         \u001b[0mtorch\u001b[0m\u001b[0;34m.\u001b[0m\u001b[0mautograd\u001b[0m\u001b[0;34m.\u001b[0m\u001b[0mbackward\u001b[0m\u001b[0;34m(\u001b[0m\u001b[0mself\u001b[0m\u001b[0;34m,\u001b[0m \u001b[0mgradient\u001b[0m\u001b[0;34m,\u001b[0m \u001b[0mretain_graph\u001b[0m\u001b[0;34m,\u001b[0m \u001b[0mcreate_graph\u001b[0m\u001b[0;34m,\u001b[0m \u001b[0minputs\u001b[0m\u001b[0;34m=\u001b[0m\u001b[0minputs\u001b[0m\u001b[0;34m)\u001b[0m\u001b[0;34m\u001b[0m\u001b[0;34m\u001b[0m\u001b[0m\n\u001b[0m\u001b[1;32m    246\u001b[0m \u001b[0;34m\u001b[0m\u001b[0m\n\u001b[1;32m    247\u001b[0m     \u001b[0;32mdef\u001b[0m \u001b[0mregister_hook\u001b[0m\u001b[0;34m(\u001b[0m\u001b[0mself\u001b[0m\u001b[0;34m,\u001b[0m \u001b[0mhook\u001b[0m\u001b[0;34m)\u001b[0m\u001b[0;34m:\u001b[0m\u001b[0;34m\u001b[0m\u001b[0;34m\u001b[0m\u001b[0m\n",
      "\u001b[0;32m~/miniconda/lib/python3.8/site-packages/torch/autograd/__init__.py\u001b[0m in \u001b[0;36mbackward\u001b[0;34m(tensors, grad_tensors, retain_graph, create_graph, grad_variables, inputs)\u001b[0m\n\u001b[1;32m    143\u001b[0m         \u001b[0mretain_graph\u001b[0m \u001b[0;34m=\u001b[0m \u001b[0mcreate_graph\u001b[0m\u001b[0;34m\u001b[0m\u001b[0;34m\u001b[0m\u001b[0m\n\u001b[1;32m    144\u001b[0m \u001b[0;34m\u001b[0m\u001b[0m\n\u001b[0;32m--> 145\u001b[0;31m     Variable._execution_engine.run_backward(\n\u001b[0m\u001b[1;32m    146\u001b[0m         \u001b[0mtensors\u001b[0m\u001b[0;34m,\u001b[0m \u001b[0mgrad_tensors_\u001b[0m\u001b[0;34m,\u001b[0m \u001b[0mretain_graph\u001b[0m\u001b[0;34m,\u001b[0m \u001b[0mcreate_graph\u001b[0m\u001b[0;34m,\u001b[0m \u001b[0minputs\u001b[0m\u001b[0;34m,\u001b[0m\u001b[0;34m\u001b[0m\u001b[0;34m\u001b[0m\u001b[0m\n\u001b[1;32m    147\u001b[0m         allow_unreachable=True, accumulate_grad=True)  # allow_unreachable flag\n",
      "\u001b[0;31mKeyboardInterrupt\u001b[0m: "
     ]
    }
   ],
   "source": [
    "import torch\n",
    "import torch.distributions as dist\n",
    "import flowtorch.bijectors\n",
    "import flowtorch.params\n",
    "import torch.optim as optim\n",
    "import torch.nn as nn\n",
    "from tqdm.auto import tqdm\n",
    "\n",
    "data = []\n",
    "\n",
    "for trial in range(100):\n",
    "    for num_layers in range(1,5):\n",
    "        flow = flowtorch.bijectors.AffineAutoregressive(\n",
    "            flowtorch.params.DenseAutoregressive(\n",
    "                hidden_dims=(32,)*num_layers\n",
    "            )\n",
    "        )\n",
    "        base_dist = dist.Normal(torch.zeros(k+2), torch.ones(k+2))\n",
    "        new_dist, params = flow(base_dist)\n",
    "        optimizer = optim.Adam(params.parameters(), lr=1e-2)\n",
    "\n",
    "        n = 1000\n",
    "        for _ in tqdm(range(int(1e3))):\n",
    "            optimizer.zero_grad()\n",
    "            samples = new_dist.rsample((n,))\n",
    "            if torch.isnan(samples).any(): continue\n",
    "\n",
    "            log_q = new_dist.log_prob(samples)\n",
    "\n",
    "            alpha = samples[:,0]\n",
    "            beta = samples[:,1:k]\n",
    "            sigma = samples[:,k].exp()\n",
    "            log_p = p(alpha, beta, sigma) #+ samples[:,k] * sigma\n",
    "            loss = (log_q - log_p).mean()\n",
    "            loss.backward(retain_graph=True)\n",
    "            optimizer.step()\n",
    "\n",
    "            marginal_lik = torch.logsumexp(log_p - log_q - torch.log(torch.tensor([n])), dim=0)\n",
    "            tqdm.write(f\"ELBO: {-loss}, log p(y): {marginal_lik}\", end='')\n",
    "\n",
    "        if marginal_lik < 2500: continue\n",
    "        data.append({\n",
    "            'method': 'ADVI',\n",
    "            'num_layers': num_layers,\n",
    "            'elbo': -loss.item(),\n",
    "            'log_p_y': marginal_lik.item(),\n",
    "        })\n",
    "\n",
    "        # TAF, train just DF\n",
    "        dfs = nn.Parameter(data=torch.ones(1)*10)\n",
    "        new_dist.base_dist = dist.StudentT(df=dfs*torch.ones(k+2), loc=torch.zeros(k+2), scale=torch.ones(k+2))\n",
    "        optimizer = optim.Adam([dfs], lr=1e-2)\n",
    "        for _ in tqdm(range(int(1e2))):\n",
    "            optimizer.zero_grad()\n",
    "            samples = new_dist.rsample((n,))\n",
    "            if torch.isnan(samples).any(): continue\n",
    "            log_q = new_dist.log_prob(samples)\n",
    "\n",
    "            alpha = samples[:,0]\n",
    "            beta = samples[:,1:k]\n",
    "            sigma = samples[:,k].exp()\n",
    "            log_p = p(alpha, beta, sigma) #+ samples[:,k] * sigma\n",
    "            loss = (log_q - log_p).mean()\n",
    "            loss.backward(retain_graph=True)\n",
    "            optimizer.step()\n",
    "\n",
    "            marginal_lik = torch.logsumexp(log_p - log_q - torch.log(torch.tensor([n])), dim=0)\n",
    "            tqdm.write(f\"ELBO: {-loss}, log p(y): {marginal_lik}\", end='')\n",
    "\n",
    "        data.append({\n",
    "            'method': 'TAF',\n",
    "            'num_layers': num_layers,\n",
    "            'elbo': -loss.item(),\n",
    "            'log_p_y': marginal_lik.item(),\n",
    "        })\n",
    "\n",
    "        # TAF, train just DF\n",
    "        dfs = nn.Parameter(data=dfs.data*torch.ones(k+2))\n",
    "        new_dist.base_dist = dist.StudentT(df=dfs, loc=torch.zeros(k+2), scale=torch.ones(k+2))\n",
    "        optimizer = optim.Adam([dfs], lr=1e-2)\n",
    "        for _ in tqdm(range(int(1e2))):\n",
    "            optimizer.zero_grad()\n",
    "            samples = new_dist.rsample((n,))\n",
    "            if torch.isnan(samples).any(): continue\n",
    "            log_q = new_dist.log_prob(samples)\n",
    "\n",
    "            alpha = samples[:,0]\n",
    "            beta = samples[:,1:k]\n",
    "            sigma = samples[:,k].exp()\n",
    "            log_p = p(alpha, beta, sigma) #+ samples[:,k] * sigma\n",
    "            loss = (log_q - log_p).mean()\n",
    "            loss.backward(retain_graph=True)\n",
    "            optimizer.step()\n",
    "\n",
    "            marginal_lik = torch.logsumexp(log_p - log_q - torch.log(torch.tensor([n])), dim=0)\n",
    "            tqdm.write(f\"ELBO: {-loss}, log p(y): {marginal_lik}\", end='')\n",
    "\n",
    "        data.append({\n",
    "            'method': 'ATAF',\n",
    "            'num_layers': num_layers,\n",
    "            'elbo': -loss.item(),\n",
    "            'log_p_y': marginal_lik.item(),\n",
    "        })\n",
    "        \n",
    "pickle.dump(data, open(\"diamonds.pkl\", \"wb\"))"
   ]
  },
  {
   "cell_type": "code",
   "execution_count": 27,
   "id": "surprised-glucose",
   "metadata": {},
   "outputs": [],
   "source": [
    "import pickle\n",
    "#pickle.dump(data, open(\"diamonds.pkl\", \"wb\"))\n",
    "data = pickle.load(open(\"diamonds.pkl\", \"rb\"))"
   ]
  },
  {
   "cell_type": "code",
   "execution_count": 28,
   "id": "civilian-skating",
   "metadata": {},
   "outputs": [],
   "source": [
    "import pandas as pd\n",
    "import seaborn as sns\n",
    "sns.set_style(\"darkgrid\")\n",
    "\n",
    "df = pd.DataFrame(data).melt(id_vars=['method','num_layers'])"
   ]
  },
  {
   "cell_type": "code",
   "execution_count": 29,
   "id": "considered-defendant",
   "metadata": {},
   "outputs": [
    {
     "data": {
      "text/html": [
       "<div>\n",
       "<style scoped>\n",
       "    .dataframe tbody tr th:only-of-type {\n",
       "        vertical-align: middle;\n",
       "    }\n",
       "\n",
       "    .dataframe tbody tr th {\n",
       "        vertical-align: top;\n",
       "    }\n",
       "\n",
       "    .dataframe thead th {\n",
       "        text-align: right;\n",
       "    }\n",
       "</style>\n",
       "<table border=\"1\" class=\"dataframe\">\n",
       "  <thead>\n",
       "    <tr style=\"text-align: right;\">\n",
       "      <th></th>\n",
       "      <th>method</th>\n",
       "      <th>num_layers</th>\n",
       "      <th>variable</th>\n",
       "      <th>value</th>\n",
       "    </tr>\n",
       "  </thead>\n",
       "  <tbody>\n",
       "    <tr>\n",
       "      <th>0</th>\n",
       "      <td>ADVI</td>\n",
       "      <td>1</td>\n",
       "      <td>elbo</td>\n",
       "      <td>856.337769</td>\n",
       "    </tr>\n",
       "    <tr>\n",
       "      <th>1</th>\n",
       "      <td>TAF</td>\n",
       "      <td>1</td>\n",
       "      <td>elbo</td>\n",
       "      <td>1004.005310</td>\n",
       "    </tr>\n",
       "    <tr>\n",
       "      <th>2</th>\n",
       "      <td>ATAF</td>\n",
       "      <td>1</td>\n",
       "      <td>elbo</td>\n",
       "      <td>535.526978</td>\n",
       "    </tr>\n",
       "    <tr>\n",
       "      <th>3</th>\n",
       "      <td>ADVI</td>\n",
       "      <td>2</td>\n",
       "      <td>elbo</td>\n",
       "      <td>2923.075928</td>\n",
       "    </tr>\n",
       "    <tr>\n",
       "      <th>4</th>\n",
       "      <td>TAF</td>\n",
       "      <td>2</td>\n",
       "      <td>elbo</td>\n",
       "      <td>2904.009033</td>\n",
       "    </tr>\n",
       "    <tr>\n",
       "      <th>...</th>\n",
       "      <td>...</td>\n",
       "      <td>...</td>\n",
       "      <td>...</td>\n",
       "      <td>...</td>\n",
       "    </tr>\n",
       "    <tr>\n",
       "      <th>61</th>\n",
       "      <td>TAF</td>\n",
       "      <td>4</td>\n",
       "      <td>log_p_y</td>\n",
       "      <td>2655.429199</td>\n",
       "    </tr>\n",
       "    <tr>\n",
       "      <th>62</th>\n",
       "      <td>ATAF</td>\n",
       "      <td>4</td>\n",
       "      <td>log_p_y</td>\n",
       "      <td>2635.206543</td>\n",
       "    </tr>\n",
       "    <tr>\n",
       "      <th>63</th>\n",
       "      <td>ADVI</td>\n",
       "      <td>1</td>\n",
       "      <td>log_p_y</td>\n",
       "      <td>2816.967773</td>\n",
       "    </tr>\n",
       "    <tr>\n",
       "      <th>64</th>\n",
       "      <td>TAF</td>\n",
       "      <td>1</td>\n",
       "      <td>log_p_y</td>\n",
       "      <td>2834.150879</td>\n",
       "    </tr>\n",
       "    <tr>\n",
       "      <th>65</th>\n",
       "      <td>ATAF</td>\n",
       "      <td>1</td>\n",
       "      <td>log_p_y</td>\n",
       "      <td>2899.777100</td>\n",
       "    </tr>\n",
       "  </tbody>\n",
       "</table>\n",
       "<p>66 rows × 4 columns</p>\n",
       "</div>"
      ],
      "text/plain": [
       "   method  num_layers variable        value\n",
       "0    ADVI           1     elbo   856.337769\n",
       "1     TAF           1     elbo  1004.005310\n",
       "2    ATAF           1     elbo   535.526978\n",
       "3    ADVI           2     elbo  2923.075928\n",
       "4     TAF           2     elbo  2904.009033\n",
       "..    ...         ...      ...          ...\n",
       "61    TAF           4  log_p_y  2655.429199\n",
       "62   ATAF           4  log_p_y  2635.206543\n",
       "63   ADVI           1  log_p_y  2816.967773\n",
       "64    TAF           1  log_p_y  2834.150879\n",
       "65   ATAF           1  log_p_y  2899.777100\n",
       "\n",
       "[66 rows x 4 columns]"
      ]
     },
     "execution_count": 29,
     "metadata": {},
     "output_type": "execute_result"
    }
   ],
   "source": [
    "df"
   ]
  },
  {
   "cell_type": "code",
   "execution_count": 30,
   "id": "altered-classic",
   "metadata": {},
   "outputs": [
    {
     "data": {
      "text/html": [
       "<div>\n",
       "<style scoped>\n",
       "    .dataframe tbody tr th:only-of-type {\n",
       "        vertical-align: middle;\n",
       "    }\n",
       "\n",
       "    .dataframe tbody tr th {\n",
       "        vertical-align: top;\n",
       "    }\n",
       "\n",
       "    .dataframe thead tr th {\n",
       "        text-align: left;\n",
       "    }\n",
       "\n",
       "    .dataframe thead tr:last-of-type th {\n",
       "        text-align: right;\n",
       "    }\n",
       "</style>\n",
       "<table border=\"1\" class=\"dataframe\">\n",
       "  <thead>\n",
       "    <tr>\n",
       "      <th></th>\n",
       "      <th></th>\n",
       "      <th></th>\n",
       "      <th colspan=\"8\" halign=\"left\">value</th>\n",
       "    </tr>\n",
       "    <tr>\n",
       "      <th></th>\n",
       "      <th></th>\n",
       "      <th></th>\n",
       "      <th>count</th>\n",
       "      <th>mean</th>\n",
       "      <th>std</th>\n",
       "      <th>min</th>\n",
       "      <th>25%</th>\n",
       "      <th>50%</th>\n",
       "      <th>75%</th>\n",
       "      <th>max</th>\n",
       "    </tr>\n",
       "    <tr>\n",
       "      <th>method</th>\n",
       "      <th>num_layers</th>\n",
       "      <th>variable</th>\n",
       "      <th></th>\n",
       "      <th></th>\n",
       "      <th></th>\n",
       "      <th></th>\n",
       "      <th></th>\n",
       "      <th></th>\n",
       "      <th></th>\n",
       "      <th></th>\n",
       "    </tr>\n",
       "  </thead>\n",
       "  <tbody>\n",
       "    <tr>\n",
       "      <th rowspan=\"8\" valign=\"top\">ADVI</th>\n",
       "      <th rowspan=\"2\" valign=\"top\">1</th>\n",
       "      <th>elbo</th>\n",
       "      <td>3.0</td>\n",
       "      <td>2028.676392</td>\n",
       "      <td>1015.564747</td>\n",
       "      <td>856.337769</td>\n",
       "      <td>1723.463562</td>\n",
       "      <td>2590.589355</td>\n",
       "      <td>2614.845703</td>\n",
       "      <td>2639.102051</td>\n",
       "    </tr>\n",
       "    <tr>\n",
       "      <th>log_p_y</th>\n",
       "      <td>3.0</td>\n",
       "      <td>2759.818278</td>\n",
       "      <td>176.182589</td>\n",
       "      <td>2562.155518</td>\n",
       "      <td>2689.561646</td>\n",
       "      <td>2816.967773</td>\n",
       "      <td>2858.649658</td>\n",
       "      <td>2900.331543</td>\n",
       "    </tr>\n",
       "    <tr>\n",
       "      <th rowspan=\"2\" valign=\"top\">2</th>\n",
       "      <th>elbo</th>\n",
       "      <td>2.0</td>\n",
       "      <td>2873.900269</td>\n",
       "      <td>69.544884</td>\n",
       "      <td>2824.724609</td>\n",
       "      <td>2849.312439</td>\n",
       "      <td>2873.900269</td>\n",
       "      <td>2898.488098</td>\n",
       "      <td>2923.075928</td>\n",
       "    </tr>\n",
       "    <tr>\n",
       "      <th>log_p_y</th>\n",
       "      <td>2.0</td>\n",
       "      <td>2969.734009</td>\n",
       "      <td>17.293215</td>\n",
       "      <td>2957.505859</td>\n",
       "      <td>2963.619934</td>\n",
       "      <td>2969.734009</td>\n",
       "      <td>2975.848083</td>\n",
       "      <td>2981.962158</td>\n",
       "    </tr>\n",
       "    <tr>\n",
       "      <th rowspan=\"2\" valign=\"top\">3</th>\n",
       "      <th>elbo</th>\n",
       "      <td>3.0</td>\n",
       "      <td>-31.933512</td>\n",
       "      <td>4237.924677</td>\n",
       "      <td>-4923.806641</td>\n",
       "      <td>-1310.102661</td>\n",
       "      <td>2303.601318</td>\n",
       "      <td>2414.003052</td>\n",
       "      <td>2524.404785</td>\n",
       "    </tr>\n",
       "    <tr>\n",
       "      <th>log_p_y</th>\n",
       "      <td>3.0</td>\n",
       "      <td>2697.114421</td>\n",
       "      <td>103.870033</td>\n",
       "      <td>2611.117920</td>\n",
       "      <td>2639.412964</td>\n",
       "      <td>2667.708008</td>\n",
       "      <td>2740.112671</td>\n",
       "      <td>2812.517334</td>\n",
       "    </tr>\n",
       "    <tr>\n",
       "      <th rowspan=\"2\" valign=\"top\">4</th>\n",
       "      <th>elbo</th>\n",
       "      <td>3.0</td>\n",
       "      <td>-68.549683</td>\n",
       "      <td>3749.547417</td>\n",
       "      <td>-4381.683594</td>\n",
       "      <td>-1310.205994</td>\n",
       "      <td>1761.271606</td>\n",
       "      <td>2088.017273</td>\n",
       "      <td>2414.762939</td>\n",
       "    </tr>\n",
       "    <tr>\n",
       "      <th>log_p_y</th>\n",
       "      <td>3.0</td>\n",
       "      <td>2626.064535</td>\n",
       "      <td>122.838011</td>\n",
       "      <td>2513.989746</td>\n",
       "      <td>2560.400757</td>\n",
       "      <td>2606.811768</td>\n",
       "      <td>2682.101929</td>\n",
       "      <td>2757.392090</td>\n",
       "    </tr>\n",
       "    <tr>\n",
       "      <th rowspan=\"8\" valign=\"top\">ATAF</th>\n",
       "      <th rowspan=\"2\" valign=\"top\">1</th>\n",
       "      <th>elbo</th>\n",
       "      <td>3.0</td>\n",
       "      <td>1860.388143</td>\n",
       "      <td>1147.891732</td>\n",
       "      <td>535.526978</td>\n",
       "      <td>1511.761658</td>\n",
       "      <td>2487.996338</td>\n",
       "      <td>2522.818726</td>\n",
       "      <td>2557.641113</td>\n",
       "    </tr>\n",
       "    <tr>\n",
       "      <th>log_p_y</th>\n",
       "      <td>3.0</td>\n",
       "      <td>2866.065511</td>\n",
       "      <td>51.191406</td>\n",
       "      <td>2807.159668</td>\n",
       "      <td>2849.209717</td>\n",
       "      <td>2891.259766</td>\n",
       "      <td>2895.518433</td>\n",
       "      <td>2899.777100</td>\n",
       "    </tr>\n",
       "    <tr>\n",
       "      <th rowspan=\"2\" valign=\"top\">2</th>\n",
       "      <th>elbo</th>\n",
       "      <td>2.0</td>\n",
       "      <td>2842.751709</td>\n",
       "      <td>88.369703</td>\n",
       "      <td>2780.264893</td>\n",
       "      <td>2811.508301</td>\n",
       "      <td>2842.751709</td>\n",
       "      <td>2873.995117</td>\n",
       "      <td>2905.238525</td>\n",
       "    </tr>\n",
       "    <tr>\n",
       "      <th>log_p_y</th>\n",
       "      <td>2.0</td>\n",
       "      <td>2976.751099</td>\n",
       "      <td>6.624465</td>\n",
       "      <td>2972.066895</td>\n",
       "      <td>2974.408997</td>\n",
       "      <td>2976.751099</td>\n",
       "      <td>2979.093201</td>\n",
       "      <td>2981.435303</td>\n",
       "    </tr>\n",
       "    <tr>\n",
       "      <th rowspan=\"2\" valign=\"top\">3</th>\n",
       "      <th>elbo</th>\n",
       "      <td>3.0</td>\n",
       "      <td>-13.685547</td>\n",
       "      <td>4289.322499</td>\n",
       "      <td>-4963.328125</td>\n",
       "      <td>-1328.662720</td>\n",
       "      <td>2306.002686</td>\n",
       "      <td>2461.135742</td>\n",
       "      <td>2616.268799</td>\n",
       "    </tr>\n",
       "    <tr>\n",
       "      <th>log_p_y</th>\n",
       "      <td>3.0</td>\n",
       "      <td>2725.612549</td>\n",
       "      <td>119.086851</td>\n",
       "      <td>2645.759277</td>\n",
       "      <td>2657.174316</td>\n",
       "      <td>2668.589355</td>\n",
       "      <td>2765.539185</td>\n",
       "      <td>2862.489014</td>\n",
       "    </tr>\n",
       "    <tr>\n",
       "      <th rowspan=\"2\" valign=\"top\">4</th>\n",
       "      <th>elbo</th>\n",
       "      <td>3.0</td>\n",
       "      <td>-64.149089</td>\n",
       "      <td>3902.725523</td>\n",
       "      <td>-4553.748535</td>\n",
       "      <td>-1355.286255</td>\n",
       "      <td>1843.176025</td>\n",
       "      <td>2180.650635</td>\n",
       "      <td>2518.125244</td>\n",
       "    </tr>\n",
       "    <tr>\n",
       "      <th>log_p_y</th>\n",
       "      <td>3.0</td>\n",
       "      <td>2714.039551</td>\n",
       "      <td>109.899924</td>\n",
       "      <td>2635.206543</td>\n",
       "      <td>2651.270264</td>\n",
       "      <td>2667.333984</td>\n",
       "      <td>2753.456055</td>\n",
       "      <td>2839.578125</td>\n",
       "    </tr>\n",
       "    <tr>\n",
       "      <th rowspan=\"8\" valign=\"top\">TAF</th>\n",
       "      <th rowspan=\"2\" valign=\"top\">1</th>\n",
       "      <th>elbo</th>\n",
       "      <td>3.0</td>\n",
       "      <td>2027.492493</td>\n",
       "      <td>887.316561</td>\n",
       "      <td>1004.005310</td>\n",
       "      <td>1751.089203</td>\n",
       "      <td>2498.173096</td>\n",
       "      <td>2539.236084</td>\n",
       "      <td>2580.299072</td>\n",
       "    </tr>\n",
       "    <tr>\n",
       "      <th>log_p_y</th>\n",
       "      <td>3.0</td>\n",
       "      <td>2822.723633</td>\n",
       "      <td>76.805271</td>\n",
       "      <td>2740.844971</td>\n",
       "      <td>2787.497925</td>\n",
       "      <td>2834.150879</td>\n",
       "      <td>2863.662964</td>\n",
       "      <td>2893.175049</td>\n",
       "    </tr>\n",
       "    <tr>\n",
       "      <th rowspan=\"2\" valign=\"top\">2</th>\n",
       "      <th>elbo</th>\n",
       "      <td>2.0</td>\n",
       "      <td>2839.637207</td>\n",
       "      <td>91.035510</td>\n",
       "      <td>2775.265381</td>\n",
       "      <td>2807.451294</td>\n",
       "      <td>2839.637207</td>\n",
       "      <td>2871.823120</td>\n",
       "      <td>2904.009033</td>\n",
       "    </tr>\n",
       "    <tr>\n",
       "      <th>log_p_y</th>\n",
       "      <td>2.0</td>\n",
       "      <td>2973.845947</td>\n",
       "      <td>8.665511</td>\n",
       "      <td>2967.718506</td>\n",
       "      <td>2970.782227</td>\n",
       "      <td>2973.845947</td>\n",
       "      <td>2976.909668</td>\n",
       "      <td>2979.973389</td>\n",
       "    </tr>\n",
       "    <tr>\n",
       "      <th rowspan=\"2\" valign=\"top\">3</th>\n",
       "      <th>elbo</th>\n",
       "      <td>3.0</td>\n",
       "      <td>-32.627930</td>\n",
       "      <td>4334.053569</td>\n",
       "      <td>-5033.805664</td>\n",
       "      <td>-1362.273315</td>\n",
       "      <td>2309.259033</td>\n",
       "      <td>2467.960938</td>\n",
       "      <td>2626.662842</td>\n",
       "    </tr>\n",
       "    <tr>\n",
       "      <th>log_p_y</th>\n",
       "      <td>3.0</td>\n",
       "      <td>2758.631917</td>\n",
       "      <td>102.856110</td>\n",
       "      <td>2672.373291</td>\n",
       "      <td>2701.715576</td>\n",
       "      <td>2731.057861</td>\n",
       "      <td>2801.761230</td>\n",
       "      <td>2872.464600</td>\n",
       "    </tr>\n",
       "    <tr>\n",
       "      <th rowspan=\"2\" valign=\"top\">4</th>\n",
       "      <th>elbo</th>\n",
       "      <td>3.0</td>\n",
       "      <td>-115.953410</td>\n",
       "      <td>4021.127915</td>\n",
       "      <td>-4744.854980</td>\n",
       "      <td>-1430.835388</td>\n",
       "      <td>1883.184204</td>\n",
       "      <td>2198.497375</td>\n",
       "      <td>2513.810547</td>\n",
       "    </tr>\n",
       "    <tr>\n",
       "      <th>log_p_y</th>\n",
       "      <td>3.0</td>\n",
       "      <td>2736.158854</td>\n",
       "      <td>82.794257</td>\n",
       "      <td>2655.429199</td>\n",
       "      <td>2693.801392</td>\n",
       "      <td>2732.173584</td>\n",
       "      <td>2776.523682</td>\n",
       "      <td>2820.873779</td>\n",
       "    </tr>\n",
       "  </tbody>\n",
       "</table>\n",
       "</div>"
      ],
      "text/plain": [
       "                           value                                         \\\n",
       "                           count         mean          std          min   \n",
       "method num_layers variable                                                \n",
       "ADVI   1          elbo       3.0  2028.676392  1015.564747   856.337769   \n",
       "                  log_p_y    3.0  2759.818278   176.182589  2562.155518   \n",
       "       2          elbo       2.0  2873.900269    69.544884  2824.724609   \n",
       "                  log_p_y    2.0  2969.734009    17.293215  2957.505859   \n",
       "       3          elbo       3.0   -31.933512  4237.924677 -4923.806641   \n",
       "                  log_p_y    3.0  2697.114421   103.870033  2611.117920   \n",
       "       4          elbo       3.0   -68.549683  3749.547417 -4381.683594   \n",
       "                  log_p_y    3.0  2626.064535   122.838011  2513.989746   \n",
       "ATAF   1          elbo       3.0  1860.388143  1147.891732   535.526978   \n",
       "                  log_p_y    3.0  2866.065511    51.191406  2807.159668   \n",
       "       2          elbo       2.0  2842.751709    88.369703  2780.264893   \n",
       "                  log_p_y    2.0  2976.751099     6.624465  2972.066895   \n",
       "       3          elbo       3.0   -13.685547  4289.322499 -4963.328125   \n",
       "                  log_p_y    3.0  2725.612549   119.086851  2645.759277   \n",
       "       4          elbo       3.0   -64.149089  3902.725523 -4553.748535   \n",
       "                  log_p_y    3.0  2714.039551   109.899924  2635.206543   \n",
       "TAF    1          elbo       3.0  2027.492493   887.316561  1004.005310   \n",
       "                  log_p_y    3.0  2822.723633    76.805271  2740.844971   \n",
       "       2          elbo       2.0  2839.637207    91.035510  2775.265381   \n",
       "                  log_p_y    2.0  2973.845947     8.665511  2967.718506   \n",
       "       3          elbo       3.0   -32.627930  4334.053569 -5033.805664   \n",
       "                  log_p_y    3.0  2758.631917   102.856110  2672.373291   \n",
       "       4          elbo       3.0  -115.953410  4021.127915 -4744.854980   \n",
       "                  log_p_y    3.0  2736.158854    82.794257  2655.429199   \n",
       "\n",
       "                                                                                \n",
       "                                    25%          50%          75%          max  \n",
       "method num_layers variable                                                      \n",
       "ADVI   1          elbo      1723.463562  2590.589355  2614.845703  2639.102051  \n",
       "                  log_p_y   2689.561646  2816.967773  2858.649658  2900.331543  \n",
       "       2          elbo      2849.312439  2873.900269  2898.488098  2923.075928  \n",
       "                  log_p_y   2963.619934  2969.734009  2975.848083  2981.962158  \n",
       "       3          elbo     -1310.102661  2303.601318  2414.003052  2524.404785  \n",
       "                  log_p_y   2639.412964  2667.708008  2740.112671  2812.517334  \n",
       "       4          elbo     -1310.205994  1761.271606  2088.017273  2414.762939  \n",
       "                  log_p_y   2560.400757  2606.811768  2682.101929  2757.392090  \n",
       "ATAF   1          elbo      1511.761658  2487.996338  2522.818726  2557.641113  \n",
       "                  log_p_y   2849.209717  2891.259766  2895.518433  2899.777100  \n",
       "       2          elbo      2811.508301  2842.751709  2873.995117  2905.238525  \n",
       "                  log_p_y   2974.408997  2976.751099  2979.093201  2981.435303  \n",
       "       3          elbo     -1328.662720  2306.002686  2461.135742  2616.268799  \n",
       "                  log_p_y   2657.174316  2668.589355  2765.539185  2862.489014  \n",
       "       4          elbo     -1355.286255  1843.176025  2180.650635  2518.125244  \n",
       "                  log_p_y   2651.270264  2667.333984  2753.456055  2839.578125  \n",
       "TAF    1          elbo      1751.089203  2498.173096  2539.236084  2580.299072  \n",
       "                  log_p_y   2787.497925  2834.150879  2863.662964  2893.175049  \n",
       "       2          elbo      2807.451294  2839.637207  2871.823120  2904.009033  \n",
       "                  log_p_y   2970.782227  2973.845947  2976.909668  2979.973389  \n",
       "       3          elbo     -1362.273315  2309.259033  2467.960938  2626.662842  \n",
       "                  log_p_y   2701.715576  2731.057861  2801.761230  2872.464600  \n",
       "       4          elbo     -1430.835388  1883.184204  2198.497375  2513.810547  \n",
       "                  log_p_y   2693.801392  2732.173584  2776.523682  2820.873779  "
      ]
     },
     "execution_count": 30,
     "metadata": {},
     "output_type": "execute_result"
    }
   ],
   "source": [
    "df.groupby(['method', 'num_layers', 'variable']).describe()"
   ]
  },
  {
   "cell_type": "code",
   "execution_count": 32,
   "id": "immediate-arbitration",
   "metadata": {},
   "outputs": [],
   "source": [
    "import numpy as np\n",
    "\n",
    "gs = my_pdb.posterior(\"diamonds-diamonds\").reference_draws()\n",
    "gs_dict = {}\n",
    "num_chains = len(gs)\n",
    "num_samples = len(gs[0][next(iter(gs[0]))])\n",
    "\n",
    "for i,chain in enumerate(gs):\n",
    "    for var in chain:\n",
    "        if '[' not in var:\n",
    "            if var not in gs_dict:\n",
    "                gs_dict[var] = np.zeros((num_chains, num_samples))\n",
    "            gs_dict[var][i,:] = np.array(chain[var])\n",
    "        else:\n",
    "            name = var.split('[')[0]\n",
    "            idx = int(var.split('[')[1].split(']')[0]) - 1\n",
    "            if name not in gs_dict:\n",
    "                var_size = len(list(filter(lambda x: x.startswith(name), chain)))\n",
    "                gs_dict[name] = np.zeros((num_chains,num_samples,var_size))\n",
    "            gs_dict[name][i,:,idx] = np.array(chain[var])\n",
    "            \n",
    "data = my_pdb.data(model_name)\n",
    "N = torch.tensor(data.values()[\"N\"])\n",
    "k = torch.tensor(data.values()[\"K\"])\n",
    "y = torch.tensor(data.values()[\"Y\"])\n",
    "x = (\n",
    "    torch.tensor(data.values()[\"X\"]) - torch.tensor(data.values()[\"X\"]).mean(dim=0)\n",
    ")[:, 1:]"
   ]
  },
  {
   "cell_type": "code",
   "execution_count": 33,
   "id": "opponent-skill",
   "metadata": {},
   "outputs": [
    {
     "data": {
      "text/plain": [
       "dict_keys(['b', 'Intercept', 'sigma'])"
      ]
     },
     "execution_count": 33,
     "metadata": {},
     "output_type": "execute_result"
    }
   ],
   "source": [
    "gs_dict.keys()"
   ]
  },
  {
   "cell_type": "code",
   "execution_count": 38,
   "id": "seventh-brazilian",
   "metadata": {},
   "outputs": [
    {
     "data": {
      "text/plain": [
       "[torch.Size([10, 1000]), torch.Size([10, 1000, 24]), torch.Size([10, 1000])]"
      ]
     },
     "execution_count": 38,
     "metadata": {},
     "output_type": "execute_result"
    }
   ],
   "source": [
    "list(map(lambda x: x.shape, [\n",
    "    torch.tensor(gs_dict['Intercept']),\n",
    "    torch.tensor(gs_dict['b']),\n",
    "    torch.tensor(gs_dict['sigma'])\n",
    "]))"
   ]
  },
  {
   "cell_type": "code",
   "execution_count": 40,
   "id": "another-forth",
   "metadata": {},
   "outputs": [
    {
     "name": "stdout",
     "output_type": "stream",
     "text": [
      "tensor(3274.5872) tensor(0.0366)\n"
     ]
    }
   ],
   "source": [
    "import torch.distributions as dist\n",
    "            \n",
    "#log_p = p(alpha, beta, sigma) #+ samples[:,k] * sigma\n",
    "ps = p(\n",
    "    torch.tensor(gs_dict['Intercept']).flatten(end_dim=1).float(),\n",
    "    torch.tensor(gs_dict['b']).flatten(end_dim=1).float(),\n",
    "    torch.tensor(gs_dict['sigma']).flatten(end_dim=1).float(),\n",
    ")\n",
    "print(ps.mean(), ps.std() / np.sqrt(ps.shape[0]))"
   ]
  },
  {
   "cell_type": "code",
   "execution_count": 42,
   "id": "charitable-facility",
   "metadata": {},
   "outputs": [
    {
     "data": {
      "text/plain": [
       "torch.Size([5000])"
      ]
     },
     "execution_count": 42,
     "metadata": {},
     "output_type": "execute_result"
    }
   ],
   "source": [
    "y.shape"
   ]
  },
  {
   "cell_type": "code",
   "execution_count": 36,
   "id": "metallic-geneva",
   "metadata": {},
   "outputs": [
    {
     "ename": "NameError",
     "evalue": "name 'mu' is not defined",
     "output_type": "error",
     "traceback": [
      "\u001b[0;31m-----------------------------------------------------------------------\u001b[0m",
      "\u001b[0;31mNameError\u001b[0m                             Traceback (most recent call last)",
      "\u001b[0;32m<ipython-input-36-96c2cb5e9471>\u001b[0m in \u001b[0;36m<module>\u001b[0;34m\u001b[0m\n\u001b[0;32m----> 1\u001b[0;31m \u001b[0mmu\u001b[0m\u001b[0;34m.\u001b[0m\u001b[0mshape\u001b[0m\u001b[0;34m\u001b[0m\u001b[0;34m\u001b[0m\u001b[0m\n\u001b[0m",
      "\u001b[0;31mNameError\u001b[0m: name 'mu' is not defined"
     ]
    }
   ],
   "source": [
    "p_gs.shape"
   ]
  },
  {
   "cell_type": "code",
   "execution_count": 51,
   "id": "capable-pasta",
   "metadata": {},
   "outputs": [
    {
     "data": {
      "text/plain": [
       "torch.Size([10000, 3])"
      ]
     },
     "execution_count": 51,
     "metadata": {},
     "output_type": "execute_result"
    }
   ],
   "source": [
    "torch.tensor(gs_dict['tau']).flatten(end_dim=1).outer(torch.ones(3)).shape"
   ]
  },
  {
   "cell_type": "code",
   "execution_count": 38,
   "id": "indonesian-pioneer",
   "metadata": {},
   "outputs": [
    {
     "data": {
      "text/plain": [
       "(10, 1000)"
      ]
     },
     "execution_count": 38,
     "metadata": {},
     "output_type": "execute_result"
    }
   ],
   "source": [
    "gs_dict['tau'].shape"
   ]
  },
  {
   "cell_type": "code",
   "execution_count": 39,
   "id": "transsexual-freedom",
   "metadata": {},
   "outputs": [
    {
     "data": {
      "text/plain": [
       "(10, 1000, 8)"
      ]
     },
     "execution_count": 39,
     "metadata": {},
     "output_type": "execute_result"
    }
   ],
   "source": [
    "gs_dict['theta'].shape"
   ]
  },
  {
   "cell_type": "code",
   "execution_count": null,
   "id": "blond-standing",
   "metadata": {},
   "outputs": [],
   "source": []
  }
 ],
 "metadata": {
  "kernelspec": {
   "display_name": "Python 3",
   "language": "python",
   "name": "python3"
  },
  "language_info": {
   "codemirror_mode": {
    "name": "ipython",
    "version": 3
   },
   "file_extension": ".py",
   "mimetype": "text/x-python",
   "name": "python",
   "nbconvert_exporter": "python",
   "pygments_lexer": "ipython3",
   "version": "3.8.5"
  }
 },
 "nbformat": 4,
 "nbformat_minor": 5
}
