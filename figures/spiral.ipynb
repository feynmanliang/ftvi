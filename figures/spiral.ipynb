{
 "cells": [
  {
   "cell_type": "code",
   "execution_count": 2,
   "id": "checked-dancing",
   "metadata": {},
   "outputs": [],
   "source": [
    "%load_ext autoreload\n",
    "%autoreload 2"
   ]
  },
  {
   "cell_type": "code",
   "execution_count": 3,
   "id": "toxic-bonus",
   "metadata": {},
   "outputs": [],
   "source": [
    "import matplotlib as mpl\n",
    "params = {\n",
    "    'axes.labelsize': 8,\n",
    "    'font.size': 8,\n",
    "    'legend.fontsize': 10,\n",
    "    'xtick.labelsize': 10,\n",
    "    'ytick.labelsize': 10,\n",
    "    'text.usetex': False,\n",
    "    'figure.figsize': [4.5, 4.5],    \n",
    "    'font.family': 'serif',\n",
    "    'text.usetex': True,\n",
    "    \"pgf.texsystem\": \"pdflatex\",\n",
    "    'pgf.rcfonts': True,\n",
    "}\n",
    "mpl.rcParams['axes.unicode_minus'] = False\n",
    "mpl.rcParams.update(params)\n",
    "mpl.use(\"pgf\")\n",
    "\n",
    "import seaborn as sns\n",
    "sns.set_style(\"darkgrid\")"
   ]
  },
  {
   "cell_type": "code",
   "execution_count": 4,
   "id": "spread-ebony",
   "metadata": {},
   "outputs": [],
   "source": [
    "import pandas as pd\n",
    "import math\n",
    "import matplotlib.pyplot as plt\n",
    "import numpy as np\n",
    "import scipy.stats\n",
    "\n",
    "cmap = 'YlGnBu'\n",
    "\n",
    "\n",
    "def plot_density(d, ax=None, norm=None, bounds=[-2, 5, -2, 2], exp=True):\n",
    "    xmin, xmax, ymin, ymax = bounds\n",
    "    xx, yy = torch.meshgrid(\n",
    "        torch.linspace(xmin, xmax, 100),\n",
    "        torch.linspace(ymin, ymax, 100),\n",
    "    )\n",
    "    f = d.log_prob(torch.stack((xx, yy), dim=-1).reshape(-1, 2)).reshape((100,100)).detach().numpy()\n",
    "    if exp:\n",
    "        f = np.exp(f)\n",
    "    if ax is None:\n",
    "        fig = plt.figure()\n",
    "        ax = fig.gca()\n",
    "    ax.grid(False)\n",
    "    ax.set_xlim(xmin, xmax)\n",
    "    ax.set_ylim(ymin, ymax)\n",
    "    im = ax.imshow(np.rot90(f), cmap=cmap, norm=norm, extent=[xmin, xmax, ymin, ymax], aspect='auto')\n",
    "    #ax.contour(xx, yy, f, norm=norm, colors='w', linestyles='dashed')\n",
    "    return ax"
   ]
  },
  {
   "cell_type": "code",
   "execution_count": 5,
   "id": "opening-catalyst",
   "metadata": {},
   "outputs": [],
   "source": [
    "import torch\n",
    "import torch.distributions as dist\n",
    "\n",
    "d = dist.Independent(dist.StudentT(df=torch.tensor([1, 2]), loc=0, scale=1), 1)"
   ]
  },
  {
   "cell_type": "code",
   "execution_count": 6,
   "id": "ahead-software",
   "metadata": {},
   "outputs": [],
   "source": [
    "import torch.distributions.transforms\n",
    "\n",
    "\n",
    "def rect_to_polar(x,y):\n",
    "    r = torch.sqrt(x**2 + y**2)\n",
    "    theta = torch.atan2(y, x)\n",
    "    return (r,theta)\n",
    "\n",
    "class SpinTransform(torch.distributions.transforms.Transform):\n",
    "    domain = torch.distributions.constraints.real\n",
    "    codomain = torch.distributions.constraints.positive\n",
    "    bijective = True\n",
    "    sign = +1\n",
    "\n",
    "    def __eq__(self, other):\n",
    "        return isinstance(other, SpinTransform)\n",
    "\n",
    "    def _call(self, x):\n",
    "        r, theta = rect_to_polar(x[:,0], x[:,1])\n",
    "        z = torch.polar(r, theta+r)\n",
    "        return torch.stack([z.real, z.imag], dim=1)\n",
    "\n",
    "    def _inverse(self, y):\n",
    "        r, theta = rect_to_polar(y[:,0], y[:,1])\n",
    "        z = torch.polar(r, theta-r)\n",
    "        return torch.stack([z.real, z.imag], dim=1)\n",
    "\n",
    "    def log_abs_det_jacobian(self, x, y):\n",
    "        return torch.sqrt(x[:,0]**2 + x[:,1]**2)"
   ]
  },
  {
   "cell_type": "code",
   "execution_count": 11,
   "id": "preceding-costs",
   "metadata": {},
   "outputs": [],
   "source": [
    "fig, ax = plt.subplots(1,3, figsize=(5.5, 2))\n",
    "plot_density(d, ax=ax[0], bounds=[-10, 10, -10, 10], exp=False)\n",
    "ax[0].set_title('$\\mathrm{StudentT}(1) \\otimes \\mathrm{StudentT}(2)$')\n",
    "plot_density(\n",
    "    dist.TransformedDistribution(d, [SpinTransform()]),\n",
    "    bounds=[-10, 10, -10, 10], ax=ax[1], exp=False)\n",
    "ax[1].set_title('After spin transform')\n",
    "\n",
    "ax[2].plot(\n",
    "    dist.TransformedDistribution(d, [SpinTransform()]).log_prob(torch.stack([torch.linspace(0, 10, steps=100), torch.zeros(100)], dim=1))\n",
    ")\n",
    "ax[2].set_title('$\\log p(x,y=0)$')\n",
    "\n",
    "fig.tight_layout()\n",
    "fig.show()"
   ]
  },
  {
   "cell_type": "code",
   "execution_count": 12,
   "id": "remarkable-harmony",
   "metadata": {},
   "outputs": [],
   "source": [
    "fig.savefig('spiral.pdf')"
   ]
  },
  {
   "cell_type": "code",
   "execution_count": null,
   "id": "equipped-drunk",
   "metadata": {},
   "outputs": [],
   "source": []
  }
 ],
 "metadata": {
  "kernelspec": {
   "display_name": "Python 3 (ipykernel)",
   "language": "python",
   "name": "python3"
  },
  "language_info": {
   "codemirror_mode": {
    "name": "ipython",
    "version": 3
   },
   "file_extension": ".py",
   "mimetype": "text/x-python",
   "name": "python",
   "nbconvert_exporter": "python",
   "pygments_lexer": "ipython3",
   "version": "3.7.3"
  }
 },
 "nbformat": 4,
 "nbformat_minor": 5
}
