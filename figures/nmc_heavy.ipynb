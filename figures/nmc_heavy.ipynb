{
 "cells": [
  {
   "cell_type": "code",
   "execution_count": 1,
   "id": "exempt-negative",
   "metadata": {},
   "outputs": [
    {
     "name": "stderr",
     "output_type": "stream",
     "text": [
      "<frozen importlib._bootstrap>:219: RuntimeWarning: numpy.ndarray size changed, may indicate binary incompatibility. Expected 16 from C header, got 80 from PyObject\n"
     ]
    }
   ],
   "source": [
    "import torch.distributions as dist\n",
    "\n",
    "import beanmachine.ppl as bm\n",
    "\n",
    "@bm.random_variable\n",
    "def normal():\n",
    "    return dist.Normal(0, 1)\n",
    "\n",
    "@bm.random_variable\n",
    "def student(df):\n",
    "    return dist.StudentT(df=df)\n"
   ]
  },
  {
   "cell_type": "code",
   "execution_count": 74,
   "id": "aerial-hygiene",
   "metadata": {},
   "outputs": [
    {
     "data": {
      "application/vnd.jupyter.widget-view+json": {
       "model_id": "0cdad88d25c744aeb80ff9c2a6b571ca",
       "version_major": 2,
       "version_minor": 0
      },
      "text/plain": [
       "HBox(children=(HTML(value='Samples collected'), FloatProgress(value=0.0), HTML(value='')))"
      ]
     },
     "metadata": {},
     "output_type": "display_data"
    },
    {
     "name": "stderr",
     "output_type": "stream",
     "text": [
      "/workspaces/jupyter-data/beanmachine/src/beanmachine/ppl/utils/tensorops.py:30: UserWarning: torch.vmap is an experimental prototype that is subject to change and/or deletion. Please use at your own risk. There may be unexpected performance cliffs due to certain operators not being implemented. To see detailed performance warnings please use `torch._C._debug_only_display_vmap_fallback_warnings(True) before the call to `vmap`.\n",
      "  hessians = torch.vmap(\n"
     ]
    },
    {
     "name": "stdout",
     "output_type": "stream",
     "text": [
      "\n"
     ]
    },
    {
     "data": {
      "application/vnd.jupyter.widget-view+json": {
       "model_id": "6ea05874199f43d6b2358dd9229fb9d1",
       "version_major": 2,
       "version_minor": 0
      },
      "text/plain": [
       "HBox(children=(HTML(value='Samples collected'), FloatProgress(value=0.0), HTML(value='')))"
      ]
     },
     "metadata": {},
     "output_type": "display_data"
    },
    {
     "name": "stdout",
     "output_type": "stream",
     "text": [
      "\n"
     ]
    },
    {
     "data": {
      "application/vnd.jupyter.widget-view+json": {
       "model_id": "3de7e27360af4dea95b7adad24bc2b8d",
       "version_major": 2,
       "version_minor": 0
      },
      "text/plain": [
       "HBox(children=(HTML(value='Samples collected'), FloatProgress(value=0.0), HTML(value='')))"
      ]
     },
     "metadata": {},
     "output_type": "display_data"
    },
    {
     "name": "stdout",
     "output_type": "stream",
     "text": [
      "\n"
     ]
    },
    {
     "data": {
      "application/vnd.jupyter.widget-view+json": {
       "model_id": "d4d4611157354da3b067ff3ee416c18f",
       "version_major": 2,
       "version_minor": 0
      },
      "text/plain": [
       "HBox(children=(HTML(value='Samples collected'), FloatProgress(value=0.0), HTML(value='')))"
      ]
     },
     "metadata": {},
     "output_type": "display_data"
    },
    {
     "name": "stdout",
     "output_type": "stream",
     "text": [
      "\n"
     ]
    },
    {
     "data": {
      "application/vnd.jupyter.widget-view+json": {
       "model_id": "6677854cf9bd4cccabd0e084e091c36b",
       "version_major": 2,
       "version_minor": 0
      },
      "text/plain": [
       "HBox(children=(HTML(value='Samples collected'), FloatProgress(value=0.0), HTML(value='')))"
      ]
     },
     "metadata": {},
     "output_type": "display_data"
    },
    {
     "name": "stdout",
     "output_type": "stream",
     "text": [
      "\n"
     ]
    },
    {
     "data": {
      "application/vnd.jupyter.widget-view+json": {
       "model_id": "2bfbc2eb6c964253bea283a086cb6650",
       "version_major": 2,
       "version_minor": 0
      },
      "text/plain": [
       "HBox(children=(HTML(value='Samples collected'), FloatProgress(value=0.0), HTML(value='')))"
      ]
     },
     "metadata": {},
     "output_type": "display_data"
    },
    {
     "name": "stdout",
     "output_type": "stream",
     "text": [
      "\n"
     ]
    },
    {
     "data": {
      "application/vnd.jupyter.widget-view+json": {
       "model_id": "0f4e0084191d423592a0b8fc5c0f15f5",
       "version_major": 2,
       "version_minor": 0
      },
      "text/plain": [
       "HBox(children=(HTML(value='Samples collected'), FloatProgress(value=0.0), HTML(value='')))"
      ]
     },
     "metadata": {},
     "output_type": "display_data"
    },
    {
     "name": "stdout",
     "output_type": "stream",
     "text": [
      "\n"
     ]
    },
    {
     "data": {
      "application/vnd.jupyter.widget-view+json": {
       "model_id": "a9c986dc745b474cb7bae55a6df55406",
       "version_major": 2,
       "version_minor": 0
      },
      "text/plain": [
       "HBox(children=(HTML(value='Samples collected'), FloatProgress(value=0.0), HTML(value='')))"
      ]
     },
     "metadata": {},
     "output_type": "display_data"
    },
    {
     "name": "stdout",
     "output_type": "stream",
     "text": [
      "\n"
     ]
    },
    {
     "data": {
      "application/vnd.jupyter.widget-view+json": {
       "model_id": "079de77e64224ec8b59d8a0ef1ca4bbd",
       "version_major": 2,
       "version_minor": 0
      },
      "text/plain": [
       "HBox(children=(HTML(value='Samples collected'), FloatProgress(value=0.0), HTML(value='')))"
      ]
     },
     "metadata": {},
     "output_type": "display_data"
    },
    {
     "name": "stdout",
     "output_type": "stream",
     "text": [
      "\n"
     ]
    },
    {
     "data": {
      "application/vnd.jupyter.widget-view+json": {
       "model_id": "5dd10960eda04e2eb0381f9be77cdf2b",
       "version_major": 2,
       "version_minor": 0
      },
      "text/plain": [
       "HBox(children=(HTML(value='Samples collected'), FloatProgress(value=0.0), HTML(value='')))"
      ]
     },
     "metadata": {},
     "output_type": "display_data"
    },
    {
     "name": "stdout",
     "output_type": "stream",
     "text": [
      "\n"
     ]
    },
    {
     "data": {
      "application/vnd.jupyter.widget-view+json": {
       "model_id": "58c133be50a344f1b72deb6efc7dee8b",
       "version_major": 2,
       "version_minor": 0
      },
      "text/plain": [
       "HBox(children=(HTML(value='Samples collected'), FloatProgress(value=0.0), HTML(value='')))"
      ]
     },
     "metadata": {},
     "output_type": "display_data"
    },
    {
     "name": "stdout",
     "output_type": "stream",
     "text": [
      "\n"
     ]
    },
    {
     "data": {
      "application/vnd.jupyter.widget-view+json": {
       "model_id": "62c497f0353d40bb9bcffbc180d7e030",
       "version_major": 2,
       "version_minor": 0
      },
      "text/plain": [
       "HBox(children=(HTML(value='Samples collected'), FloatProgress(value=0.0), HTML(value='')))"
      ]
     },
     "metadata": {},
     "output_type": "display_data"
    },
    {
     "name": "stdout",
     "output_type": "stream",
     "text": [
      "\n"
     ]
    },
    {
     "data": {
      "application/vnd.jupyter.widget-view+json": {
       "model_id": "d29700ccedb54ee3a278e09dd20dd8c4",
       "version_major": 2,
       "version_minor": 0
      },
      "text/plain": [
       "HBox(children=(HTML(value='Samples collected'), FloatProgress(value=0.0), HTML(value='')))"
      ]
     },
     "metadata": {},
     "output_type": "display_data"
    },
    {
     "name": "stdout",
     "output_type": "stream",
     "text": [
      "\n"
     ]
    },
    {
     "data": {
      "application/vnd.jupyter.widget-view+json": {
       "model_id": "e9dd786838944fe4bd56f8ff42f33e39",
       "version_major": 2,
       "version_minor": 0
      },
      "text/plain": [
       "HBox(children=(HTML(value='Samples collected'), FloatProgress(value=0.0), HTML(value='')))"
      ]
     },
     "metadata": {},
     "output_type": "display_data"
    },
    {
     "name": "stdout",
     "output_type": "stream",
     "text": [
      "\n"
     ]
    },
    {
     "data": {
      "application/vnd.jupyter.widget-view+json": {
       "model_id": "ff312b81ee804b9894d04fc033799ff5",
       "version_major": 2,
       "version_minor": 0
      },
      "text/plain": [
       "HBox(children=(HTML(value='Samples collected'), FloatProgress(value=0.0), HTML(value='')))"
      ]
     },
     "metadata": {},
     "output_type": "display_data"
    },
    {
     "name": "stdout",
     "output_type": "stream",
     "text": [
      "\n"
     ]
    },
    {
     "data": {
      "application/vnd.jupyter.widget-view+json": {
       "model_id": "c88be8df476a40c5bc143b3026deb00c",
       "version_major": 2,
       "version_minor": 0
      },
      "text/plain": [
       "HBox(children=(HTML(value='Samples collected'), FloatProgress(value=0.0), HTML(value='')))"
      ]
     },
     "metadata": {},
     "output_type": "display_data"
    },
    {
     "name": "stdout",
     "output_type": "stream",
     "text": [
      "\n"
     ]
    },
    {
     "data": {
      "application/vnd.jupyter.widget-view+json": {
       "model_id": "d45682eaa60d4f219ee8b7a94a7edd28",
       "version_major": 2,
       "version_minor": 0
      },
      "text/plain": [
       "HBox(children=(HTML(value='Samples collected'), FloatProgress(value=0.0), HTML(value='')))"
      ]
     },
     "metadata": {},
     "output_type": "display_data"
    },
    {
     "name": "stdout",
     "output_type": "stream",
     "text": [
      "\n"
     ]
    },
    {
     "data": {
      "application/vnd.jupyter.widget-view+json": {
       "model_id": "72bbcb8abaff4d07bcda0303b43d9069",
       "version_major": 2,
       "version_minor": 0
      },
      "text/plain": [
       "HBox(children=(HTML(value='Samples collected'), FloatProgress(value=0.0), HTML(value='')))"
      ]
     },
     "metadata": {},
     "output_type": "display_data"
    },
    {
     "name": "stdout",
     "output_type": "stream",
     "text": [
      "\n"
     ]
    },
    {
     "data": {
      "application/vnd.jupyter.widget-view+json": {
       "model_id": "5bb379bbcfa24c49b1ed6ee3c5a0d6ab",
       "version_major": 2,
       "version_minor": 0
      },
      "text/plain": [
       "HBox(children=(HTML(value='Samples collected'), FloatProgress(value=0.0), HTML(value='')))"
      ]
     },
     "metadata": {},
     "output_type": "display_data"
    },
    {
     "name": "stdout",
     "output_type": "stream",
     "text": [
      "\n"
     ]
    },
    {
     "data": {
      "application/vnd.jupyter.widget-view+json": {
       "model_id": "8e980f2c09324d2fbb9db7316f10f21d",
       "version_major": 2,
       "version_minor": 0
      },
      "text/plain": [
       "HBox(children=(HTML(value='Samples collected'), FloatProgress(value=0.0), HTML(value='')))"
      ]
     },
     "metadata": {},
     "output_type": "display_data"
    },
    {
     "name": "stdout",
     "output_type": "stream",
     "text": [
      "\n"
     ]
    },
    {
     "data": {
      "application/vnd.jupyter.widget-view+json": {
       "model_id": "b41c7536fd26472eb0beed3e13a0c9e9",
       "version_major": 2,
       "version_minor": 0
      },
      "text/plain": [
       "HBox(children=(HTML(value='Samples collected'), FloatProgress(value=0.0), HTML(value='')))"
      ]
     },
     "metadata": {},
     "output_type": "display_data"
    },
    {
     "name": "stderr",
     "output_type": "stream",
     "text": [
      "Error: Cholesky decomposition failed. Falls back to Eigen decomposition.\n",
      "Error: Cholesky decomposition failed. Falls back to Eigen decomposition.\n",
      "Error: Cholesky decomposition failed. Falls back to Eigen decomposition.\n",
      "Error: Cholesky decomposition failed. Falls back to Eigen decomposition.\n",
      "Error: Cholesky decomposition failed. Falls back to Eigen decomposition.\n",
      "Error: Cholesky decomposition failed. Falls back to Eigen decomposition.\n",
      "Error: Cholesky decomposition failed. Falls back to Eigen decomposition.\n",
      "Error: Cholesky decomposition failed. Falls back to Eigen decomposition.\n",
      "Error: Cholesky decomposition failed. Falls back to Eigen decomposition.\n"
     ]
    },
    {
     "name": "stdout",
     "output_type": "stream",
     "text": [
      "\n"
     ]
    },
    {
     "data": {
      "application/vnd.jupyter.widget-view+json": {
       "model_id": "49bd54a2a8e4401f9ec095391abf1131",
       "version_major": 2,
       "version_minor": 0
      },
      "text/plain": [
       "HBox(children=(HTML(value='Samples collected'), FloatProgress(value=0.0), HTML(value='')))"
      ]
     },
     "metadata": {},
     "output_type": "display_data"
    },
    {
     "name": "stderr",
     "output_type": "stream",
     "text": [
      "Error: Cholesky decomposition failed. Falls back to Eigen decomposition.\n",
      "Error: Cholesky decomposition failed. Falls back to Eigen decomposition.\n",
      "Error: Cholesky decomposition failed. Falls back to Eigen decomposition.\n"
     ]
    },
    {
     "name": "stdout",
     "output_type": "stream",
     "text": [
      "\n"
     ]
    },
    {
     "data": {
      "application/vnd.jupyter.widget-view+json": {
       "model_id": "be592ddcf4ea42fd8f60c30ce04335db",
       "version_major": 2,
       "version_minor": 0
      },
      "text/plain": [
       "HBox(children=(HTML(value='Samples collected'), FloatProgress(value=0.0), HTML(value='')))"
      ]
     },
     "metadata": {},
     "output_type": "display_data"
    },
    {
     "name": "stderr",
     "output_type": "stream",
     "text": [
      "Error: Cholesky decomposition failed. Falls back to Eigen decomposition.\n",
      "Error: Cholesky decomposition failed. Falls back to Eigen decomposition.\n",
      "Error: Cholesky decomposition failed. Falls back to Eigen decomposition.\n"
     ]
    },
    {
     "name": "stdout",
     "output_type": "stream",
     "text": [
      "\n"
     ]
    },
    {
     "data": {
      "application/vnd.jupyter.widget-view+json": {
       "model_id": "e4222b3710af4c4d9d700bd56ee467f5",
       "version_major": 2,
       "version_minor": 0
      },
      "text/plain": [
       "HBox(children=(HTML(value='Samples collected'), FloatProgress(value=0.0), HTML(value='')))"
      ]
     },
     "metadata": {},
     "output_type": "display_data"
    },
    {
     "name": "stderr",
     "output_type": "stream",
     "text": [
      "Error: Cholesky decomposition failed. Falls back to Eigen decomposition.\n",
      "Error: Cholesky decomposition failed. Falls back to Eigen decomposition.\n",
      "Error: Cholesky decomposition failed. Falls back to Eigen decomposition.\n",
      "Error: Cholesky decomposition failed. Falls back to Eigen decomposition.\n",
      "Error: Cholesky decomposition failed. Falls back to Eigen decomposition.\n",
      "Error: Cholesky decomposition failed. Falls back to Eigen decomposition.\n",
      "Error: Cholesky decomposition failed. Falls back to Eigen decomposition.\n",
      "Error: Cholesky decomposition failed. Falls back to Eigen decomposition.\n",
      "Error: Cholesky decomposition failed. Falls back to Eigen decomposition.\n",
      "Error: Cholesky decomposition failed. Falls back to Eigen decomposition.\n",
      "Error: Cholesky decomposition failed. Falls back to Eigen decomposition.\n",
      "Error: Cholesky decomposition failed. Falls back to Eigen decomposition.\n",
      "Error: Cholesky decomposition failed. Falls back to Eigen decomposition.\n",
      "Error: Cholesky decomposition failed. Falls back to Eigen decomposition.\n"
     ]
    },
    {
     "name": "stdout",
     "output_type": "stream",
     "text": [
      "\n"
     ]
    },
    {
     "data": {
      "application/vnd.jupyter.widget-view+json": {
       "model_id": "f9fb57614f1f46af80570591df405d1c",
       "version_major": 2,
       "version_minor": 0
      },
      "text/plain": [
       "HBox(children=(HTML(value='Samples collected'), FloatProgress(value=0.0), HTML(value='')))"
      ]
     },
     "metadata": {},
     "output_type": "display_data"
    },
    {
     "name": "stderr",
     "output_type": "stream",
     "text": [
      "Error: Cholesky decomposition failed. Falls back to Eigen decomposition.\n",
      "Error: Cholesky decomposition failed. Falls back to Eigen decomposition.\n",
      "Error: Cholesky decomposition failed. Falls back to Eigen decomposition.\n",
      "Error: Cholesky decomposition failed. Falls back to Eigen decomposition.\n",
      "Error: Cholesky decomposition failed. Falls back to Eigen decomposition.\n",
      "Error: Cholesky decomposition failed. Falls back to Eigen decomposition.\n",
      "Error: Cholesky decomposition failed. Falls back to Eigen decomposition.\n",
      "Error: Cholesky decomposition failed. Falls back to Eigen decomposition.\n",
      "Error: Cholesky decomposition failed. Falls back to Eigen decomposition.\n",
      "Error: Cholesky decomposition failed. Falls back to Eigen decomposition.\n",
      "Error: Cholesky decomposition failed. Falls back to Eigen decomposition.\n",
      "Error: Cholesky decomposition failed. Falls back to Eigen decomposition.\n",
      "Error: Cholesky decomposition failed. Falls back to Eigen decomposition.\n",
      "Error: Cholesky decomposition failed. Falls back to Eigen decomposition.\n",
      "Error: Cholesky decomposition failed. Falls back to Eigen decomposition.\n",
      "Error: Cholesky decomposition failed. Falls back to Eigen decomposition.\n",
      "Error: Cholesky decomposition failed. Falls back to Eigen decomposition.\n",
      "Error: Cholesky decomposition failed. Falls back to Eigen decomposition.\n",
      "Error: Cholesky decomposition failed. Falls back to Eigen decomposition.\n",
      "Error: Cholesky decomposition failed. Falls back to Eigen decomposition.\n",
      "Error: Cholesky decomposition failed. Falls back to Eigen decomposition.\n",
      "Error: Cholesky decomposition failed. Falls back to Eigen decomposition.\n"
     ]
    },
    {
     "name": "stdout",
     "output_type": "stream",
     "text": [
      "\n"
     ]
    },
    {
     "data": {
      "application/vnd.jupyter.widget-view+json": {
       "model_id": "4b7c172a8e3440cf8461bd8a33fe46ba",
       "version_major": 2,
       "version_minor": 0
      },
      "text/plain": [
       "HBox(children=(HTML(value='Samples collected'), FloatProgress(value=0.0), HTML(value='')))"
      ]
     },
     "metadata": {},
     "output_type": "display_data"
    },
    {
     "name": "stderr",
     "output_type": "stream",
     "text": [
      "Error: Cholesky decomposition failed. Falls back to Eigen decomposition.\n",
      "Error: Cholesky decomposition failed. Falls back to Eigen decomposition.\n",
      "Error: Cholesky decomposition failed. Falls back to Eigen decomposition.\n"
     ]
    },
    {
     "name": "stdout",
     "output_type": "stream",
     "text": [
      "\n"
     ]
    },
    {
     "data": {
      "application/vnd.jupyter.widget-view+json": {
       "model_id": "8a0a225f42614936b7dae13574ffb4ca",
       "version_major": 2,
       "version_minor": 0
      },
      "text/plain": [
       "HBox(children=(HTML(value='Samples collected'), FloatProgress(value=0.0), HTML(value='')))"
      ]
     },
     "metadata": {},
     "output_type": "display_data"
    },
    {
     "name": "stderr",
     "output_type": "stream",
     "text": [
      "Error: Cholesky decomposition failed. Falls back to Eigen decomposition.\n"
     ]
    },
    {
     "name": "stdout",
     "output_type": "stream",
     "text": [
      "\n"
     ]
    },
    {
     "data": {
      "application/vnd.jupyter.widget-view+json": {
       "model_id": "725b493d6bb543b5bc57c0d7694e3504",
       "version_major": 2,
       "version_minor": 0
      },
      "text/plain": [
       "HBox(children=(HTML(value='Samples collected'), FloatProgress(value=0.0), HTML(value='')))"
      ]
     },
     "metadata": {},
     "output_type": "display_data"
    },
    {
     "name": "stderr",
     "output_type": "stream",
     "text": [
      "Error: Cholesky decomposition failed. Falls back to Eigen decomposition.\n",
      "Error: Cholesky decomposition failed. Falls back to Eigen decomposition.\n"
     ]
    },
    {
     "name": "stdout",
     "output_type": "stream",
     "text": [
      "\n"
     ]
    },
    {
     "data": {
      "application/vnd.jupyter.widget-view+json": {
       "model_id": "f6f00c57fe744b29b458fcf1f6a780a6",
       "version_major": 2,
       "version_minor": 0
      },
      "text/plain": [
       "HBox(children=(HTML(value='Samples collected'), FloatProgress(value=0.0), HTML(value='')))"
      ]
     },
     "metadata": {},
     "output_type": "display_data"
    },
    {
     "name": "stderr",
     "output_type": "stream",
     "text": [
      "Error: Cholesky decomposition failed. Falls back to Eigen decomposition.\n",
      "Error: Cholesky decomposition failed. Falls back to Eigen decomposition.\n"
     ]
    },
    {
     "name": "stdout",
     "output_type": "stream",
     "text": [
      "\n"
     ]
    },
    {
     "data": {
      "application/vnd.jupyter.widget-view+json": {
       "model_id": "9cf337c03e9c475ea04685fee1ced293",
       "version_major": 2,
       "version_minor": 0
      },
      "text/plain": [
       "HBox(children=(HTML(value='Samples collected'), FloatProgress(value=0.0), HTML(value='')))"
      ]
     },
     "metadata": {},
     "output_type": "display_data"
    },
    {
     "name": "stdout",
     "output_type": "stream",
     "text": [
      "\n"
     ]
    },
    {
     "data": {
      "application/vnd.jupyter.widget-view+json": {
       "model_id": "bc161e5b3b7340cd90c8b42c1c373fb4",
       "version_major": 2,
       "version_minor": 0
      },
      "text/plain": [
       "HBox(children=(HTML(value='Samples collected'), FloatProgress(value=0.0), HTML(value='')))"
      ]
     },
     "metadata": {},
     "output_type": "display_data"
    },
    {
     "name": "stdout",
     "output_type": "stream",
     "text": [
      "\n"
     ]
    },
    {
     "data": {
      "application/vnd.jupyter.widget-view+json": {
       "model_id": "656c1e63039d417099f747a951f45940",
       "version_major": 2,
       "version_minor": 0
      },
      "text/plain": [
       "HBox(children=(HTML(value='Samples collected'), FloatProgress(value=0.0), HTML(value='')))"
      ]
     },
     "metadata": {},
     "output_type": "display_data"
    },
    {
     "name": "stdout",
     "output_type": "stream",
     "text": [
      "\n"
     ]
    },
    {
     "data": {
      "application/vnd.jupyter.widget-view+json": {
       "model_id": "a0efacc4d3a046e18e576b5eb1336ea5",
       "version_major": 2,
       "version_minor": 0
      },
      "text/plain": [
       "HBox(children=(HTML(value='Samples collected'), FloatProgress(value=0.0), HTML(value='')))"
      ]
     },
     "metadata": {},
     "output_type": "display_data"
    },
    {
     "name": "stdout",
     "output_type": "stream",
     "text": [
      "\n"
     ]
    },
    {
     "data": {
      "application/vnd.jupyter.widget-view+json": {
       "model_id": "1b2ab009d6c249389891a9c62e6db369",
       "version_major": 2,
       "version_minor": 0
      },
      "text/plain": [
       "HBox(children=(HTML(value='Samples collected'), FloatProgress(value=0.0), HTML(value='')))"
      ]
     },
     "metadata": {},
     "output_type": "display_data"
    },
    {
     "name": "stdout",
     "output_type": "stream",
     "text": [
      "\n"
     ]
    },
    {
     "data": {
      "application/vnd.jupyter.widget-view+json": {
       "model_id": "037d435e28a64035911c2dd66eafa8ca",
       "version_major": 2,
       "version_minor": 0
      },
      "text/plain": [
       "HBox(children=(HTML(value='Samples collected'), FloatProgress(value=0.0), HTML(value='')))"
      ]
     },
     "metadata": {},
     "output_type": "display_data"
    },
    {
     "name": "stdout",
     "output_type": "stream",
     "text": [
      "\n"
     ]
    },
    {
     "data": {
      "application/vnd.jupyter.widget-view+json": {
       "model_id": "95b5c65b2b6544a2998386acd58735f5",
       "version_major": 2,
       "version_minor": 0
      },
      "text/plain": [
       "HBox(children=(HTML(value='Samples collected'), FloatProgress(value=0.0), HTML(value='')))"
      ]
     },
     "metadata": {},
     "output_type": "display_data"
    },
    {
     "name": "stdout",
     "output_type": "stream",
     "text": [
      "\n"
     ]
    },
    {
     "data": {
      "application/vnd.jupyter.widget-view+json": {
       "model_id": "fffc30717d1d44318f59c06930d7f181",
       "version_major": 2,
       "version_minor": 0
      },
      "text/plain": [
       "HBox(children=(HTML(value='Samples collected'), FloatProgress(value=0.0), HTML(value='')))"
      ]
     },
     "metadata": {},
     "output_type": "display_data"
    },
    {
     "name": "stdout",
     "output_type": "stream",
     "text": [
      "\n"
     ]
    },
    {
     "data": {
      "application/vnd.jupyter.widget-view+json": {
       "model_id": "2719a1b946bd4644ae63697a1752843b",
       "version_major": 2,
       "version_minor": 0
      },
      "text/plain": [
       "HBox(children=(HTML(value='Samples collected'), FloatProgress(value=0.0), HTML(value='')))"
      ]
     },
     "metadata": {},
     "output_type": "display_data"
    },
    {
     "name": "stdout",
     "output_type": "stream",
     "text": [
      "\n"
     ]
    },
    {
     "data": {
      "application/vnd.jupyter.widget-view+json": {
       "model_id": "b08b66e2bc4240dfa339118a7d8f3434",
       "version_major": 2,
       "version_minor": 0
      },
      "text/plain": [
       "HBox(children=(HTML(value='Samples collected'), FloatProgress(value=0.0), HTML(value='')))"
      ]
     },
     "metadata": {},
     "output_type": "display_data"
    },
    {
     "name": "stdout",
     "output_type": "stream",
     "text": [
      "\n"
     ]
    },
    {
     "data": {
      "application/vnd.jupyter.widget-view+json": {
       "model_id": "1e693b61ee0641018d22bd0a5dc470d8",
       "version_major": 2,
       "version_minor": 0
      },
      "text/plain": [
       "HBox(children=(HTML(value='Samples collected'), FloatProgress(value=0.0), HTML(value='')))"
      ]
     },
     "metadata": {},
     "output_type": "display_data"
    },
    {
     "name": "stdout",
     "output_type": "stream",
     "text": [
      "\n"
     ]
    },
    {
     "data": {
      "application/vnd.jupyter.widget-view+json": {
       "model_id": "8ec6061f37fd4ea9b9c8c067d8e6ce6e",
       "version_major": 2,
       "version_minor": 0
      },
      "text/plain": [
       "HBox(children=(HTML(value='Samples collected'), FloatProgress(value=0.0), HTML(value='')))"
      ]
     },
     "metadata": {},
     "output_type": "display_data"
    },
    {
     "name": "stderr",
     "output_type": "stream",
     "text": [
      "Error: Cholesky decomposition failed. Falls back to Eigen decomposition.\n",
      "Error: Cholesky decomposition failed. Falls back to Eigen decomposition.\n",
      "Error: Cholesky decomposition failed. Falls back to Eigen decomposition.\n",
      "Error: Cholesky decomposition failed. Falls back to Eigen decomposition.\n"
     ]
    },
    {
     "name": "stdout",
     "output_type": "stream",
     "text": [
      "\n"
     ]
    },
    {
     "data": {
      "application/vnd.jupyter.widget-view+json": {
       "model_id": "0118de992e3e4ca6bddeaefca6c3c29e",
       "version_major": 2,
       "version_minor": 0
      },
      "text/plain": [
       "HBox(children=(HTML(value='Samples collected'), FloatProgress(value=0.0), HTML(value='')))"
      ]
     },
     "metadata": {},
     "output_type": "display_data"
    },
    {
     "name": "stderr",
     "output_type": "stream",
     "text": [
      "Error: Cholesky decomposition failed. Falls back to Eigen decomposition.\n",
      "Error: Cholesky decomposition failed. Falls back to Eigen decomposition.\n",
      "Error: Cholesky decomposition failed. Falls back to Eigen decomposition.\n",
      "Error: Cholesky decomposition failed. Falls back to Eigen decomposition.\n",
      "Error: Cholesky decomposition failed. Falls back to Eigen decomposition.\n",
      "Error: Cholesky decomposition failed. Falls back to Eigen decomposition.\n",
      "Error: Cholesky decomposition failed. Falls back to Eigen decomposition.\n",
      "Error: Cholesky decomposition failed. Falls back to Eigen decomposition.\n",
      "Error: Cholesky decomposition failed. Falls back to Eigen decomposition.\n"
     ]
    },
    {
     "name": "stdout",
     "output_type": "stream",
     "text": [
      "\n"
     ]
    },
    {
     "data": {
      "application/vnd.jupyter.widget-view+json": {
       "model_id": "fc8bca7715564b988b502ed776d55c4a",
       "version_major": 2,
       "version_minor": 0
      },
      "text/plain": [
       "HBox(children=(HTML(value='Samples collected'), FloatProgress(value=0.0), HTML(value='')))"
      ]
     },
     "metadata": {},
     "output_type": "display_data"
    },
    {
     "name": "stderr",
     "output_type": "stream",
     "text": [
      "Error: Cholesky decomposition failed. Falls back to Eigen decomposition.\n",
      "Error: Cholesky decomposition failed. Falls back to Eigen decomposition.\n",
      "Error: Cholesky decomposition failed. Falls back to Eigen decomposition.\n",
      "Error: Cholesky decomposition failed. Falls back to Eigen decomposition.\n"
     ]
    },
    {
     "name": "stdout",
     "output_type": "stream",
     "text": [
      "\n"
     ]
    },
    {
     "data": {
      "application/vnd.jupyter.widget-view+json": {
       "model_id": "4ea4cd595ed741639fb957b854751d7d",
       "version_major": 2,
       "version_minor": 0
      },
      "text/plain": [
       "HBox(children=(HTML(value='Samples collected'), FloatProgress(value=0.0), HTML(value='')))"
      ]
     },
     "metadata": {},
     "output_type": "display_data"
    },
    {
     "name": "stderr",
     "output_type": "stream",
     "text": [
      "Error: Cholesky decomposition failed. Falls back to Eigen decomposition.\n",
      "Error: Cholesky decomposition failed. Falls back to Eigen decomposition.\n",
      "Error: Cholesky decomposition failed. Falls back to Eigen decomposition.\n",
      "Error: Cholesky decomposition failed. Falls back to Eigen decomposition.\n"
     ]
    },
    {
     "name": "stdout",
     "output_type": "stream",
     "text": [
      "\n"
     ]
    },
    {
     "data": {
      "application/vnd.jupyter.widget-view+json": {
       "model_id": "e9d17ed4049743dca367058380e1e202",
       "version_major": 2,
       "version_minor": 0
      },
      "text/plain": [
       "HBox(children=(HTML(value='Samples collected'), FloatProgress(value=0.0), HTML(value='')))"
      ]
     },
     "metadata": {},
     "output_type": "display_data"
    },
    {
     "name": "stderr",
     "output_type": "stream",
     "text": [
      "Error: Cholesky decomposition failed. Falls back to Eigen decomposition.\n",
      "Error: Cholesky decomposition failed. Falls back to Eigen decomposition.\n",
      "Error: Cholesky decomposition failed. Falls back to Eigen decomposition.\n",
      "Error: Cholesky decomposition failed. Falls back to Eigen decomposition.\n",
      "Error: Cholesky decomposition failed. Falls back to Eigen decomposition.\n",
      "Error: Cholesky decomposition failed. Falls back to Eigen decomposition.\n",
      "Error: Cholesky decomposition failed. Falls back to Eigen decomposition.\n",
      "Error: Cholesky decomposition failed. Falls back to Eigen decomposition.\n",
      "Error: Cholesky decomposition failed. Falls back to Eigen decomposition.\n",
      "Error: Cholesky decomposition failed. Falls back to Eigen decomposition.\n"
     ]
    },
    {
     "name": "stdout",
     "output_type": "stream",
     "text": [
      "\n"
     ]
    },
    {
     "data": {
      "application/vnd.jupyter.widget-view+json": {
       "model_id": "c5e967650cc143bd813b6a4a6c05d527",
       "version_major": 2,
       "version_minor": 0
      },
      "text/plain": [
       "HBox(children=(HTML(value='Samples collected'), FloatProgress(value=0.0), HTML(value='')))"
      ]
     },
     "metadata": {},
     "output_type": "display_data"
    },
    {
     "name": "stderr",
     "output_type": "stream",
     "text": [
      "Error: Cholesky decomposition failed. Falls back to Eigen decomposition.\n",
      "Error: Cholesky decomposition failed. Falls back to Eigen decomposition.\n",
      "Error: Cholesky decomposition failed. Falls back to Eigen decomposition.\n",
      "Error: Cholesky decomposition failed. Falls back to Eigen decomposition.\n",
      "Error: Cholesky decomposition failed. Falls back to Eigen decomposition.\n",
      "Error: Cholesky decomposition failed. Falls back to Eigen decomposition.\n",
      "Error: Cholesky decomposition failed. Falls back to Eigen decomposition.\n",
      "Error: Cholesky decomposition failed. Falls back to Eigen decomposition.\n",
      "Error: Cholesky decomposition failed. Falls back to Eigen decomposition.\n",
      "Error: Cholesky decomposition failed. Falls back to Eigen decomposition.\n",
      "Error: Cholesky decomposition failed. Falls back to Eigen decomposition.\n",
      "Error: Cholesky decomposition failed. Falls back to Eigen decomposition.\n",
      "Error: Cholesky decomposition failed. Falls back to Eigen decomposition.\n"
     ]
    },
    {
     "name": "stdout",
     "output_type": "stream",
     "text": [
      "\n"
     ]
    },
    {
     "data": {
      "application/vnd.jupyter.widget-view+json": {
       "model_id": "56b919b607b24fb6ba6f160ce6330567",
       "version_major": 2,
       "version_minor": 0
      },
      "text/plain": [
       "HBox(children=(HTML(value='Samples collected'), FloatProgress(value=0.0), HTML(value='')))"
      ]
     },
     "metadata": {},
     "output_type": "display_data"
    },
    {
     "name": "stderr",
     "output_type": "stream",
     "text": [
      "Error: Cholesky decomposition failed. Falls back to Eigen decomposition.\n",
      "Error: Cholesky decomposition failed. Falls back to Eigen decomposition.\n",
      "Error: Cholesky decomposition failed. Falls back to Eigen decomposition.\n",
      "Error: Cholesky decomposition failed. Falls back to Eigen decomposition.\n",
      "Error: Cholesky decomposition failed. Falls back to Eigen decomposition.\n",
      "Error: Cholesky decomposition failed. Falls back to Eigen decomposition.\n",
      "Error: Cholesky decomposition failed. Falls back to Eigen decomposition.\n",
      "Error: Cholesky decomposition failed. Falls back to Eigen decomposition.\n",
      "Error: Cholesky decomposition failed. Falls back to Eigen decomposition.\n",
      "Error: Cholesky decomposition failed. Falls back to Eigen decomposition.\n",
      "Error: Cholesky decomposition failed. Falls back to Eigen decomposition.\n",
      "Error: Cholesky decomposition failed. Falls back to Eigen decomposition.\n"
     ]
    },
    {
     "name": "stdout",
     "output_type": "stream",
     "text": [
      "\n"
     ]
    },
    {
     "data": {
      "application/vnd.jupyter.widget-view+json": {
       "model_id": "ab5edc2e35e64a61848b8a9724bef8d1",
       "version_major": 2,
       "version_minor": 0
      },
      "text/plain": [
       "HBox(children=(HTML(value='Samples collected'), FloatProgress(value=0.0), HTML(value='')))"
      ]
     },
     "metadata": {},
     "output_type": "display_data"
    },
    {
     "name": "stderr",
     "output_type": "stream",
     "text": [
      "Error: Cholesky decomposition failed. Falls back to Eigen decomposition.\n",
      "Error: Cholesky decomposition failed. Falls back to Eigen decomposition.\n",
      "Error: Cholesky decomposition failed. Falls back to Eigen decomposition.\n"
     ]
    },
    {
     "name": "stdout",
     "output_type": "stream",
     "text": [
      "\n"
     ]
    },
    {
     "data": {
      "application/vnd.jupyter.widget-view+json": {
       "model_id": "a262b9d41a4c42ce8f900c1d2761ebc8",
       "version_major": 2,
       "version_minor": 0
      },
      "text/plain": [
       "HBox(children=(HTML(value='Samples collected'), FloatProgress(value=0.0), HTML(value='')))"
      ]
     },
     "metadata": {},
     "output_type": "display_data"
    },
    {
     "name": "stderr",
     "output_type": "stream",
     "text": [
      "Error: Cholesky decomposition failed. Falls back to Eigen decomposition.\n",
      "Error: Cholesky decomposition failed. Falls back to Eigen decomposition.\n",
      "Error: Cholesky decomposition failed. Falls back to Eigen decomposition.\n",
      "Error: Cholesky decomposition failed. Falls back to Eigen decomposition.\n",
      "Error: Cholesky decomposition failed. Falls back to Eigen decomposition.\n"
     ]
    },
    {
     "name": "stdout",
     "output_type": "stream",
     "text": [
      "\n"
     ]
    },
    {
     "data": {
      "application/vnd.jupyter.widget-view+json": {
       "model_id": "8424d42b890548ea9b3b3063177b72f6",
       "version_major": 2,
       "version_minor": 0
      },
      "text/plain": [
       "HBox(children=(HTML(value='Samples collected'), FloatProgress(value=0.0), HTML(value='')))"
      ]
     },
     "metadata": {},
     "output_type": "display_data"
    },
    {
     "name": "stderr",
     "output_type": "stream",
     "text": [
      "Error: Cholesky decomposition failed. Falls back to Eigen decomposition.\n",
      "Error: Cholesky decomposition failed. Falls back to Eigen decomposition.\n",
      "Error: Cholesky decomposition failed. Falls back to Eigen decomposition.\n",
      "Error: Cholesky decomposition failed. Falls back to Eigen decomposition.\n",
      "Error: Cholesky decomposition failed. Falls back to Eigen decomposition.\n",
      "Error: Cholesky decomposition failed. Falls back to Eigen decomposition.\n",
      "Error: Cholesky decomposition failed. Falls back to Eigen decomposition.\n",
      "Error: Cholesky decomposition failed. Falls back to Eigen decomposition.\n"
     ]
    },
    {
     "name": "stdout",
     "output_type": "stream",
     "text": [
      "\n"
     ]
    },
    {
     "data": {
      "application/vnd.jupyter.widget-view+json": {
       "model_id": "78ee993e60464a9cb688de33c070d344",
       "version_major": 2,
       "version_minor": 0
      },
      "text/plain": [
       "HBox(children=(HTML(value='Samples collected'), FloatProgress(value=0.0), HTML(value='')))"
      ]
     },
     "metadata": {},
     "output_type": "display_data"
    },
    {
     "name": "stdout",
     "output_type": "stream",
     "text": [
      "\n"
     ]
    },
    {
     "data": {
      "application/vnd.jupyter.widget-view+json": {
       "model_id": "8a4cecf7ac91428eba4097acb7fa84ae",
       "version_major": 2,
       "version_minor": 0
      },
      "text/plain": [
       "HBox(children=(HTML(value='Samples collected'), FloatProgress(value=0.0), HTML(value='')))"
      ]
     },
     "metadata": {},
     "output_type": "display_data"
    },
    {
     "name": "stdout",
     "output_type": "stream",
     "text": [
      "\n"
     ]
    },
    {
     "data": {
      "application/vnd.jupyter.widget-view+json": {
       "model_id": "a0a244202dfd48959e2af99aeaeb81fc",
       "version_major": 2,
       "version_minor": 0
      },
      "text/plain": [
       "HBox(children=(HTML(value='Samples collected'), FloatProgress(value=0.0), HTML(value='')))"
      ]
     },
     "metadata": {},
     "output_type": "display_data"
    },
    {
     "name": "stdout",
     "output_type": "stream",
     "text": [
      "\n"
     ]
    },
    {
     "data": {
      "application/vnd.jupyter.widget-view+json": {
       "model_id": "8b75423f6b474f299743da4c19be9f55",
       "version_major": 2,
       "version_minor": 0
      },
      "text/plain": [
       "HBox(children=(HTML(value='Samples collected'), FloatProgress(value=0.0), HTML(value='')))"
      ]
     },
     "metadata": {},
     "output_type": "display_data"
    },
    {
     "name": "stdout",
     "output_type": "stream",
     "text": [
      "\n"
     ]
    },
    {
     "data": {
      "application/vnd.jupyter.widget-view+json": {
       "model_id": "c47380d69e6b440bab76cca20bc75b58",
       "version_major": 2,
       "version_minor": 0
      },
      "text/plain": [
       "HBox(children=(HTML(value='Samples collected'), FloatProgress(value=0.0), HTML(value='')))"
      ]
     },
     "metadata": {},
     "output_type": "display_data"
    },
    {
     "name": "stdout",
     "output_type": "stream",
     "text": [
      "\n"
     ]
    },
    {
     "data": {
      "application/vnd.jupyter.widget-view+json": {
       "model_id": "0260305c3da7473fb0cc6b105b7f40ec",
       "version_major": 2,
       "version_minor": 0
      },
      "text/plain": [
       "HBox(children=(HTML(value='Samples collected'), FloatProgress(value=0.0), HTML(value='')))"
      ]
     },
     "metadata": {},
     "output_type": "display_data"
    },
    {
     "name": "stdout",
     "output_type": "stream",
     "text": [
      "\n"
     ]
    },
    {
     "data": {
      "application/vnd.jupyter.widget-view+json": {
       "model_id": "b9830ab5beab4e6ba3d864f98d538fbc",
       "version_major": 2,
       "version_minor": 0
      },
      "text/plain": [
       "HBox(children=(HTML(value='Samples collected'), FloatProgress(value=0.0), HTML(value='')))"
      ]
     },
     "metadata": {},
     "output_type": "display_data"
    },
    {
     "name": "stdout",
     "output_type": "stream",
     "text": [
      "\n"
     ]
    },
    {
     "data": {
      "application/vnd.jupyter.widget-view+json": {
       "model_id": "cf43345863a0464b9a0a509ddbf7fcee",
       "version_major": 2,
       "version_minor": 0
      },
      "text/plain": [
       "HBox(children=(HTML(value='Samples collected'), FloatProgress(value=0.0), HTML(value='')))"
      ]
     },
     "metadata": {},
     "output_type": "display_data"
    },
    {
     "name": "stdout",
     "output_type": "stream",
     "text": [
      "\n"
     ]
    },
    {
     "data": {
      "application/vnd.jupyter.widget-view+json": {
       "model_id": "4031b339c814453794f7e25d41c428dc",
       "version_major": 2,
       "version_minor": 0
      },
      "text/plain": [
       "HBox(children=(HTML(value='Samples collected'), FloatProgress(value=0.0), HTML(value='')))"
      ]
     },
     "metadata": {},
     "output_type": "display_data"
    },
    {
     "name": "stdout",
     "output_type": "stream",
     "text": [
      "\n"
     ]
    },
    {
     "data": {
      "application/vnd.jupyter.widget-view+json": {
       "model_id": "a7de182bf4ef49c4b7aa5264353c83bf",
       "version_major": 2,
       "version_minor": 0
      },
      "text/plain": [
       "HBox(children=(HTML(value='Samples collected'), FloatProgress(value=0.0), HTML(value='')))"
      ]
     },
     "metadata": {},
     "output_type": "display_data"
    },
    {
     "name": "stdout",
     "output_type": "stream",
     "text": [
      "\n"
     ]
    },
    {
     "data": {
      "application/vnd.jupyter.widget-view+json": {
       "model_id": "f54dfd16b5bf480e9d71fa4c01d5b099",
       "version_major": 2,
       "version_minor": 0
      },
      "text/plain": [
       "HBox(children=(HTML(value='Samples collected'), FloatProgress(value=0.0), HTML(value='')))"
      ]
     },
     "metadata": {},
     "output_type": "display_data"
    },
    {
     "name": "stderr",
     "output_type": "stream",
     "text": [
      "Error: Cholesky decomposition failed. Falls back to Eigen decomposition.\n",
      "Error: Cholesky decomposition failed. Falls back to Eigen decomposition.\n",
      "Error: Cholesky decomposition failed. Falls back to Eigen decomposition.\n",
      "Error: Cholesky decomposition failed. Falls back to Eigen decomposition.\n",
      "Error: Cholesky decomposition failed. Falls back to Eigen decomposition.\n",
      "Error: Cholesky decomposition failed. Falls back to Eigen decomposition.\n",
      "Error: Cholesky decomposition failed. Falls back to Eigen decomposition.\n",
      "Error: Cholesky decomposition failed. Falls back to Eigen decomposition.\n",
      "Error: Cholesky decomposition failed. Falls back to Eigen decomposition.\n",
      "Error: Cholesky decomposition failed. Falls back to Eigen decomposition.\n",
      "Error: Cholesky decomposition failed. Falls back to Eigen decomposition.\n"
     ]
    },
    {
     "name": "stdout",
     "output_type": "stream",
     "text": [
      "\n"
     ]
    },
    {
     "data": {
      "application/vnd.jupyter.widget-view+json": {
       "model_id": "df8f004d976a4f6da48a269d88206c4f",
       "version_major": 2,
       "version_minor": 0
      },
      "text/plain": [
       "HBox(children=(HTML(value='Samples collected'), FloatProgress(value=0.0), HTML(value='')))"
      ]
     },
     "metadata": {},
     "output_type": "display_data"
    },
    {
     "name": "stderr",
     "output_type": "stream",
     "text": [
      "Error: Cholesky decomposition failed. Falls back to Eigen decomposition.\n",
      "Error: Cholesky decomposition failed. Falls back to Eigen decomposition.\n",
      "Error: Cholesky decomposition failed. Falls back to Eigen decomposition.\n",
      "Error: Cholesky decomposition failed. Falls back to Eigen decomposition.\n",
      "Error: Cholesky decomposition failed. Falls back to Eigen decomposition.\n",
      "Error: Cholesky decomposition failed. Falls back to Eigen decomposition.\n",
      "Error: Cholesky decomposition failed. Falls back to Eigen decomposition.\n",
      "Error: Cholesky decomposition failed. Falls back to Eigen decomposition.\n",
      "Error: Cholesky decomposition failed. Falls back to Eigen decomposition.\n"
     ]
    },
    {
     "name": "stdout",
     "output_type": "stream",
     "text": [
      "\n"
     ]
    },
    {
     "data": {
      "application/vnd.jupyter.widget-view+json": {
       "model_id": "31bd6b94caf4428aba71562ec48c6caa",
       "version_major": 2,
       "version_minor": 0
      },
      "text/plain": [
       "HBox(children=(HTML(value='Samples collected'), FloatProgress(value=0.0), HTML(value='')))"
      ]
     },
     "metadata": {},
     "output_type": "display_data"
    },
    {
     "name": "stderr",
     "output_type": "stream",
     "text": [
      "Error: Cholesky decomposition failed. Falls back to Eigen decomposition.\n",
      "Error: Cholesky decomposition failed. Falls back to Eigen decomposition.\n",
      "Error: Cholesky decomposition failed. Falls back to Eigen decomposition.\n",
      "Error: Cholesky decomposition failed. Falls back to Eigen decomposition.\n",
      "Error: Cholesky decomposition failed. Falls back to Eigen decomposition.\n",
      "Error: Cholesky decomposition failed. Falls back to Eigen decomposition.\n",
      "Error: Cholesky decomposition failed. Falls back to Eigen decomposition.\n",
      "Error: Cholesky decomposition failed. Falls back to Eigen decomposition.\n",
      "Error: Cholesky decomposition failed. Falls back to Eigen decomposition.\n",
      "Error: Cholesky decomposition failed. Falls back to Eigen decomposition.\n",
      "Error: Cholesky decomposition failed. Falls back to Eigen decomposition.\n",
      "Error: Cholesky decomposition failed. Falls back to Eigen decomposition.\n",
      "Error: Cholesky decomposition failed. Falls back to Eigen decomposition.\n",
      "Error: Cholesky decomposition failed. Falls back to Eigen decomposition.\n",
      "Error: Cholesky decomposition failed. Falls back to Eigen decomposition.\n",
      "Error: Cholesky decomposition failed. Falls back to Eigen decomposition.\n",
      "Error: Cholesky decomposition failed. Falls back to Eigen decomposition.\n",
      "Error: Cholesky decomposition failed. Falls back to Eigen decomposition.\n",
      "Error: Cholesky decomposition failed. Falls back to Eigen decomposition.\n",
      "Error: Cholesky decomposition failed. Falls back to Eigen decomposition.\n",
      "Error: Cholesky decomposition failed. Falls back to Eigen decomposition.\n",
      "Error: Cholesky decomposition failed. Falls back to Eigen decomposition.\n",
      "Error: Cholesky decomposition failed. Falls back to Eigen decomposition.\n",
      "Error: Cholesky decomposition failed. Falls back to Eigen decomposition.\n",
      "Error: Cholesky decomposition failed. Falls back to Eigen decomposition.\n",
      "Error: Cholesky decomposition failed. Falls back to Eigen decomposition.\n",
      "Error: Cholesky decomposition failed. Falls back to Eigen decomposition.\n",
      "Error: Cholesky decomposition failed. Falls back to Eigen decomposition.\n",
      "Error: Cholesky decomposition failed. Falls back to Eigen decomposition.\n",
      "Error: Cholesky decomposition failed. Falls back to Eigen decomposition.\n",
      "Error: Cholesky decomposition failed. Falls back to Eigen decomposition.\n",
      "Error: Cholesky decomposition failed. Falls back to Eigen decomposition.\n",
      "Error: Cholesky decomposition failed. Falls back to Eigen decomposition.\n",
      "Error: Cholesky decomposition failed. Falls back to Eigen decomposition.\n",
      "Error: Cholesky decomposition failed. Falls back to Eigen decomposition.\n"
     ]
    },
    {
     "name": "stdout",
     "output_type": "stream",
     "text": [
      "\n"
     ]
    },
    {
     "data": {
      "application/vnd.jupyter.widget-view+json": {
       "model_id": "44c5d1bd908447f2ba9b8fa9a2bc7520",
       "version_major": 2,
       "version_minor": 0
      },
      "text/plain": [
       "HBox(children=(HTML(value='Samples collected'), FloatProgress(value=0.0), HTML(value='')))"
      ]
     },
     "metadata": {},
     "output_type": "display_data"
    },
    {
     "name": "stderr",
     "output_type": "stream",
     "text": [
      "Error: Cholesky decomposition failed. Falls back to Eigen decomposition.\n",
      "Error: Cholesky decomposition failed. Falls back to Eigen decomposition.\n",
      "Error: Cholesky decomposition failed. Falls back to Eigen decomposition.\n",
      "Error: Cholesky decomposition failed. Falls back to Eigen decomposition.\n",
      "Error: Cholesky decomposition failed. Falls back to Eigen decomposition.\n",
      "Error: Cholesky decomposition failed. Falls back to Eigen decomposition.\n",
      "Error: Cholesky decomposition failed. Falls back to Eigen decomposition.\n",
      "Error: Cholesky decomposition failed. Falls back to Eigen decomposition.\n",
      "Error: Cholesky decomposition failed. Falls back to Eigen decomposition.\n",
      "Error: Cholesky decomposition failed. Falls back to Eigen decomposition.\n",
      "Error: Cholesky decomposition failed. Falls back to Eigen decomposition.\n",
      "Error: Cholesky decomposition failed. Falls back to Eigen decomposition.\n",
      "Error: Cholesky decomposition failed. Falls back to Eigen decomposition.\n",
      "Error: Cholesky decomposition failed. Falls back to Eigen decomposition.\n",
      "Error: Cholesky decomposition failed. Falls back to Eigen decomposition.\n",
      "Error: Cholesky decomposition failed. Falls back to Eigen decomposition.\n",
      "Error: Cholesky decomposition failed. Falls back to Eigen decomposition.\n",
      "Error: Cholesky decomposition failed. Falls back to Eigen decomposition.\n",
      "Error: Cholesky decomposition failed. Falls back to Eigen decomposition.\n",
      "Error: Cholesky decomposition failed. Falls back to Eigen decomposition.\n",
      "Error: Cholesky decomposition failed. Falls back to Eigen decomposition.\n",
      "Error: Cholesky decomposition failed. Falls back to Eigen decomposition.\n",
      "Error: Cholesky decomposition failed. Falls back to Eigen decomposition.\n",
      "Error: Cholesky decomposition failed. Falls back to Eigen decomposition.\n",
      "Error: Cholesky decomposition failed. Falls back to Eigen decomposition.\n"
     ]
    },
    {
     "name": "stdout",
     "output_type": "stream",
     "text": [
      "\n"
     ]
    },
    {
     "data": {
      "application/vnd.jupyter.widget-view+json": {
       "model_id": "b6f3114917fe49d1b75ace9c8204288c",
       "version_major": 2,
       "version_minor": 0
      },
      "text/plain": [
       "HBox(children=(HTML(value='Samples collected'), FloatProgress(value=0.0), HTML(value='')))"
      ]
     },
     "metadata": {},
     "output_type": "display_data"
    },
    {
     "name": "stderr",
     "output_type": "stream",
     "text": [
      "Error: Cholesky decomposition failed. Falls back to Eigen decomposition.\n",
      "Error: Cholesky decomposition failed. Falls back to Eigen decomposition.\n",
      "Error: Cholesky decomposition failed. Falls back to Eigen decomposition.\n",
      "Error: Cholesky decomposition failed. Falls back to Eigen decomposition.\n",
      "Error: Cholesky decomposition failed. Falls back to Eigen decomposition.\n",
      "Error: Cholesky decomposition failed. Falls back to Eigen decomposition.\n",
      "Error: Cholesky decomposition failed. Falls back to Eigen decomposition.\n",
      "Error: Cholesky decomposition failed. Falls back to Eigen decomposition.\n",
      "Error: Cholesky decomposition failed. Falls back to Eigen decomposition.\n",
      "Error: Cholesky decomposition failed. Falls back to Eigen decomposition.\n",
      "Error: Cholesky decomposition failed. Falls back to Eigen decomposition.\n",
      "Error: Cholesky decomposition failed. Falls back to Eigen decomposition.\n",
      "Error: Cholesky decomposition failed. Falls back to Eigen decomposition.\n",
      "Error: Cholesky decomposition failed. Falls back to Eigen decomposition.\n",
      "Error: Cholesky decomposition failed. Falls back to Eigen decomposition.\n",
      "Error: Cholesky decomposition failed. Falls back to Eigen decomposition.\n",
      "Error: Cholesky decomposition failed. Falls back to Eigen decomposition.\n",
      "Error: Cholesky decomposition failed. Falls back to Eigen decomposition.\n",
      "Error: Cholesky decomposition failed. Falls back to Eigen decomposition.\n",
      "Error: Cholesky decomposition failed. Falls back to Eigen decomposition.\n",
      "Error: Cholesky decomposition failed. Falls back to Eigen decomposition.\n",
      "Error: Cholesky decomposition failed. Falls back to Eigen decomposition.\n"
     ]
    },
    {
     "name": "stdout",
     "output_type": "stream",
     "text": [
      "\n"
     ]
    },
    {
     "data": {
      "application/vnd.jupyter.widget-view+json": {
       "model_id": "2eed46aeab434494a858c5e117b84ace",
       "version_major": 2,
       "version_minor": 0
      },
      "text/plain": [
       "HBox(children=(HTML(value='Samples collected'), FloatProgress(value=0.0), HTML(value='')))"
      ]
     },
     "metadata": {},
     "output_type": "display_data"
    },
    {
     "name": "stderr",
     "output_type": "stream",
     "text": [
      "Error: Cholesky decomposition failed. Falls back to Eigen decomposition.\n",
      "Error: Cholesky decomposition failed. Falls back to Eigen decomposition.\n",
      "Error: Cholesky decomposition failed. Falls back to Eigen decomposition.\n",
      "Error: Cholesky decomposition failed. Falls back to Eigen decomposition.\n",
      "Error: Cholesky decomposition failed. Falls back to Eigen decomposition.\n",
      "Error: Cholesky decomposition failed. Falls back to Eigen decomposition.\n",
      "Error: Cholesky decomposition failed. Falls back to Eigen decomposition.\n",
      "Error: Cholesky decomposition failed. Falls back to Eigen decomposition.\n",
      "Error: Cholesky decomposition failed. Falls back to Eigen decomposition.\n",
      "Error: Cholesky decomposition failed. Falls back to Eigen decomposition.\n",
      "Error: Cholesky decomposition failed. Falls back to Eigen decomposition.\n",
      "Error: Cholesky decomposition failed. Falls back to Eigen decomposition.\n",
      "Error: Cholesky decomposition failed. Falls back to Eigen decomposition.\n"
     ]
    },
    {
     "name": "stdout",
     "output_type": "stream",
     "text": [
      "\n"
     ]
    },
    {
     "data": {
      "application/vnd.jupyter.widget-view+json": {
       "model_id": "e624c70c50e84577a3e14d9231ff5175",
       "version_major": 2,
       "version_minor": 0
      },
      "text/plain": [
       "HBox(children=(HTML(value='Samples collected'), FloatProgress(value=0.0), HTML(value='')))"
      ]
     },
     "metadata": {},
     "output_type": "display_data"
    },
    {
     "name": "stderr",
     "output_type": "stream",
     "text": [
      "Error: Cholesky decomposition failed. Falls back to Eigen decomposition.\n",
      "Error: Cholesky decomposition failed. Falls back to Eigen decomposition.\n",
      "Error: Cholesky decomposition failed. Falls back to Eigen decomposition.\n",
      "Error: Cholesky decomposition failed. Falls back to Eigen decomposition.\n",
      "Error: Cholesky decomposition failed. Falls back to Eigen decomposition.\n",
      "Error: Cholesky decomposition failed. Falls back to Eigen decomposition.\n",
      "Error: Cholesky decomposition failed. Falls back to Eigen decomposition.\n",
      "Error: Cholesky decomposition failed. Falls back to Eigen decomposition.\n",
      "Error: Cholesky decomposition failed. Falls back to Eigen decomposition.\n",
      "Error: Cholesky decomposition failed. Falls back to Eigen decomposition.\n",
      "Error: Cholesky decomposition failed. Falls back to Eigen decomposition.\n",
      "Error: Cholesky decomposition failed. Falls back to Eigen decomposition.\n",
      "Error: Cholesky decomposition failed. Falls back to Eigen decomposition.\n",
      "Error: Cholesky decomposition failed. Falls back to Eigen decomposition.\n"
     ]
    },
    {
     "name": "stdout",
     "output_type": "stream",
     "text": [
      "\n"
     ]
    },
    {
     "data": {
      "application/vnd.jupyter.widget-view+json": {
       "model_id": "7acdf7e469d24f0295143a4757b5c417",
       "version_major": 2,
       "version_minor": 0
      },
      "text/plain": [
       "HBox(children=(HTML(value='Samples collected'), FloatProgress(value=0.0), HTML(value='')))"
      ]
     },
     "metadata": {},
     "output_type": "display_data"
    },
    {
     "name": "stderr",
     "output_type": "stream",
     "text": [
      "Error: Cholesky decomposition failed. Falls back to Eigen decomposition.\n",
      "Error: Cholesky decomposition failed. Falls back to Eigen decomposition.\n",
      "Error: Cholesky decomposition failed. Falls back to Eigen decomposition.\n",
      "Error: Cholesky decomposition failed. Falls back to Eigen decomposition.\n",
      "Error: Cholesky decomposition failed. Falls back to Eigen decomposition.\n",
      "Error: Cholesky decomposition failed. Falls back to Eigen decomposition.\n",
      "Error: Cholesky decomposition failed. Falls back to Eigen decomposition.\n",
      "Error: Cholesky decomposition failed. Falls back to Eigen decomposition.\n",
      "Error: Cholesky decomposition failed. Falls back to Eigen decomposition.\n",
      "Error: Cholesky decomposition failed. Falls back to Eigen decomposition.\n",
      "Error: Cholesky decomposition failed. Falls back to Eigen decomposition.\n",
      "Error: Cholesky decomposition failed. Falls back to Eigen decomposition.\n",
      "Error: Cholesky decomposition failed. Falls back to Eigen decomposition.\n",
      "Error: Cholesky decomposition failed. Falls back to Eigen decomposition.\n",
      "Error: Cholesky decomposition failed. Falls back to Eigen decomposition.\n",
      "Error: Cholesky decomposition failed. Falls back to Eigen decomposition.\n",
      "Error: Cholesky decomposition failed. Falls back to Eigen decomposition.\n",
      "Error: Cholesky decomposition failed. Falls back to Eigen decomposition.\n"
     ]
    },
    {
     "name": "stdout",
     "output_type": "stream",
     "text": [
      "\n"
     ]
    },
    {
     "data": {
      "application/vnd.jupyter.widget-view+json": {
       "model_id": "4ec4fda89e3240bc9f7b703a2eca9d08",
       "version_major": 2,
       "version_minor": 0
      },
      "text/plain": [
       "HBox(children=(HTML(value='Samples collected'), FloatProgress(value=0.0), HTML(value='')))"
      ]
     },
     "metadata": {},
     "output_type": "display_data"
    },
    {
     "name": "stderr",
     "output_type": "stream",
     "text": [
      "Error: Cholesky decomposition failed. Falls back to Eigen decomposition.\n",
      "Error: Cholesky decomposition failed. Falls back to Eigen decomposition.\n",
      "Error: Cholesky decomposition failed. Falls back to Eigen decomposition.\n",
      "Error: Cholesky decomposition failed. Falls back to Eigen decomposition.\n",
      "Error: Cholesky decomposition failed. Falls back to Eigen decomposition.\n",
      "Error: Cholesky decomposition failed. Falls back to Eigen decomposition.\n",
      "Error: Cholesky decomposition failed. Falls back to Eigen decomposition.\n",
      "Error: Cholesky decomposition failed. Falls back to Eigen decomposition.\n",
      "Error: Cholesky decomposition failed. Falls back to Eigen decomposition.\n",
      "Error: Cholesky decomposition failed. Falls back to Eigen decomposition.\n",
      "Error: Cholesky decomposition failed. Falls back to Eigen decomposition.\n",
      "Error: Cholesky decomposition failed. Falls back to Eigen decomposition.\n",
      "Error: Cholesky decomposition failed. Falls back to Eigen decomposition.\n",
      "Error: Cholesky decomposition failed. Falls back to Eigen decomposition.\n",
      "Error: Cholesky decomposition failed. Falls back to Eigen decomposition.\n",
      "Error: Cholesky decomposition failed. Falls back to Eigen decomposition.\n",
      "Error: Cholesky decomposition failed. Falls back to Eigen decomposition.\n"
     ]
    },
    {
     "name": "stdout",
     "output_type": "stream",
     "text": [
      "\n"
     ]
    },
    {
     "data": {
      "application/vnd.jupyter.widget-view+json": {
       "model_id": "6701b152a4344850ad1ea0667e65b6e6",
       "version_major": 2,
       "version_minor": 0
      },
      "text/plain": [
       "HBox(children=(HTML(value='Samples collected'), FloatProgress(value=0.0), HTML(value='')))"
      ]
     },
     "metadata": {},
     "output_type": "display_data"
    },
    {
     "name": "stderr",
     "output_type": "stream",
     "text": [
      "Error: Cholesky decomposition failed. Falls back to Eigen decomposition.\n",
      "Error: Cholesky decomposition failed. Falls back to Eigen decomposition.\n",
      "Error: Cholesky decomposition failed. Falls back to Eigen decomposition.\n",
      "Error: Cholesky decomposition failed. Falls back to Eigen decomposition.\n",
      "Error: Cholesky decomposition failed. Falls back to Eigen decomposition.\n",
      "Error: Cholesky decomposition failed. Falls back to Eigen decomposition.\n",
      "Error: Cholesky decomposition failed. Falls back to Eigen decomposition.\n",
      "Error: Cholesky decomposition failed. Falls back to Eigen decomposition.\n",
      "Error: Cholesky decomposition failed. Falls back to Eigen decomposition.\n",
      "Error: Cholesky decomposition failed. Falls back to Eigen decomposition.\n",
      "Error: Cholesky decomposition failed. Falls back to Eigen decomposition.\n",
      "Error: Cholesky decomposition failed. Falls back to Eigen decomposition.\n",
      "Error: Cholesky decomposition failed. Falls back to Eigen decomposition.\n",
      "Error: Cholesky decomposition failed. Falls back to Eigen decomposition.\n"
     ]
    },
    {
     "name": "stdout",
     "output_type": "stream",
     "text": [
      "\n"
     ]
    },
    {
     "data": {
      "application/vnd.jupyter.widget-view+json": {
       "model_id": "dcbcd95239b4450b9ff63602804ad5fe",
       "version_major": 2,
       "version_minor": 0
      },
      "text/plain": [
       "HBox(children=(HTML(value='Samples collected'), FloatProgress(value=0.0), HTML(value='')))"
      ]
     },
     "metadata": {},
     "output_type": "display_data"
    },
    {
     "name": "stdout",
     "output_type": "stream",
     "text": [
      "\n"
     ]
    },
    {
     "data": {
      "application/vnd.jupyter.widget-view+json": {
       "model_id": "101b9c967612416f9cac622589e3b158",
       "version_major": 2,
       "version_minor": 0
      },
      "text/plain": [
       "HBox(children=(HTML(value='Samples collected'), FloatProgress(value=0.0), HTML(value='')))"
      ]
     },
     "metadata": {},
     "output_type": "display_data"
    },
    {
     "name": "stdout",
     "output_type": "stream",
     "text": [
      "\n"
     ]
    },
    {
     "data": {
      "application/vnd.jupyter.widget-view+json": {
       "model_id": "3dde7fbf90274493bda6227dd7a49602",
       "version_major": 2,
       "version_minor": 0
      },
      "text/plain": [
       "HBox(children=(HTML(value='Samples collected'), FloatProgress(value=0.0), HTML(value='')))"
      ]
     },
     "metadata": {},
     "output_type": "display_data"
    },
    {
     "name": "stdout",
     "output_type": "stream",
     "text": [
      "\n"
     ]
    },
    {
     "data": {
      "application/vnd.jupyter.widget-view+json": {
       "model_id": "fefbab4416b24842b3658dac897d1501",
       "version_major": 2,
       "version_minor": 0
      },
      "text/plain": [
       "HBox(children=(HTML(value='Samples collected'), FloatProgress(value=0.0), HTML(value='')))"
      ]
     },
     "metadata": {},
     "output_type": "display_data"
    },
    {
     "name": "stdout",
     "output_type": "stream",
     "text": [
      "\n"
     ]
    },
    {
     "data": {
      "application/vnd.jupyter.widget-view+json": {
       "model_id": "4a72a81f8b7b4c41b32c8f48212691af",
       "version_major": 2,
       "version_minor": 0
      },
      "text/plain": [
       "HBox(children=(HTML(value='Samples collected'), FloatProgress(value=0.0), HTML(value='')))"
      ]
     },
     "metadata": {},
     "output_type": "display_data"
    },
    {
     "name": "stdout",
     "output_type": "stream",
     "text": [
      "\n"
     ]
    },
    {
     "data": {
      "application/vnd.jupyter.widget-view+json": {
       "model_id": "2581b6f97207483182cb6fefd0b09edd",
       "version_major": 2,
       "version_minor": 0
      },
      "text/plain": [
       "HBox(children=(HTML(value='Samples collected'), FloatProgress(value=0.0), HTML(value='')))"
      ]
     },
     "metadata": {},
     "output_type": "display_data"
    },
    {
     "name": "stdout",
     "output_type": "stream",
     "text": [
      "\n"
     ]
    },
    {
     "data": {
      "application/vnd.jupyter.widget-view+json": {
       "model_id": "6723d17523b6489a8a5f25932e132abb",
       "version_major": 2,
       "version_minor": 0
      },
      "text/plain": [
       "HBox(children=(HTML(value='Samples collected'), FloatProgress(value=0.0), HTML(value='')))"
      ]
     },
     "metadata": {},
     "output_type": "display_data"
    },
    {
     "name": "stdout",
     "output_type": "stream",
     "text": [
      "\n"
     ]
    },
    {
     "data": {
      "application/vnd.jupyter.widget-view+json": {
       "model_id": "bb6ae9b253f3456aad29a16942882125",
       "version_major": 2,
       "version_minor": 0
      },
      "text/plain": [
       "HBox(children=(HTML(value='Samples collected'), FloatProgress(value=0.0), HTML(value='')))"
      ]
     },
     "metadata": {},
     "output_type": "display_data"
    },
    {
     "name": "stdout",
     "output_type": "stream",
     "text": [
      "\n"
     ]
    },
    {
     "data": {
      "application/vnd.jupyter.widget-view+json": {
       "model_id": "c36b0d5b07d14fada758129d5f24665e",
       "version_major": 2,
       "version_minor": 0
      },
      "text/plain": [
       "HBox(children=(HTML(value='Samples collected'), FloatProgress(value=0.0), HTML(value='')))"
      ]
     },
     "metadata": {},
     "output_type": "display_data"
    },
    {
     "name": "stdout",
     "output_type": "stream",
     "text": [
      "\n"
     ]
    },
    {
     "data": {
      "application/vnd.jupyter.widget-view+json": {
       "model_id": "bed8895ac9034689abec7fa950c64158",
       "version_major": 2,
       "version_minor": 0
      },
      "text/plain": [
       "HBox(children=(HTML(value='Samples collected'), FloatProgress(value=0.0), HTML(value='')))"
      ]
     },
     "metadata": {},
     "output_type": "display_data"
    },
    {
     "name": "stdout",
     "output_type": "stream",
     "text": [
      "\n"
     ]
    },
    {
     "data": {
      "application/vnd.jupyter.widget-view+json": {
       "model_id": "0c40c4f6136d4b54a4d45077c9e35993",
       "version_major": 2,
       "version_minor": 0
      },
      "text/plain": [
       "HBox(children=(HTML(value='Samples collected'), FloatProgress(value=0.0), HTML(value='')))"
      ]
     },
     "metadata": {},
     "output_type": "display_data"
    },
    {
     "name": "stderr",
     "output_type": "stream",
     "text": [
      "Error: Cholesky decomposition failed. Falls back to Eigen decomposition.\n",
      "Error: Cholesky decomposition failed. Falls back to Eigen decomposition.\n",
      "Error: Cholesky decomposition failed. Falls back to Eigen decomposition.\n",
      "Error: Cholesky decomposition failed. Falls back to Eigen decomposition.\n",
      "Error: Cholesky decomposition failed. Falls back to Eigen decomposition.\n",
      "Error: Cholesky decomposition failed. Falls back to Eigen decomposition.\n",
      "Error: Cholesky decomposition failed. Falls back to Eigen decomposition.\n",
      "Error: Cholesky decomposition failed. Falls back to Eigen decomposition.\n",
      "Error: Cholesky decomposition failed. Falls back to Eigen decomposition.\n",
      "Error: Cholesky decomposition failed. Falls back to Eigen decomposition.\n",
      "Error: Cholesky decomposition failed. Falls back to Eigen decomposition.\n",
      "Error: Cholesky decomposition failed. Falls back to Eigen decomposition.\n",
      "Error: Cholesky decomposition failed. Falls back to Eigen decomposition.\n",
      "Error: Cholesky decomposition failed. Falls back to Eigen decomposition.\n",
      "Error: Cholesky decomposition failed. Falls back to Eigen decomposition.\n",
      "Error: Cholesky decomposition failed. Falls back to Eigen decomposition.\n",
      "Error: Cholesky decomposition failed. Falls back to Eigen decomposition.\n",
      "Error: Cholesky decomposition failed. Falls back to Eigen decomposition.\n",
      "Error: Cholesky decomposition failed. Falls back to Eigen decomposition.\n",
      "Error: Cholesky decomposition failed. Falls back to Eigen decomposition.\n",
      "Error: Cholesky decomposition failed. Falls back to Eigen decomposition.\n",
      "Error: Cholesky decomposition failed. Falls back to Eigen decomposition.\n",
      "Error: Cholesky decomposition failed. Falls back to Eigen decomposition.\n",
      "Error: Cholesky decomposition failed. Falls back to Eigen decomposition.\n",
      "Error: Cholesky decomposition failed. Falls back to Eigen decomposition.\n",
      "Error: Cholesky decomposition failed. Falls back to Eigen decomposition.\n",
      "Error: Cholesky decomposition failed. Falls back to Eigen decomposition.\n",
      "Error: Cholesky decomposition failed. Falls back to Eigen decomposition.\n",
      "Error: Cholesky decomposition failed. Falls back to Eigen decomposition.\n",
      "Error: Cholesky decomposition failed. Falls back to Eigen decomposition.\n",
      "Error: Cholesky decomposition failed. Falls back to Eigen decomposition.\n",
      "Error: Cholesky decomposition failed. Falls back to Eigen decomposition.\n"
     ]
    },
    {
     "name": "stdout",
     "output_type": "stream",
     "text": [
      "\n"
     ]
    },
    {
     "data": {
      "application/vnd.jupyter.widget-view+json": {
       "model_id": "cded0ce80a2244adab553d2fb9c2ee4c",
       "version_major": 2,
       "version_minor": 0
      },
      "text/plain": [
       "HBox(children=(HTML(value='Samples collected'), FloatProgress(value=0.0), HTML(value='')))"
      ]
     },
     "metadata": {},
     "output_type": "display_data"
    },
    {
     "name": "stderr",
     "output_type": "stream",
     "text": [
      "Error: Cholesky decomposition failed. Falls back to Eigen decomposition.\n",
      "Error: Cholesky decomposition failed. Falls back to Eigen decomposition.\n",
      "Error: Cholesky decomposition failed. Falls back to Eigen decomposition.\n",
      "Error: Cholesky decomposition failed. Falls back to Eigen decomposition.\n",
      "Error: Cholesky decomposition failed. Falls back to Eigen decomposition.\n",
      "Error: Cholesky decomposition failed. Falls back to Eigen decomposition.\n",
      "Error: Cholesky decomposition failed. Falls back to Eigen decomposition.\n",
      "Error: Cholesky decomposition failed. Falls back to Eigen decomposition.\n",
      "Error: Cholesky decomposition failed. Falls back to Eigen decomposition.\n",
      "Error: Cholesky decomposition failed. Falls back to Eigen decomposition.\n",
      "Error: Cholesky decomposition failed. Falls back to Eigen decomposition.\n",
      "Error: Cholesky decomposition failed. Falls back to Eigen decomposition.\n",
      "Error: Cholesky decomposition failed. Falls back to Eigen decomposition.\n",
      "Error: Cholesky decomposition failed. Falls back to Eigen decomposition.\n",
      "Error: Cholesky decomposition failed. Falls back to Eigen decomposition.\n",
      "Error: Cholesky decomposition failed. Falls back to Eigen decomposition.\n",
      "Error: Cholesky decomposition failed. Falls back to Eigen decomposition.\n",
      "Error: Cholesky decomposition failed. Falls back to Eigen decomposition.\n",
      "Error: Cholesky decomposition failed. Falls back to Eigen decomposition.\n",
      "Error: Cholesky decomposition failed. Falls back to Eigen decomposition.\n",
      "Error: Cholesky decomposition failed. Falls back to Eigen decomposition.\n",
      "Error: Cholesky decomposition failed. Falls back to Eigen decomposition.\n",
      "Error: Cholesky decomposition failed. Falls back to Eigen decomposition.\n",
      "Error: Cholesky decomposition failed. Falls back to Eigen decomposition.\n",
      "Error: Cholesky decomposition failed. Falls back to Eigen decomposition.\n",
      "Error: Cholesky decomposition failed. Falls back to Eigen decomposition.\n",
      "Error: Cholesky decomposition failed. Falls back to Eigen decomposition.\n",
      "Error: Cholesky decomposition failed. Falls back to Eigen decomposition.\n",
      "Error: Cholesky decomposition failed. Falls back to Eigen decomposition.\n",
      "Error: Cholesky decomposition failed. Falls back to Eigen decomposition.\n",
      "Error: Cholesky decomposition failed. Falls back to Eigen decomposition.\n",
      "Error: Cholesky decomposition failed. Falls back to Eigen decomposition.\n",
      "Error: Cholesky decomposition failed. Falls back to Eigen decomposition.\n"
     ]
    },
    {
     "name": "stdout",
     "output_type": "stream",
     "text": [
      "\n"
     ]
    },
    {
     "data": {
      "application/vnd.jupyter.widget-view+json": {
       "model_id": "3e632eee763d4b9db4c6346d4a6ae0b5",
       "version_major": 2,
       "version_minor": 0
      },
      "text/plain": [
       "HBox(children=(HTML(value='Samples collected'), FloatProgress(value=0.0), HTML(value='')))"
      ]
     },
     "metadata": {},
     "output_type": "display_data"
    },
    {
     "name": "stderr",
     "output_type": "stream",
     "text": [
      "Error: Cholesky decomposition failed. Falls back to Eigen decomposition.\n",
      "Error: Cholesky decomposition failed. Falls back to Eigen decomposition.\n",
      "Error: Cholesky decomposition failed. Falls back to Eigen decomposition.\n",
      "Error: Cholesky decomposition failed. Falls back to Eigen decomposition.\n",
      "Error: Cholesky decomposition failed. Falls back to Eigen decomposition.\n",
      "Error: Cholesky decomposition failed. Falls back to Eigen decomposition.\n",
      "Error: Cholesky decomposition failed. Falls back to Eigen decomposition.\n",
      "Error: Cholesky decomposition failed. Falls back to Eigen decomposition.\n",
      "Error: Cholesky decomposition failed. Falls back to Eigen decomposition.\n",
      "Error: Cholesky decomposition failed. Falls back to Eigen decomposition.\n",
      "Error: Cholesky decomposition failed. Falls back to Eigen decomposition.\n",
      "Error: Cholesky decomposition failed. Falls back to Eigen decomposition.\n",
      "Error: Cholesky decomposition failed. Falls back to Eigen decomposition.\n",
      "Error: Cholesky decomposition failed. Falls back to Eigen decomposition.\n",
      "Error: Cholesky decomposition failed. Falls back to Eigen decomposition.\n",
      "Error: Cholesky decomposition failed. Falls back to Eigen decomposition.\n",
      "Error: Cholesky decomposition failed. Falls back to Eigen decomposition.\n",
      "Error: Cholesky decomposition failed. Falls back to Eigen decomposition.\n",
      "Error: Cholesky decomposition failed. Falls back to Eigen decomposition.\n",
      "Error: Cholesky decomposition failed. Falls back to Eigen decomposition.\n",
      "Error: Cholesky decomposition failed. Falls back to Eigen decomposition.\n",
      "Error: Cholesky decomposition failed. Falls back to Eigen decomposition.\n",
      "Error: Cholesky decomposition failed. Falls back to Eigen decomposition.\n",
      "Error: Cholesky decomposition failed. Falls back to Eigen decomposition.\n",
      "Error: Cholesky decomposition failed. Falls back to Eigen decomposition.\n",
      "Error: Cholesky decomposition failed. Falls back to Eigen decomposition.\n",
      "Error: Cholesky decomposition failed. Falls back to Eigen decomposition.\n",
      "Error: Cholesky decomposition failed. Falls back to Eigen decomposition.\n",
      "Error: Cholesky decomposition failed. Falls back to Eigen decomposition.\n",
      "Error: Cholesky decomposition failed. Falls back to Eigen decomposition.\n",
      "Error: Cholesky decomposition failed. Falls back to Eigen decomposition.\n",
      "Error: Cholesky decomposition failed. Falls back to Eigen decomposition.\n",
      "Error: Cholesky decomposition failed. Falls back to Eigen decomposition.\n"
     ]
    },
    {
     "name": "stdout",
     "output_type": "stream",
     "text": [
      "\n"
     ]
    },
    {
     "data": {
      "application/vnd.jupyter.widget-view+json": {
       "model_id": "42fe79ca6ee949cfb94493a871540165",
       "version_major": 2,
       "version_minor": 0
      },
      "text/plain": [
       "HBox(children=(HTML(value='Samples collected'), FloatProgress(value=0.0), HTML(value='')))"
      ]
     },
     "metadata": {},
     "output_type": "display_data"
    },
    {
     "name": "stderr",
     "output_type": "stream",
     "text": [
      "Error: Cholesky decomposition failed. Falls back to Eigen decomposition.\n",
      "Error: Cholesky decomposition failed. Falls back to Eigen decomposition.\n",
      "Error: Cholesky decomposition failed. Falls back to Eigen decomposition.\n",
      "Error: Cholesky decomposition failed. Falls back to Eigen decomposition.\n",
      "Error: Cholesky decomposition failed. Falls back to Eigen decomposition.\n",
      "Error: Cholesky decomposition failed. Falls back to Eigen decomposition.\n",
      "Error: Cholesky decomposition failed. Falls back to Eigen decomposition.\n",
      "Error: Cholesky decomposition failed. Falls back to Eigen decomposition.\n",
      "Error: Cholesky decomposition failed. Falls back to Eigen decomposition.\n",
      "Error: Cholesky decomposition failed. Falls back to Eigen decomposition.\n",
      "Error: Cholesky decomposition failed. Falls back to Eigen decomposition.\n",
      "Error: Cholesky decomposition failed. Falls back to Eigen decomposition.\n",
      "Error: Cholesky decomposition failed. Falls back to Eigen decomposition.\n",
      "Error: Cholesky decomposition failed. Falls back to Eigen decomposition.\n",
      "Error: Cholesky decomposition failed. Falls back to Eigen decomposition.\n",
      "Error: Cholesky decomposition failed. Falls back to Eigen decomposition.\n",
      "Error: Cholesky decomposition failed. Falls back to Eigen decomposition.\n",
      "Error: Cholesky decomposition failed. Falls back to Eigen decomposition.\n",
      "Error: Cholesky decomposition failed. Falls back to Eigen decomposition.\n",
      "Error: Cholesky decomposition failed. Falls back to Eigen decomposition.\n",
      "Error: Cholesky decomposition failed. Falls back to Eigen decomposition.\n",
      "Error: Cholesky decomposition failed. Falls back to Eigen decomposition.\n",
      "Error: Cholesky decomposition failed. Falls back to Eigen decomposition.\n",
      "Error: Cholesky decomposition failed. Falls back to Eigen decomposition.\n",
      "Error: Cholesky decomposition failed. Falls back to Eigen decomposition.\n",
      "Error: Cholesky decomposition failed. Falls back to Eigen decomposition.\n",
      "Error: Cholesky decomposition failed. Falls back to Eigen decomposition.\n",
      "Error: Cholesky decomposition failed. Falls back to Eigen decomposition.\n",
      "Error: Cholesky decomposition failed. Falls back to Eigen decomposition.\n",
      "Error: Cholesky decomposition failed. Falls back to Eigen decomposition.\n",
      "Error: Cholesky decomposition failed. Falls back to Eigen decomposition.\n",
      "Error: Cholesky decomposition failed. Falls back to Eigen decomposition.\n",
      "Error: Cholesky decomposition failed. Falls back to Eigen decomposition.\n",
      "Error: Cholesky decomposition failed. Falls back to Eigen decomposition.\n",
      "Error: Cholesky decomposition failed. Falls back to Eigen decomposition.\n",
      "Error: Cholesky decomposition failed. Falls back to Eigen decomposition.\n",
      "Error: Cholesky decomposition failed. Falls back to Eigen decomposition.\n"
     ]
    },
    {
     "name": "stdout",
     "output_type": "stream",
     "text": [
      "\n"
     ]
    },
    {
     "data": {
      "application/vnd.jupyter.widget-view+json": {
       "model_id": "baf112aa98ea4bf6816c9570506a4081",
       "version_major": 2,
       "version_minor": 0
      },
      "text/plain": [
       "HBox(children=(HTML(value='Samples collected'), FloatProgress(value=0.0), HTML(value='')))"
      ]
     },
     "metadata": {},
     "output_type": "display_data"
    },
    {
     "name": "stderr",
     "output_type": "stream",
     "text": [
      "Error: Cholesky decomposition failed. Falls back to Eigen decomposition.\n",
      "Error: Cholesky decomposition failed. Falls back to Eigen decomposition.\n",
      "Error: Cholesky decomposition failed. Falls back to Eigen decomposition.\n",
      "Error: Cholesky decomposition failed. Falls back to Eigen decomposition.\n",
      "Error: Cholesky decomposition failed. Falls back to Eigen decomposition.\n",
      "Error: Cholesky decomposition failed. Falls back to Eigen decomposition.\n",
      "Error: Cholesky decomposition failed. Falls back to Eigen decomposition.\n",
      "Error: Cholesky decomposition failed. Falls back to Eigen decomposition.\n",
      "Error: Cholesky decomposition failed. Falls back to Eigen decomposition.\n",
      "Error: Cholesky decomposition failed. Falls back to Eigen decomposition.\n",
      "Error: Cholesky decomposition failed. Falls back to Eigen decomposition.\n",
      "Error: Cholesky decomposition failed. Falls back to Eigen decomposition.\n",
      "Error: Cholesky decomposition failed. Falls back to Eigen decomposition.\n",
      "Error: Cholesky decomposition failed. Falls back to Eigen decomposition.\n",
      "Error: Cholesky decomposition failed. Falls back to Eigen decomposition.\n",
      "Error: Cholesky decomposition failed. Falls back to Eigen decomposition.\n",
      "Error: Cholesky decomposition failed. Falls back to Eigen decomposition.\n",
      "Error: Cholesky decomposition failed. Falls back to Eigen decomposition.\n",
      "Error: Cholesky decomposition failed. Falls back to Eigen decomposition.\n",
      "Error: Cholesky decomposition failed. Falls back to Eigen decomposition.\n",
      "Error: Cholesky decomposition failed. Falls back to Eigen decomposition.\n",
      "Error: Cholesky decomposition failed. Falls back to Eigen decomposition.\n",
      "Error: Cholesky decomposition failed. Falls back to Eigen decomposition.\n",
      "Error: Cholesky decomposition failed. Falls back to Eigen decomposition.\n",
      "Error: Cholesky decomposition failed. Falls back to Eigen decomposition.\n",
      "Error: Cholesky decomposition failed. Falls back to Eigen decomposition.\n",
      "Error: Cholesky decomposition failed. Falls back to Eigen decomposition.\n",
      "Error: Cholesky decomposition failed. Falls back to Eigen decomposition.\n",
      "Error: Cholesky decomposition failed. Falls back to Eigen decomposition.\n",
      "Error: Cholesky decomposition failed. Falls back to Eigen decomposition.\n",
      "Error: Cholesky decomposition failed. Falls back to Eigen decomposition.\n",
      "Error: Cholesky decomposition failed. Falls back to Eigen decomposition.\n",
      "Error: Cholesky decomposition failed. Falls back to Eigen decomposition.\n",
      "Error: Cholesky decomposition failed. Falls back to Eigen decomposition.\n",
      "Error: Cholesky decomposition failed. Falls back to Eigen decomposition.\n",
      "Error: Cholesky decomposition failed. Falls back to Eigen decomposition.\n",
      "Error: Cholesky decomposition failed. Falls back to Eigen decomposition.\n",
      "Error: Cholesky decomposition failed. Falls back to Eigen decomposition.\n",
      "Error: Cholesky decomposition failed. Falls back to Eigen decomposition.\n"
     ]
    },
    {
     "name": "stdout",
     "output_type": "stream",
     "text": [
      "\n"
     ]
    },
    {
     "data": {
      "application/vnd.jupyter.widget-view+json": {
       "model_id": "3b1d65fd6a964e4eb441b2b7ad903155",
       "version_major": 2,
       "version_minor": 0
      },
      "text/plain": [
       "HBox(children=(HTML(value='Samples collected'), FloatProgress(value=0.0), HTML(value='')))"
      ]
     },
     "metadata": {},
     "output_type": "display_data"
    },
    {
     "name": "stderr",
     "output_type": "stream",
     "text": [
      "Error: Cholesky decomposition failed. Falls back to Eigen decomposition.\n",
      "Error: Cholesky decomposition failed. Falls back to Eigen decomposition.\n",
      "Error: Cholesky decomposition failed. Falls back to Eigen decomposition.\n",
      "Error: Cholesky decomposition failed. Falls back to Eigen decomposition.\n",
      "Error: Cholesky decomposition failed. Falls back to Eigen decomposition.\n",
      "Error: Cholesky decomposition failed. Falls back to Eigen decomposition.\n",
      "Error: Cholesky decomposition failed. Falls back to Eigen decomposition.\n",
      "Error: Cholesky decomposition failed. Falls back to Eigen decomposition.\n",
      "Error: Cholesky decomposition failed. Falls back to Eigen decomposition.\n",
      "Error: Cholesky decomposition failed. Falls back to Eigen decomposition.\n",
      "Error: Cholesky decomposition failed. Falls back to Eigen decomposition.\n",
      "Error: Cholesky decomposition failed. Falls back to Eigen decomposition.\n",
      "Error: Cholesky decomposition failed. Falls back to Eigen decomposition.\n",
      "Error: Cholesky decomposition failed. Falls back to Eigen decomposition.\n",
      "Error: Cholesky decomposition failed. Falls back to Eigen decomposition.\n",
      "Error: Cholesky decomposition failed. Falls back to Eigen decomposition.\n",
      "Error: Cholesky decomposition failed. Falls back to Eigen decomposition.\n",
      "Error: Cholesky decomposition failed. Falls back to Eigen decomposition.\n",
      "Error: Cholesky decomposition failed. Falls back to Eigen decomposition.\n",
      "Error: Cholesky decomposition failed. Falls back to Eigen decomposition.\n",
      "Error: Cholesky decomposition failed. Falls back to Eigen decomposition.\n",
      "Error: Cholesky decomposition failed. Falls back to Eigen decomposition.\n",
      "Error: Cholesky decomposition failed. Falls back to Eigen decomposition.\n",
      "Error: Cholesky decomposition failed. Falls back to Eigen decomposition.\n",
      "Error: Cholesky decomposition failed. Falls back to Eigen decomposition.\n",
      "Error: Cholesky decomposition failed. Falls back to Eigen decomposition.\n",
      "Error: Cholesky decomposition failed. Falls back to Eigen decomposition.\n",
      "Error: Cholesky decomposition failed. Falls back to Eigen decomposition.\n",
      "Error: Cholesky decomposition failed. Falls back to Eigen decomposition.\n",
      "Error: Cholesky decomposition failed. Falls back to Eigen decomposition.\n",
      "Error: Cholesky decomposition failed. Falls back to Eigen decomposition.\n",
      "Error: Cholesky decomposition failed. Falls back to Eigen decomposition.\n",
      "Error: Cholesky decomposition failed. Falls back to Eigen decomposition.\n",
      "Error: Cholesky decomposition failed. Falls back to Eigen decomposition.\n",
      "Error: Cholesky decomposition failed. Falls back to Eigen decomposition.\n",
      "Error: Cholesky decomposition failed. Falls back to Eigen decomposition.\n"
     ]
    },
    {
     "name": "stdout",
     "output_type": "stream",
     "text": [
      "\n"
     ]
    },
    {
     "data": {
      "application/vnd.jupyter.widget-view+json": {
       "model_id": "68c53cc003e44ab493f7a6e5e95aa4a0",
       "version_major": 2,
       "version_minor": 0
      },
      "text/plain": [
       "HBox(children=(HTML(value='Samples collected'), FloatProgress(value=0.0), HTML(value='')))"
      ]
     },
     "metadata": {},
     "output_type": "display_data"
    },
    {
     "name": "stderr",
     "output_type": "stream",
     "text": [
      "Error: Cholesky decomposition failed. Falls back to Eigen decomposition.\n",
      "Error: Cholesky decomposition failed. Falls back to Eigen decomposition.\n",
      "Error: Cholesky decomposition failed. Falls back to Eigen decomposition.\n",
      "Error: Cholesky decomposition failed. Falls back to Eigen decomposition.\n",
      "Error: Cholesky decomposition failed. Falls back to Eigen decomposition.\n",
      "Error: Cholesky decomposition failed. Falls back to Eigen decomposition.\n",
      "Error: Cholesky decomposition failed. Falls back to Eigen decomposition.\n",
      "Error: Cholesky decomposition failed. Falls back to Eigen decomposition.\n",
      "Error: Cholesky decomposition failed. Falls back to Eigen decomposition.\n",
      "Error: Cholesky decomposition failed. Falls back to Eigen decomposition.\n",
      "Error: Cholesky decomposition failed. Falls back to Eigen decomposition.\n",
      "Error: Cholesky decomposition failed. Falls back to Eigen decomposition.\n",
      "Error: Cholesky decomposition failed. Falls back to Eigen decomposition.\n",
      "Error: Cholesky decomposition failed. Falls back to Eigen decomposition.\n",
      "Error: Cholesky decomposition failed. Falls back to Eigen decomposition.\n",
      "Error: Cholesky decomposition failed. Falls back to Eigen decomposition.\n",
      "Error: Cholesky decomposition failed. Falls back to Eigen decomposition.\n",
      "Error: Cholesky decomposition failed. Falls back to Eigen decomposition.\n",
      "Error: Cholesky decomposition failed. Falls back to Eigen decomposition.\n",
      "Error: Cholesky decomposition failed. Falls back to Eigen decomposition.\n",
      "Error: Cholesky decomposition failed. Falls back to Eigen decomposition.\n",
      "Error: Cholesky decomposition failed. Falls back to Eigen decomposition.\n",
      "Error: Cholesky decomposition failed. Falls back to Eigen decomposition.\n",
      "Error: Cholesky decomposition failed. Falls back to Eigen decomposition.\n",
      "Error: Cholesky decomposition failed. Falls back to Eigen decomposition.\n",
      "Error: Cholesky decomposition failed. Falls back to Eigen decomposition.\n",
      "Error: Cholesky decomposition failed. Falls back to Eigen decomposition.\n",
      "Error: Cholesky decomposition failed. Falls back to Eigen decomposition.\n",
      "Error: Cholesky decomposition failed. Falls back to Eigen decomposition.\n",
      "Error: Cholesky decomposition failed. Falls back to Eigen decomposition.\n",
      "Error: Cholesky decomposition failed. Falls back to Eigen decomposition.\n",
      "Error: Cholesky decomposition failed. Falls back to Eigen decomposition.\n",
      "Error: Cholesky decomposition failed. Falls back to Eigen decomposition.\n",
      "Error: Cholesky decomposition failed. Falls back to Eigen decomposition.\n",
      "Error: Cholesky decomposition failed. Falls back to Eigen decomposition.\n",
      "Error: Cholesky decomposition failed. Falls back to Eigen decomposition.\n",
      "Error: Cholesky decomposition failed. Falls back to Eigen decomposition.\n",
      "Error: Cholesky decomposition failed. Falls back to Eigen decomposition.\n",
      "Error: Cholesky decomposition failed. Falls back to Eigen decomposition.\n"
     ]
    },
    {
     "name": "stdout",
     "output_type": "stream",
     "text": [
      "\n"
     ]
    },
    {
     "data": {
      "application/vnd.jupyter.widget-view+json": {
       "model_id": "1f956aa1bf144740ab455b6178933ed1",
       "version_major": 2,
       "version_minor": 0
      },
      "text/plain": [
       "HBox(children=(HTML(value='Samples collected'), FloatProgress(value=0.0), HTML(value='')))"
      ]
     },
     "metadata": {},
     "output_type": "display_data"
    },
    {
     "name": "stderr",
     "output_type": "stream",
     "text": [
      "Error: Cholesky decomposition failed. Falls back to Eigen decomposition.\n",
      "Error: Cholesky decomposition failed. Falls back to Eigen decomposition.\n",
      "Error: Cholesky decomposition failed. Falls back to Eigen decomposition.\n",
      "Error: Cholesky decomposition failed. Falls back to Eigen decomposition.\n",
      "Error: Cholesky decomposition failed. Falls back to Eigen decomposition.\n",
      "Error: Cholesky decomposition failed. Falls back to Eigen decomposition.\n",
      "Error: Cholesky decomposition failed. Falls back to Eigen decomposition.\n",
      "Error: Cholesky decomposition failed. Falls back to Eigen decomposition.\n",
      "Error: Cholesky decomposition failed. Falls back to Eigen decomposition.\n",
      "Error: Cholesky decomposition failed. Falls back to Eigen decomposition.\n",
      "Error: Cholesky decomposition failed. Falls back to Eigen decomposition.\n",
      "Error: Cholesky decomposition failed. Falls back to Eigen decomposition.\n",
      "Error: Cholesky decomposition failed. Falls back to Eigen decomposition.\n",
      "Error: Cholesky decomposition failed. Falls back to Eigen decomposition.\n",
      "Error: Cholesky decomposition failed. Falls back to Eigen decomposition.\n",
      "Error: Cholesky decomposition failed. Falls back to Eigen decomposition.\n",
      "Error: Cholesky decomposition failed. Falls back to Eigen decomposition.\n",
      "Error: Cholesky decomposition failed. Falls back to Eigen decomposition.\n",
      "Error: Cholesky decomposition failed. Falls back to Eigen decomposition.\n",
      "Error: Cholesky decomposition failed. Falls back to Eigen decomposition.\n",
      "Error: Cholesky decomposition failed. Falls back to Eigen decomposition.\n",
      "Error: Cholesky decomposition failed. Falls back to Eigen decomposition.\n",
      "Error: Cholesky decomposition failed. Falls back to Eigen decomposition.\n",
      "Error: Cholesky decomposition failed. Falls back to Eigen decomposition.\n",
      "Error: Cholesky decomposition failed. Falls back to Eigen decomposition.\n",
      "Error: Cholesky decomposition failed. Falls back to Eigen decomposition.\n",
      "Error: Cholesky decomposition failed. Falls back to Eigen decomposition.\n",
      "Error: Cholesky decomposition failed. Falls back to Eigen decomposition.\n",
      "Error: Cholesky decomposition failed. Falls back to Eigen decomposition.\n",
      "Error: Cholesky decomposition failed. Falls back to Eigen decomposition.\n",
      "Error: Cholesky decomposition failed. Falls back to Eigen decomposition.\n",
      "Error: Cholesky decomposition failed. Falls back to Eigen decomposition.\n",
      "Error: Cholesky decomposition failed. Falls back to Eigen decomposition.\n",
      "Error: Cholesky decomposition failed. Falls back to Eigen decomposition.\n"
     ]
    },
    {
     "name": "stdout",
     "output_type": "stream",
     "text": [
      "\n"
     ]
    },
    {
     "data": {
      "application/vnd.jupyter.widget-view+json": {
       "model_id": "b523cfd67d0640bebe95c9a8dc4f232e",
       "version_major": 2,
       "version_minor": 0
      },
      "text/plain": [
       "HBox(children=(HTML(value='Samples collected'), FloatProgress(value=0.0), HTML(value='')))"
      ]
     },
     "metadata": {},
     "output_type": "display_data"
    },
    {
     "name": "stderr",
     "output_type": "stream",
     "text": [
      "Error: Cholesky decomposition failed. Falls back to Eigen decomposition.\n",
      "Error: Cholesky decomposition failed. Falls back to Eigen decomposition.\n",
      "Error: Cholesky decomposition failed. Falls back to Eigen decomposition.\n",
      "Error: Cholesky decomposition failed. Falls back to Eigen decomposition.\n",
      "Error: Cholesky decomposition failed. Falls back to Eigen decomposition.\n",
      "Error: Cholesky decomposition failed. Falls back to Eigen decomposition.\n",
      "Error: Cholesky decomposition failed. Falls back to Eigen decomposition.\n",
      "Error: Cholesky decomposition failed. Falls back to Eigen decomposition.\n",
      "Error: Cholesky decomposition failed. Falls back to Eigen decomposition.\n",
      "Error: Cholesky decomposition failed. Falls back to Eigen decomposition.\n",
      "Error: Cholesky decomposition failed. Falls back to Eigen decomposition.\n",
      "Error: Cholesky decomposition failed. Falls back to Eigen decomposition.\n",
      "Error: Cholesky decomposition failed. Falls back to Eigen decomposition.\n",
      "Error: Cholesky decomposition failed. Falls back to Eigen decomposition.\n",
      "Error: Cholesky decomposition failed. Falls back to Eigen decomposition.\n",
      "Error: Cholesky decomposition failed. Falls back to Eigen decomposition.\n",
      "Error: Cholesky decomposition failed. Falls back to Eigen decomposition.\n",
      "Error: Cholesky decomposition failed. Falls back to Eigen decomposition.\n",
      "Error: Cholesky decomposition failed. Falls back to Eigen decomposition.\n",
      "Error: Cholesky decomposition failed. Falls back to Eigen decomposition.\n",
      "Error: Cholesky decomposition failed. Falls back to Eigen decomposition.\n",
      "Error: Cholesky decomposition failed. Falls back to Eigen decomposition.\n",
      "Error: Cholesky decomposition failed. Falls back to Eigen decomposition.\n",
      "Error: Cholesky decomposition failed. Falls back to Eigen decomposition.\n",
      "Error: Cholesky decomposition failed. Falls back to Eigen decomposition.\n",
      "Error: Cholesky decomposition failed. Falls back to Eigen decomposition.\n"
     ]
    },
    {
     "name": "stdout",
     "output_type": "stream",
     "text": [
      "\n"
     ]
    },
    {
     "data": {
      "application/vnd.jupyter.widget-view+json": {
       "model_id": "567e5d0a1aa24bed81619635b20ebaa0",
       "version_major": 2,
       "version_minor": 0
      },
      "text/plain": [
       "HBox(children=(HTML(value='Samples collected'), FloatProgress(value=0.0), HTML(value='')))"
      ]
     },
     "metadata": {},
     "output_type": "display_data"
    },
    {
     "name": "stderr",
     "output_type": "stream",
     "text": [
      "Error: Cholesky decomposition failed. Falls back to Eigen decomposition.\n",
      "Error: Cholesky decomposition failed. Falls back to Eigen decomposition.\n",
      "Error: Cholesky decomposition failed. Falls back to Eigen decomposition.\n",
      "Error: Cholesky decomposition failed. Falls back to Eigen decomposition.\n",
      "Error: Cholesky decomposition failed. Falls back to Eigen decomposition.\n",
      "Error: Cholesky decomposition failed. Falls back to Eigen decomposition.\n",
      "Error: Cholesky decomposition failed. Falls back to Eigen decomposition.\n",
      "Error: Cholesky decomposition failed. Falls back to Eigen decomposition.\n",
      "Error: Cholesky decomposition failed. Falls back to Eigen decomposition.\n",
      "Error: Cholesky decomposition failed. Falls back to Eigen decomposition.\n",
      "Error: Cholesky decomposition failed. Falls back to Eigen decomposition.\n",
      "Error: Cholesky decomposition failed. Falls back to Eigen decomposition.\n",
      "Error: Cholesky decomposition failed. Falls back to Eigen decomposition.\n",
      "Error: Cholesky decomposition failed. Falls back to Eigen decomposition.\n",
      "Error: Cholesky decomposition failed. Falls back to Eigen decomposition.\n",
      "Error: Cholesky decomposition failed. Falls back to Eigen decomposition.\n",
      "Error: Cholesky decomposition failed. Falls back to Eigen decomposition.\n",
      "Error: Cholesky decomposition failed. Falls back to Eigen decomposition.\n",
      "Error: Cholesky decomposition failed. Falls back to Eigen decomposition.\n",
      "Error: Cholesky decomposition failed. Falls back to Eigen decomposition.\n",
      "Error: Cholesky decomposition failed. Falls back to Eigen decomposition.\n",
      "Error: Cholesky decomposition failed. Falls back to Eigen decomposition.\n",
      "Error: Cholesky decomposition failed. Falls back to Eigen decomposition.\n",
      "Error: Cholesky decomposition failed. Falls back to Eigen decomposition.\n",
      "Error: Cholesky decomposition failed. Falls back to Eigen decomposition.\n",
      "Error: Cholesky decomposition failed. Falls back to Eigen decomposition.\n",
      "Error: Cholesky decomposition failed. Falls back to Eigen decomposition.\n",
      "Error: Cholesky decomposition failed. Falls back to Eigen decomposition.\n",
      "Error: Cholesky decomposition failed. Falls back to Eigen decomposition.\n",
      "Error: Cholesky decomposition failed. Falls back to Eigen decomposition.\n",
      "Error: Cholesky decomposition failed. Falls back to Eigen decomposition.\n",
      "Error: Cholesky decomposition failed. Falls back to Eigen decomposition.\n",
      "Error: Cholesky decomposition failed. Falls back to Eigen decomposition.\n",
      "Error: Cholesky decomposition failed. Falls back to Eigen decomposition.\n",
      "Error: Cholesky decomposition failed. Falls back to Eigen decomposition.\n",
      "Error: Cholesky decomposition failed. Falls back to Eigen decomposition.\n"
     ]
    },
    {
     "name": "stdout",
     "output_type": "stream",
     "text": [
      "\n"
     ]
    },
    {
     "data": {
      "application/vnd.jupyter.widget-view+json": {
       "model_id": "7e01d0990ecd4247917c30625378b319",
       "version_major": 2,
       "version_minor": 0
      },
      "text/plain": [
       "HBox(children=(HTML(value='Samples collected'), FloatProgress(value=0.0), HTML(value='')))"
      ]
     },
     "metadata": {},
     "output_type": "display_data"
    },
    {
     "name": "stdout",
     "output_type": "stream",
     "text": [
      "\n"
     ]
    },
    {
     "data": {
      "application/vnd.jupyter.widget-view+json": {
       "model_id": "779619af1e704c8ab68efe2a10819c0b",
       "version_major": 2,
       "version_minor": 0
      },
      "text/plain": [
       "HBox(children=(HTML(value='Samples collected'), FloatProgress(value=0.0), HTML(value='')))"
      ]
     },
     "metadata": {},
     "output_type": "display_data"
    },
    {
     "name": "stdout",
     "output_type": "stream",
     "text": [
      "\n"
     ]
    },
    {
     "data": {
      "application/vnd.jupyter.widget-view+json": {
       "model_id": "1499275c096840b6a8a21e43fa6b4cd9",
       "version_major": 2,
       "version_minor": 0
      },
      "text/plain": [
       "HBox(children=(HTML(value='Samples collected'), FloatProgress(value=0.0), HTML(value='')))"
      ]
     },
     "metadata": {},
     "output_type": "display_data"
    },
    {
     "name": "stdout",
     "output_type": "stream",
     "text": [
      "\n"
     ]
    },
    {
     "data": {
      "application/vnd.jupyter.widget-view+json": {
       "model_id": "91e5d55515884f40a60cd59d3ae141e8",
       "version_major": 2,
       "version_minor": 0
      },
      "text/plain": [
       "HBox(children=(HTML(value='Samples collected'), FloatProgress(value=0.0), HTML(value='')))"
      ]
     },
     "metadata": {},
     "output_type": "display_data"
    },
    {
     "name": "stdout",
     "output_type": "stream",
     "text": [
      "\n"
     ]
    },
    {
     "data": {
      "application/vnd.jupyter.widget-view+json": {
       "model_id": "727a527d3d584746a9f6e7077cd46fcf",
       "version_major": 2,
       "version_minor": 0
      },
      "text/plain": [
       "HBox(children=(HTML(value='Samples collected'), FloatProgress(value=0.0), HTML(value='')))"
      ]
     },
     "metadata": {},
     "output_type": "display_data"
    },
    {
     "name": "stdout",
     "output_type": "stream",
     "text": [
      "\n"
     ]
    },
    {
     "data": {
      "application/vnd.jupyter.widget-view+json": {
       "model_id": "58609e94ba7a4327b8fc712a1706a409",
       "version_major": 2,
       "version_minor": 0
      },
      "text/plain": [
       "HBox(children=(HTML(value='Samples collected'), FloatProgress(value=0.0), HTML(value='')))"
      ]
     },
     "metadata": {},
     "output_type": "display_data"
    },
    {
     "name": "stdout",
     "output_type": "stream",
     "text": [
      "\n"
     ]
    },
    {
     "data": {
      "application/vnd.jupyter.widget-view+json": {
       "model_id": "f8d8a2d67b5041c8b5d83036daeff885",
       "version_major": 2,
       "version_minor": 0
      },
      "text/plain": [
       "HBox(children=(HTML(value='Samples collected'), FloatProgress(value=0.0), HTML(value='')))"
      ]
     },
     "metadata": {},
     "output_type": "display_data"
    },
    {
     "name": "stdout",
     "output_type": "stream",
     "text": [
      "\n"
     ]
    },
    {
     "data": {
      "application/vnd.jupyter.widget-view+json": {
       "model_id": "c0c38f3ca9cb4c48a069213d621399c4",
       "version_major": 2,
       "version_minor": 0
      },
      "text/plain": [
       "HBox(children=(HTML(value='Samples collected'), FloatProgress(value=0.0), HTML(value='')))"
      ]
     },
     "metadata": {},
     "output_type": "display_data"
    },
    {
     "name": "stdout",
     "output_type": "stream",
     "text": [
      "\n"
     ]
    },
    {
     "data": {
      "application/vnd.jupyter.widget-view+json": {
       "model_id": "31cd64832b82442380f5cddf0e0b9447",
       "version_major": 2,
       "version_minor": 0
      },
      "text/plain": [
       "HBox(children=(HTML(value='Samples collected'), FloatProgress(value=0.0), HTML(value='')))"
      ]
     },
     "metadata": {},
     "output_type": "display_data"
    },
    {
     "name": "stdout",
     "output_type": "stream",
     "text": [
      "\n"
     ]
    },
    {
     "data": {
      "application/vnd.jupyter.widget-view+json": {
       "model_id": "80a98da4d157461496a2dd5718b1ff93",
       "version_major": 2,
       "version_minor": 0
      },
      "text/plain": [
       "HBox(children=(HTML(value='Samples collected'), FloatProgress(value=0.0), HTML(value='')))"
      ]
     },
     "metadata": {},
     "output_type": "display_data"
    },
    {
     "name": "stdout",
     "output_type": "stream",
     "text": [
      "\n"
     ]
    }
   ],
   "source": [
    "results = []\n",
    "\n",
    "for target in [\n",
    "    normal(),\n",
    "    student(10.0),\n",
    "    student(5.0),\n",
    "    student(3.0),\n",
    "    student(1.0),\n",
    "]:\n",
    "    for sampler in [\n",
    "        bm.SingleSiteNewtonianMonteCarlo(),\n",
    "        bm.SingleSiteRandomWalk(),\n",
    "    ]:\n",
    "        samples = sampler.infer(\n",
    "            queries=[target],\n",
    "            observations={},\n",
    "            num_chains=10,\n",
    "            num_samples=100,\n",
    "        )\n",
    "        log_prob = target.function(*target.arguments).log_prob(samples[target])\n",
    "        results.append((target, sampler, log_prob))"
   ]
  },
  {
   "cell_type": "code",
   "execution_count": 75,
   "id": "unique-hungarian",
   "metadata": {},
   "outputs": [
    {
     "name": "stderr",
     "output_type": "stream",
     "text": [
      "<ipython-input-75-b5250a126c80>:17: MatplotlibDeprecationWarning: Case-insensitive properties were deprecated in 3.3 and support will be removed two minor releases later\n",
      "  ax.set_xticklabels(ax.get_xticklabels(), Rotation=90)\n"
     ]
    },
    {
     "data": {
      "text/plain": [
       "[Text(0, 0, 'Normal(loc: 0.0, scale: 1.0)'),\n",
       " Text(1, 0, 'StudentT(df: 10.0, loc: 0.0, scale: 1.0)'),\n",
       " Text(2, 0, 'StudentT(df: 5.0, loc: 0.0, scale: 1.0)'),\n",
       " Text(3, 0, 'StudentT(df: 3.0, loc: 0.0, scale: 1.0)'),\n",
       " Text(4, 0, 'StudentT(df: 1.0, loc: 0.0, scale: 1.0)')]"
      ]
     },
     "execution_count": 75,
     "metadata": {},
     "output_type": "execute_result"
    },
    {
     "data": {
      "image/png": "[encoded data removed]",
      "text/plain": [
       "<Figure size 432x288 with 1 Axes>"
      ]
     },
     "metadata": {},
     "output_type": "display_data"
    }
   ],
   "source": [
    "import pandas as pd\n",
    "import seaborn as sns\n",
    "\n",
    "sns.set_style(\"darkgrid\")\n",
    "\n",
    "ax = sns.barplot(\n",
    "    data=pd.DataFrame(\n",
    "        data=map(\n",
    "            lambda x: (\n",
    "                str(x[0].function(*x[0].arguments)),\n",
    "                str(type(x[1])).split('.')[-1][:-2],\n",
    "                x[2].mean().item()),\n",
    "            results),\n",
    "        columns=['target','method','log_prob'],    \n",
    "    ),\n",
    "    y='log_prob', x='target', hue='method')\n",
    "ax.set_xticklabels(ax.get_xticklabels(), Rotation=90)"
   ]
  },
  {
   "cell_type": "code",
   "execution_count": 90,
   "id": "extended-wednesday",
   "metadata": {},
   "outputs": [
    {
     "data": {
      "image/png": "[encoded data removed]",
      "text/plain": [
       "<Figure size 432x288 with 1 Axes>"
      ]
     },
     "metadata": {},
     "output_type": "display_data"
    }
   ],
   "source": [
    "import itertools\n",
    "\n",
    "\n",
    "\n",
    "import pandas as pd\n",
    "import seaborn as sns\n",
    "import matplotlib.pyplot as plt\n",
    "\n",
    "sns.set_style(\"darkgrid\")\n",
    "\n",
    "ax = sns.barplot(\n",
    "    data=pd.DataFrame(itertools.chain(*map(\n",
    "        lambda x:\n",
    "            list(map(\n",
    "                lambda y: (\n",
    "                    str(x[0].function(*x[0].arguments)),\n",
    "                    str(type(x[1])).split('.')[-1][:-2],\n",
    "                    y\n",
    "                ),\n",
    "                x[2].flatten().numpy()\n",
    "            )),\n",
    "        results)),\n",
    "        columns=['target','method','log_prob'],    \n",
    "    ),\n",
    "    y='log_prob', x='target', hue='method')\n",
    "ax.set_xticklabels(ax.get_xticklabels(), rotation=90);\n",
    "plt.show()"
   ]
  },
  {
   "cell_type": "code",
   "execution_count": null,
   "id": "emerging-mandate",
   "metadata": {},
   "outputs": [],
   "source": []
  }
 ],
 "metadata": {
  "kernelspec": {
   "display_name": "Python 3",
   "language": "python",
   "name": "python3"
  },
  "language_info": {
   "codemirror_mode": {
    "name": "ipython",
    "version": 3
   },
   "file_extension": ".py",
   "mimetype": "text/x-python",
   "name": "python",
   "nbconvert_exporter": "python",
   "pygments_lexer": "ipython3",
   "version": "3.8.5"
  }
 },
 "nbformat": 4,
 "nbformat_minor": 5
}
